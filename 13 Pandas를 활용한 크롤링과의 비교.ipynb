{
 "cells": [
  {
   "cell_type": "markdown",
   "metadata": {},
   "source": [
    "Pandas는 파이썬용 데이터분석/데이터전처리 라이브러리이다. \n",
    "\n",
    "**Pandas에서는 read_html** 함수가 제공이 되는데, 문자열로 URL을 지정한다면 해당 페이지에 직접 HTTP 요청을 보내어 응답을 받고 table 태그를 찾아 직접 파싱하여 DataFrame 객체 리스트를 만들어 준다. 크롤링 시에 엄청 유용한데 이 방법의 장단점에 대해서 살펴본다.\n",
    "\n",
    "[참고] https://pandas.pydata.org/pandas-docs/version/0.23.4/generated/pandas.read_html.html\n",
    "\n",
    "* 다만, 이 방법은 웹페이지의 크롤링 내용이 tabel 태그 안에 온전히 다 있을 경우에만 사용한다.\n",
    "\n",
    "## 벅스 챠트"
   ]
  },
  {
   "cell_type": "code",
   "execution_count": 2,
   "metadata": {},
   "outputs": [],
   "source": [
    "import pandas as pd\n",
    "import html5lib"
   ]
  },
  {
   "cell_type": "code",
   "execution_count": 3,
   "metadata": {},
   "outputs": [
    {
     "data": {
      "text/plain": [
       "2"
      ]
     },
     "execution_count": 3,
     "metadata": {},
     "output_type": "execute_result"
    }
   ],
   "source": [
    "df_list = pd.read_html(\"https://music.bugs.co.kr/chart\")\n",
    "len(df_list)"
   ]
  },
  {
   "cell_type": "code",
   "execution_count": 8,
   "metadata": {},
   "outputs": [],
   "source": [
    "df = df_list[0]"
   ]
  },
  {
   "cell_type": "code",
   "execution_count": 9,
   "metadata": {},
   "outputs": [
    {
     "data": {
      "text/plain": [
       "Index(['Unnamed: 0', '순위', 'Unnamed: 2', 'Unnamed: 3', '곡', '아티스트', '앨범', '듣기',\n",
       "       '재생목록', '내앨범', '다운', '영상', '기타'],\n",
       "      dtype='object')"
      ]
     },
     "execution_count": 9,
     "metadata": {},
     "output_type": "execute_result"
    }
   ],
   "source": [
    "df.columns"
   ]
  },
  {
   "cell_type": "code",
   "execution_count": 12,
   "metadata": {},
   "outputs": [
    {
     "data": {
      "text/html": [
       "<div>\n",
       "<style scoped>\n",
       "    .dataframe tbody tr th:only-of-type {\n",
       "        vertical-align: middle;\n",
       "    }\n",
       "\n",
       "    .dataframe tbody tr th {\n",
       "        vertical-align: top;\n",
       "    }\n",
       "\n",
       "    .dataframe thead th {\n",
       "        text-align: right;\n",
       "    }\n",
       "</style>\n",
       "<table border=\"1\" class=\"dataframe\">\n",
       "  <thead>\n",
       "    <tr style=\"text-align: right;\">\n",
       "      <th></th>\n",
       "      <th>곡</th>\n",
       "      <th>아티스트</th>\n",
       "      <th>앨범</th>\n",
       "    </tr>\n",
       "  </thead>\n",
       "  <tbody>\n",
       "    <tr>\n",
       "      <td>0</td>\n",
       "      <td>Make It Right (feat. Lauv)</td>\n",
       "      <td>방탄소년단</td>\n",
       "      <td>Make It Right (feat. Lauv)</td>\n",
       "    </tr>\n",
       "    <tr>\n",
       "      <td>1</td>\n",
       "      <td>새 사랑</td>\n",
       "      <td>송하예</td>\n",
       "      <td>새 사랑</td>\n",
       "    </tr>\n",
       "    <tr>\n",
       "      <td>2</td>\n",
       "      <td>어떻게 이별까지 사랑하겠어, 널 사랑하는 거지</td>\n",
       "      <td>AKMU (악동뮤지션)</td>\n",
       "      <td>항해</td>\n",
       "    </tr>\n",
       "    <tr>\n",
       "      <td>3</td>\n",
       "      <td>흔들리는 꽃들 속에서 네 샴푸향이 느껴진거야</td>\n",
       "      <td>장범준</td>\n",
       "      <td>멜로가 체질 OST Part 3</td>\n",
       "    </tr>\n",
       "    <tr>\n",
       "      <td>4</td>\n",
       "      <td>떨어지는 낙엽까지도</td>\n",
       "      <td>헤이즈(Heize)</td>\n",
       "      <td>만추</td>\n",
       "    </tr>\n",
       "  </tbody>\n",
       "</table>\n",
       "</div>"
      ],
      "text/plain": [
       "                            곡          아티스트                          앨범\n",
       "0  Make It Right (feat. Lauv)         방탄소년단  Make It Right (feat. Lauv)\n",
       "1                        새 사랑           송하예                        새 사랑\n",
       "2   어떻게 이별까지 사랑하겠어, 널 사랑하는 거지  AKMU (악동뮤지션)                          항해\n",
       "3    흔들리는 꽃들 속에서 네 샴푸향이 느껴진거야           장범준           멜로가 체질 OST Part 3\n",
       "4                  떨어지는 낙엽까지도    헤이즈(Heize)                          만추"
      ]
     },
     "execution_count": 12,
     "metadata": {},
     "output_type": "execute_result"
    }
   ],
   "source": [
    "df = df[['곡', '아티스트', '앨범']]\n",
    "df.head()"
   ]
  },
  {
   "cell_type": "markdown",
   "metadata": {},
   "source": [
    "## 멜론 차트"
   ]
  },
  {
   "cell_type": "code",
   "execution_count": null,
   "metadata": {},
   "outputs": [],
   "source": [
    "import requests\n",
    "headers = {\n",
    "    \"User-Agent\": \"Mozilla/5.0 (Macintosh; Intel Mac OS X 10_13_6) AppleWebKit/537.36 (KHTML, like Gecko) Chrome/77.0.3865.120 Safari/537.36\",\n",
    "    \"Referer\": \"https://www.melon.com/chart/\"\n",
    "}\n",
    "\n",
    "res = requests.get(\"https://www.melon.com/chart/\", headers=headers)\n",
    "html = res.text\n",
    "\n",
    "df_list = pd.read_html(html)\n",
    "len(df_list)"
   ]
  },
  {
   "cell_type": "code",
   "execution_count": 23,
   "metadata": {},
   "outputs": [
    {
     "data": {
      "text/html": [
       "<div>\n",
       "<style scoped>\n",
       "    .dataframe tbody tr th:only-of-type {\n",
       "        vertical-align: middle;\n",
       "    }\n",
       "\n",
       "    .dataframe tbody tr th {\n",
       "        vertical-align: top;\n",
       "    }\n",
       "\n",
       "    .dataframe thead th {\n",
       "        text-align: right;\n",
       "    }\n",
       "</style>\n",
       "<table border=\"1\" class=\"dataframe\">\n",
       "  <thead>\n",
       "    <tr style=\"text-align: right;\">\n",
       "      <th></th>\n",
       "      <th>곡정보</th>\n",
       "      <th>앨범</th>\n",
       "    </tr>\n",
       "  </thead>\n",
       "  <tbody>\n",
       "    <tr>\n",
       "      <td>0</td>\n",
       "      <td>어떻게 이별까지 사랑하겠어, 널 사랑하는 거지  AKMU (악동뮤지션)</td>\n",
       "      <td>항해</td>\n",
       "    </tr>\n",
       "    <tr>\n",
       "      <td>1</td>\n",
       "      <td>흔들리는 꽃들 속에서 네 샴푸향이 느껴진거야  장범준</td>\n",
       "      <td>멜로가 체질 OST Part 3</td>\n",
       "    </tr>\n",
       "    <tr>\n",
       "      <td>2</td>\n",
       "      <td>새 사랑  송하예</td>\n",
       "      <td>새 사랑</td>\n",
       "    </tr>\n",
       "    <tr>\n",
       "      <td>3</td>\n",
       "      <td>조금 취했어 (Prod. 2soo)  임재현</td>\n",
       "      <td>조금 취했어</td>\n",
       "    </tr>\n",
       "    <tr>\n",
       "      <td>4</td>\n",
       "      <td>있어줘요  장덕철</td>\n",
       "      <td>있어줘요</td>\n",
       "    </tr>\n",
       "  </tbody>\n",
       "</table>\n",
       "</div>"
      ],
      "text/plain": [
       "                                       곡정보                 앨범\n",
       "0  어떻게 이별까지 사랑하겠어, 널 사랑하는 거지  AKMU (악동뮤지션)                 항해\n",
       "1            흔들리는 꽃들 속에서 네 샴푸향이 느껴진거야  장범준  멜로가 체질 OST Part 3\n",
       "2                                새 사랑  송하예               새 사랑\n",
       "3                 조금 취했어 (Prod. 2soo)  임재현             조금 취했어\n",
       "4                                있어줘요  장덕철               있어줘요"
      ]
     },
     "execution_count": 23,
     "metadata": {},
     "output_type": "execute_result"
    }
   ],
   "source": [
    "df = df_list[0]\n",
    "df = df[[\"곡정보\", '앨범']]\n",
    "df.head()"
   ]
  },
  {
   "cell_type": "code",
   "execution_count": 25,
   "metadata": {},
   "outputs": [
    {
     "data": {
      "text/plain": [
       "\"'어떻게 이별까지 사랑하겠어, 널 사랑하는 거지  AKMU (악동뮤지션)'\""
      ]
     },
     "execution_count": 25,
     "metadata": {},
     "output_type": "execute_result"
    }
   ],
   "source": [
    "repr(df['곡정보'][0])"
   ]
  },
  {
   "cell_type": "markdown",
   "metadata": {},
   "source": [
    "#### 컬럼이 잘 구분되어 있지 않아, pandas.read_html을 사용하기 보다 직접 크롤링을 하는 것이 좋다."
   ]
  },
  {
   "cell_type": "code",
   "execution_count": null,
   "metadata": {},
   "outputs": [],
   "source": []
  }
 ],
 "metadata": {
  "kernelspec": {
   "display_name": "Python 3",
   "language": "python",
   "name": "python3"
  },
  "language_info": {
   "codemirror_mode": {
    "name": "ipython",
    "version": 3
   },
   "file_extension": ".py",
   "mimetype": "text/x-python",
   "name": "python",
   "nbconvert_exporter": "python",
   "pygments_lexer": "ipython3",
   "version": "3.7.3"
  }
 },
 "nbformat": 4,
 "nbformat_minor": 2
}
