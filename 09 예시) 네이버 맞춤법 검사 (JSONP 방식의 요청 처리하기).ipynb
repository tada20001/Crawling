{
 "cells": [
  {
   "cell_type": "markdown",
   "metadata": {},
   "source": [
    "웹상에서 자바스크립트를 통해서 정보를 보내고 처리하는 웹을 스크롤링하기\n",
    "\n",
    "* 개발자도구 < network < headers가 GET 요청일 경우, Request URL 주소가 그대로 보내진다.\n",
    "* 여기에서는 이 주소를 흉내내어 크롤링을 시도한다."
   ]
  },
  {
   "cell_type": "code",
   "execution_count": 1,
   "metadata": {},
   "outputs": [
    {
     "data": {
      "text/plain": [
       "<Response [200]>"
      ]
     },
     "execution_count": 1,
     "metadata": {},
     "output_type": "execute_result"
    }
   ],
   "source": [
    "import requests\n",
    "\n",
    "page_url = \"https://m.search.naver.com/p/csearch/ocontent/util/SpellerProxy\"\n",
    "params = {\n",
    "    #\"_callback\": \"jQuery11240733170739760759_1571369758105\",   # & 구분  JSONP 형식. 생략 가능\n",
    "    '_callback': \"_\",\n",
    "    \"q\": \"아버지가방에들어가신다.\", \n",
    "    \"where\": \"nexearch\", \n",
    "    \"color_blindness\": 0, \n",
    "    #\"_\": 1571369758107  # _ 는 time stamp 생략 가능\n",
    "}  \n",
    "res = requests.get(page_url, params=params)\n",
    "res"
   ]
  },
  {
   "cell_type": "code",
   "execution_count": 2,
   "metadata": {},
   "outputs": [
    {
     "data": {
      "text/plain": [
       "1571381418.803977"
      ]
     },
     "execution_count": 2,
     "metadata": {},
     "output_type": "execute_result"
    }
   ],
   "source": [
    "import time\n",
    "time.time()"
   ]
  },
  {
   "cell_type": "code",
   "execution_count": 3,
   "metadata": {},
   "outputs": [
    {
     "data": {
      "text/plain": [
       "'{\"message\":{\"result\":{\"errata_count\":1,\"origin_html\":\"<span class=\\'result_underline\\'>아버지가방에들어가신다.</span>\",\"html\":\"<em class=\\'green_text\\'>아버지가 방에 들어가신다.</em>\",\"notag_html\":\"아버지가 방에 들어가신다.\"}}}'"
      ]
     },
     "execution_count": 3,
     "metadata": {},
     "output_type": "execute_result"
    }
   ],
   "source": [
    "import re\n",
    "json_string = res.text\n",
    "json_string = re.sub(r'(^_\\(|\\);$)', '', json_string)\n",
    "json_string  # callback의 _ 삭제"
   ]
  },
  {
   "cell_type": "markdown",
   "metadata": {},
   "source": [
    "### JSONP\n",
    "* 브라우저의 Same-Origin 정책으로 인해 동일 도메인에 대해서만 Ajax 요청 가능\n",
    "* 이 때 JSONP는 다른 도메인의 서버로 데이터를 요청하기 위해 사용"
   ]
  },
  {
   "cell_type": "raw",
   "metadata": {},
   "source": [
    "{'Name': \"Foo\", \"Id\": 1234, \"Rank\": 7}   -> JSON 요청일 경우\n",
    "\n",
    "http://example.com/test/jsonp/?callback=callbackFunction\n",
    "\n",
    "callbackFunction({'Name': \"Foo\", \"Id\": 1234, \"Rank\": 7}); -> JSONP 요청일 경우"
   ]
  },
  {
   "cell_type": "code",
   "execution_count": 5,
   "metadata": {},
   "outputs": [],
   "source": [
    "import json\n",
    "import re\n",
    "import requests\n",
    "from bs4 import BeautifulSoup\n",
    "\n",
    "def naver_spelling_check(q):\n",
    "    url = \"https://m.search.naver.com/p/csearch/ocontent/util/SpellerProxy\"\n",
    "    params = {\n",
    "    #\"_callback\": \"jQuery11240733170739760759_1571369758105\",   # & 구분  JSONP 형식. 생략 가능\n",
    "    '_callback': \"_\",\n",
    "    \"q\": q, \n",
    "    \"where\": \"nexearch\", \n",
    "    \"color_blindness\": 0, \n",
    "    #\"_\": 1571369758107  # _ 는 time stamp 생략 가능\n",
    "}  \n",
    "    res = requests.get(url, params=params)\n",
    "    jsonp_string = res.text\n",
    "    jsonp_string = re.sub(r'(^_\\(|\\);$)', \"\", jsonp_string)  # 앞부분의 '_(' 와 끝의 ');' 삭제  ^:시작을 의미\n",
    "    obj = json.loads(jsonp_string)\n",
    "    return obj['message']['result']"
   ]
  },
  {
   "cell_type": "code",
   "execution_count": 6,
   "metadata": {},
   "outputs": [
    {
     "data": {
      "text/plain": [
       "{'errata_count': 1,\n",
       " 'origin_html': \"<span class='result_underline'>아버지가들어가신다</span>\",\n",
       " 'html': \"<em class='green_text'>아버지가 들어가신다</em>\",\n",
       " 'notag_html': '아버지가 들어가신다'}"
      ]
     },
     "execution_count": 6,
     "metadata": {},
     "output_type": "execute_result"
    }
   ],
   "source": [
    "naver_spelling_check(\"아버지가들어가신다\")"
   ]
  },
  {
   "cell_type": "code",
   "execution_count": null,
   "metadata": {},
   "outputs": [],
   "source": [
    "# 정규표현식을 쓰지 않고 간단하게 처리하는 방법\n",
    "jsonp_string = res.text\n",
    "jsonp_string = jsonp_string.replace('_(', \"\").replace(');', \"\")"
   ]
  },
  {
   "cell_type": "code",
   "execution_count": null,
   "metadata": {},
   "outputs": [],
   "source": [
    "json.loads(jsonp_string)  # json 포맷 가능"
   ]
  },
  {
   "cell_type": "code",
   "execution_count": null,
   "metadata": {},
   "outputs": [],
   "source": []
  }
 ],
 "metadata": {
  "kernelspec": {
   "display_name": "Python 3",
   "language": "python",
   "name": "python3"
  },
  "language_info": {
   "codemirror_mode": {
    "name": "ipython",
    "version": 3
   },
   "file_extension": ".py",
   "mimetype": "text/x-python",
   "name": "python",
   "nbconvert_exporter": "python",
   "pygments_lexer": "ipython3",
   "version": "3.7.3"
  }
 },
 "nbformat": 4,
 "nbformat_minor": 2
}
