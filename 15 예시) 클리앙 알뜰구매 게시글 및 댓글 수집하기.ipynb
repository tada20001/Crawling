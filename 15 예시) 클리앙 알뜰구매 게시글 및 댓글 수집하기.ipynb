{
 "cells": [
  {
   "cell_type": "markdown",
   "metadata": {},
   "source": [
    "클리앙 알뜰구매 게시판에 대해서 살펴보고, 댓글을 수정하고 정제하는 과정에 대해서 살펴본다.\n",
    "\n",
    "https://www.clien.net/service/board/jirum"
   ]
  },
  {
   "cell_type": "code",
   "execution_count": 1,
   "metadata": {},
   "outputs": [],
   "source": [
    "import requests\n",
    "from bs4 import BeautifulSoup\n",
    "from urllib.parse import urljoin\n",
    "from datetime import datetime"
   ]
  },
  {
   "cell_type": "markdown",
   "metadata": {},
   "source": [
    "## 클리앙 알뜰 구매 게시판"
   ]
  },
  {
   "cell_type": "code",
   "execution_count": 2,
   "metadata": {},
   "outputs": [],
   "source": [
    "url = \"https://www.clien.net/service/board/jirum\"\n",
    "page = 1\n",
    "params = {'po': page - 1}\n",
    "\n",
    "res = requests.get(url, params=params)"
   ]
  },
  {
   "cell_type": "code",
   "execution_count": 3,
   "metadata": {},
   "outputs": [
    {
     "data": {
      "text/plain": [
       "<Response [200]>"
      ]
     },
     "execution_count": 3,
     "metadata": {},
     "output_type": "execute_result"
    }
   ],
   "source": [
    "res"
   ]
  },
  {
   "cell_type": "code",
   "execution_count": 4,
   "metadata": {},
   "outputs": [],
   "source": [
    "html = res.text\n",
    "soup = BeautifulSoup(html, \"html.parser\")"
   ]
  },
  {
   "cell_type": "code",
   "execution_count": 5,
   "metadata": {},
   "outputs": [
    {
     "data": {
      "text/plain": [
       "30"
      ]
     },
     "execution_count": 5,
     "metadata": {},
     "output_type": "execute_result"
    }
   ],
   "source": [
    "tag_list = soup.select(\".contents_jirum .list_item\")\n",
    "len(tag_list)"
   ]
  },
  {
   "cell_type": "code",
   "execution_count": 6,
   "metadata": {},
   "outputs": [
    {
     "name": "stdout",
     "output_type": "stream",
     "text": [
      "[Amazon/직배] USB C Hub AUKEY 8-in-1 Type C Hub https://www.clien.net/service/board/jirum/14182612?od=T31&po=0&category=&groupCd=\n"
     ]
    }
   ],
   "source": [
    "tag = tag_list[0]\n",
    "title_tag = tag.select_one(\"[data-role=list-title-text]\")\n",
    "title_url = urljoin(url, title_tag['href'])\n",
    "title_text = title_tag.text\n",
    "\n",
    "print(title_text, title_url)"
   ]
  },
  {
   "cell_type": "code",
   "execution_count": 7,
   "metadata": {},
   "outputs": [
    {
     "name": "stdout",
     "output_type": "stream",
     "text": [
      "jbk958 14182612 4\n"
     ]
    }
   ],
   "source": [
    "user_id = tag[\"data-author-id\"]\n",
    "board_sn = tag[\"data-board-sn\"]\n",
    "comment_count = tag[\"data-comment-count\"]\n",
    "print(user_id, board_sn, comment_count)"
   ]
  },
  {
   "cell_type": "code",
   "execution_count": 8,
   "metadata": {},
   "outputs": [
    {
     "name": "stdout",
     "output_type": "stream",
     "text": [
      "넌생각이있냐없냐\n"
     ]
    }
   ],
   "source": [
    "try:\n",
    "    nickname = tag.select_one('.nickname img')['alt']\n",
    "except TypeError:\n",
    "    nickname = tag.select_one('.nickname').text.strip()\n",
    "    \n",
    "print(nickname)"
   ]
  },
  {
   "cell_type": "code",
   "execution_count": 9,
   "metadata": {},
   "outputs": [],
   "source": [
    "# 투표 or 좋아요 ..\n",
    "hit_number = tag.select_one('.hit').text"
   ]
  },
  {
   "cell_type": "code",
   "execution_count": 10,
   "metadata": {},
   "outputs": [
    {
     "data": {
      "text/plain": [
       "datetime.datetime(2019, 10, 19, 21, 0, 16)"
      ]
     },
     "execution_count": 10,
     "metadata": {},
     "output_type": "execute_result"
    }
   ],
   "source": [
    "# 게시 시간을 추출하여, 문자열을 시간 객체로 변환\n",
    "created_at_string = tag.select_one('.timestamp').text\n",
    "created_at = datetime.strptime(created_at_string, \"%Y-%m-%d %H:%M:%S\")\n",
    "created_at"
   ]
  },
  {
   "cell_type": "markdown",
   "metadata": {},
   "source": [
    "### 정보합치기"
   ]
  },
  {
   "cell_type": "code",
   "execution_count": 16,
   "metadata": {},
   "outputs": [],
   "source": [
    "item_list = []\n",
    "\n",
    "def get_nickname(tag):\n",
    "    try:\n",
    "        nickname = tag.select_one('.nickname img')['alt']\n",
    "    except TypeError:\n",
    "        nickname = tag.select_one('.nickname').text.strip()\n",
    "    return nickname\n",
    "    \n",
    "def get_hit_num(tag):\n",
    "    hit_number = tag.select_one('.hit').text\n",
    "    if hit_number.endswith('k'):\n",
    "        return float(hit_number[:-1]) * 1000\n",
    "    else:\n",
    "        return int(hit_number)\n",
    "    \n",
    "for tag in tag_list:\n",
    "    is_deleted = \"삭제\" in tag.text\n",
    "    if is_deleted != True:  # 삭제된 게시물 제외\n",
    "        title_tag = tag.select_one(\"[data-role=list-title-text]\")\n",
    "        #created_at_string = tag.select_one('.timestamp').text\n",
    "        item_list.append(dict(\n",
    "            title_url = urljoin(url, title_tag['href']),\n",
    "            title = title_tag.text,\n",
    "            user_id = tag[\"data-author-id\"],\n",
    "            board_sn = tag[\"data-board-sn\"],\n",
    "            comment_count = int(tag[\"data-comment-count\"]),\n",
    "            nickname = get_nickname(tag),\n",
    "            hit_number = get_hit_num(tag),\n",
    "            created_at = datetime.strptime(tag.select_one('.timestamp').text, \"%Y-%m-%d %H:%M:%S\")\n",
    "        ))"
   ]
  },
  {
   "cell_type": "code",
   "execution_count": 17,
   "metadata": {},
   "outputs": [
    {
     "data": {
      "text/plain": [
       "[{'title_url': 'https://www.clien.net/service/board/jirum/14182612?od=T31&po=0&category=&groupCd=',\n",
       "  'title': '[Amazon/직배] USB C Hub AUKEY 8-in-1 Type C Hub',\n",
       "  'user_id': 'jbk958',\n",
       "  'board_sn': '14182612',\n",
       "  'comment_count': 4,\n",
       "  'nickname': '넌생각이있냐없냐',\n",
       "  'hit_number': 4193,\n",
       "  'created_at': datetime.datetime(2019, 10, 19, 21, 0, 16)},\n",
       " {'title_url': 'https://www.clien.net/service/board/jirum/14182442?od=T31&po=0&category=&groupCd=',\n",
       "  'title': '현대카드 미국 Amazon 전상품 할인코드 (한국시간 21일 0시~)',\n",
       "  'user_id': 'whdxoca',\n",
       "  'board_sn': '14182442',\n",
       "  'comment_count': 75,\n",
       "  'nickname': '쥐즐',\n",
       "  'hit_number': 13000.0,\n",
       "  'created_at': datetime.datetime(2019, 10, 19, 20, 3, 42)},\n",
       " {'title_url': 'https://www.clien.net/service/board/jirum/14182013?od=T31&po=0&category=&groupCd=',\n",
       "  'title': '[AmazonJP] 은련 8천엔이상 결제시 1500엔 할인',\n",
       "  'user_id': 'mu4215',\n",
       "  'board_sn': '14182013',\n",
       "  'comment_count': 7,\n",
       "  'nickname': '맑음7',\n",
       "  'hit_number': 3361,\n",
       "  'created_at': datetime.datetime(2019, 10, 19, 17, 48, 30)},\n",
       " {'title_url': 'https://www.clien.net/service/board/jirum/14181902?od=T31&po=0&category=&groupCd=',\n",
       "  'title': '[Ebay US] 아메리칸 익스프레스 카드 50$이상 결재시 10$ 할인 (~ 10/28 11:59 pm PST',\n",
       "  'user_id': 'hippie',\n",
       "  'board_sn': '14181902',\n",
       "  'comment_count': 3,\n",
       "  'nickname': '정신쇠약',\n",
       "  'hit_number': 3032,\n",
       "  'created_at': datetime.datetime(2019, 10, 19, 17, 17, 5)},\n",
       " {'title_url': 'https://www.clien.net/service/board/jirum/14180527?od=T31&po=0&category=&groupCd=',\n",
       "  'title': '[구글플레이] 오늘의 무료 앱 (2019년 10월 19일 안드로이드)',\n",
       "  'user_id': 'komodo',\n",
       "  'board_sn': '14180527',\n",
       "  'comment_count': 10,\n",
       "  'nickname': '어일깔보',\n",
       "  'hit_number': 5734,\n",
       "  'created_at': datetime.datetime(2019, 10, 19, 9, 25, 50)},\n",
       " {'title_url': 'https://www.clien.net/service/board/jirum/14180515?od=T31&po=0&category=&groupCd=',\n",
       "  'title': '[앱스토어] 오늘의 무료 앱 (2019년 10월 19일 아이폰/아이패드)',\n",
       "  'user_id': 'komodo',\n",
       "  'board_sn': '14180515',\n",
       "  'comment_count': 13,\n",
       "  'nickname': '어일깔보',\n",
       "  'hit_number': 4805,\n",
       "  'created_at': datetime.datetime(2019, 10, 19, 9, 23, 3)},\n",
       " {'title_url': 'https://www.clien.net/service/board/jirum/14180137?od=T31&po=0&category=&groupCd=',\n",
       "  'title': '[g마켓] 서울우유 멸균우유 1000ml * 10개 [19,400/무료배송]',\n",
       "  'user_id': 'ksj9530',\n",
       "  'board_sn': '14180137',\n",
       "  'comment_count': 16,\n",
       "  'nickname': 'DDES',\n",
       "  'hit_number': 5701,\n",
       "  'created_at': datetime.datetime(2019, 10, 19, 2, 2, 46)},\n",
       " {'title_url': 'https://www.clien.net/service/board/jirum/14179621?od=T31&po=0&category=&groupCd=',\n",
       "  'title': '[Newegg] AData XPG Gammix S5 1TB NVMe SSD $90(직배 불가)',\n",
       "  'user_id': 'ledkimsw',\n",
       "  'board_sn': '14179621',\n",
       "  'comment_count': 13,\n",
       "  'nickname': 'LEDinthesky',\n",
       "  'hit_number': 8023,\n",
       "  'created_at': datetime.datetime(2019, 10, 18, 22, 34, 46)},\n",
       " {'title_url': 'https://www.clien.net/service/board/jirum/14177952?od=T31&po=0&category=&groupCd=',\n",
       "  'title': '[홈플러스] 맥북 프로 2017, 맥북 에어 2018 (94만원)',\n",
       "  'user_id': 'ztzzs',\n",
       "  'board_sn': '14177952',\n",
       "  'comment_count': 79,\n",
       "  'nickname': '제다이',\n",
       "  'hit_number': 26100.0,\n",
       "  'created_at': datetime.datetime(2019, 10, 18, 14, 37, 2)},\n",
       " {'title_url': 'https://www.clien.net/service/board/jirum/14177876?od=T31&po=0&category=&groupCd=',\n",
       "  'title': '[위메프] 삼성 DDR4 16G 메모리 60,500원 (배송비2,300원)',\n",
       "  'user_id': 'bewerben',\n",
       "  'board_sn': '14177876',\n",
       "  'comment_count': 43,\n",
       "  'nickname': '오리지널피러팬',\n",
       "  'hit_number': 13100.0,\n",
       "  'created_at': datetime.datetime(2019, 10, 18, 14, 18, 48)},\n",
       " {'title_url': 'https://www.clien.net/service/board/jirum/14177134?od=T31&po=0&category=&groupCd=',\n",
       "  'title': '[옥션] 험멜 남성 쉐브론 저지 트랙수트 3종 (39,000원)',\n",
       "  'user_id': 'tyerlee',\n",
       "  'board_sn': '14177134',\n",
       "  'comment_count': 11,\n",
       "  'nickname': '황금전설카드',\n",
       "  'hit_number': 13700.0,\n",
       "  'created_at': datetime.datetime(2019, 10, 18, 11, 28, 7)},\n",
       " {'title_url': 'https://www.clien.net/service/board/jirum/14177078?od=T31&po=0&category=&groupCd=',\n",
       "  'title': '아마존: Nebula by Anker Prizm II 200 ANSI Lumen Full HD 1080p 프로젝터 $159',\n",
       "  'user_id': 'jabberwky',\n",
       "  'board_sn': '14177078',\n",
       "  'comment_count': 12,\n",
       "  'nickname': 'jabberwky',\n",
       "  'hit_number': 9269,\n",
       "  'created_at': datetime.datetime(2019, 10, 18, 11, 17, 2)},\n",
       " {'title_url': 'https://www.clien.net/service/board/jirum/14177022?od=T31&po=0&category=&groupCd=',\n",
       "  'title': '(쿠팡) 샤오미 미밴드4 정발 구매가능 합니다~',\n",
       "  'user_id': 'mcnice',\n",
       "  'board_sn': '14177022',\n",
       "  'comment_count': 27,\n",
       "  'nickname': '천애비련',\n",
       "  'hit_number': 8695,\n",
       "  'created_at': datetime.datetime(2019, 10, 18, 11, 5, 32)},\n",
       " {'title_url': 'https://www.clien.net/service/board/jirum/14176868?od=T31&po=0&category=&groupCd=',\n",
       "  'title': '[macsales]애플 홈팟 New,Bulk(리테일X)199.98$',\n",
       "  'user_id': 'jyh470',\n",
       "  'board_sn': '14176868',\n",
       "  'comment_count': 44,\n",
       "  'nickname': '요트맨',\n",
       "  'hit_number': 9620,\n",
       "  'created_at': datetime.datetime(2019, 10, 18, 10, 30, 10)},\n",
       " {'title_url': 'https://www.clien.net/service/board/jirum/14176733?od=T31&po=0&category=&groupCd=',\n",
       "  'title': '[스팀] 어쌔신크리드 오디세이 50%',\n",
       "  'user_id': 'realhk80',\n",
       "  'board_sn': '14176733',\n",
       "  'comment_count': 20,\n",
       "  'nickname': '호경씨',\n",
       "  'hit_number': 4416,\n",
       "  'created_at': datetime.datetime(2019, 10, 18, 10, 6, 9)},\n",
       " {'title_url': 'https://www.clien.net/service/board/jirum/14176724?od=T31&po=0&category=&groupCd=',\n",
       "  'title': '메가박스 날씨의 아이, 터미네이터 다크페이트, 람보 라스트 워 1+1 풀렸습니다.',\n",
       "  'user_id': 'leesang627',\n",
       "  'board_sn': '14176724',\n",
       "  'comment_count': 2,\n",
       "  'nickname': 'woogler',\n",
       "  'hit_number': 4169,\n",
       "  'created_at': datetime.datetime(2019, 10, 18, 10, 4, 10)},\n",
       " {'title_url': 'https://www.clien.net/service/board/jirum/14176680?od=T31&po=0&category=&groupCd=',\n",
       "  'title': '[구글플레이] 오늘의 무료 어플 (2019년 10월 18일 안드로이드)',\n",
       "  'user_id': 'komodo',\n",
       "  'board_sn': '14176680',\n",
       "  'comment_count': 11,\n",
       "  'nickname': '어일깔보',\n",
       "  'hit_number': 4931,\n",
       "  'created_at': datetime.datetime(2019, 10, 18, 9, 54, 34)},\n",
       " {'title_url': 'https://www.clien.net/service/board/jirum/14176673?od=T31&po=0&category=&groupCd=',\n",
       "  'title': '[앱스토어] 오늘의 무료 어플 (2019년 10월 18일 아이폰/아이패드)',\n",
       "  'user_id': 'komodo',\n",
       "  'board_sn': '14176673',\n",
       "  'comment_count': 12,\n",
       "  'nickname': '어일깔보',\n",
       "  'hit_number': 3769,\n",
       "  'created_at': datetime.datetime(2019, 10, 18, 9, 52, 46)},\n",
       " {'title_url': 'https://www.clien.net/service/board/jirum/14176626?od=T31&po=0&category=&groupCd=',\n",
       "  'title': '[Amazon]젠하이저 HD-630VB 헤드폰 $199',\n",
       "  'user_id': 'pand4',\n",
       "  'board_sn': '14176626',\n",
       "  'comment_count': 7,\n",
       "  'nickname': '아코로엘',\n",
       "  'hit_number': 5173,\n",
       "  'created_at': datetime.datetime(2019, 10, 18, 9, 41, 56)},\n",
       " {'title_url': 'https://www.clien.net/service/board/jirum/14176150?od=T31&po=0&category=&groupCd=',\n",
       "  'title': '[에픽게임즈 스토어] 금주의 무료 게임 (~10월24일까지)',\n",
       "  'user_id': 'KaramHui',\n",
       "  'board_sn': '14176150',\n",
       "  'comment_count': 21,\n",
       "  'nickname': 'KaramHui',\n",
       "  'hit_number': 7025,\n",
       "  'created_at': datetime.datetime(2019, 10, 18, 5, 58, 56)},\n",
       " {'title_url': 'https://www.clien.net/service/board/jirum/14175875?od=T31&po=0&category=&groupCd=',\n",
       "  'title': '[Amazon] LED Aurora Projector Night Lamps ($16.79/fs)',\n",
       "  'user_id': 'luobonggu',\n",
       "  'board_sn': '14175875',\n",
       "  'comment_count': 11,\n",
       "  'nickname': '오작두를대령하라',\n",
       "  'hit_number': 9275,\n",
       "  'created_at': datetime.datetime(2019, 10, 18, 0, 30, 59)},\n",
       " {'title_url': 'https://www.clien.net/service/board/jirum/14175857?od=T31&po=0&category=&groupCd=',\n",
       "  'title': '(우체국쇼핑) 2018년 특등급 삼광쌀 10kg 25,400원',\n",
       "  'user_id': 'dreamfox99',\n",
       "  'board_sn': '14175857',\n",
       "  'comment_count': 44,\n",
       "  'nickname': 'SIM_Lady',\n",
       "  'hit_number': 6705,\n",
       "  'created_at': datetime.datetime(2019, 10, 18, 0, 27, 16)},\n",
       " {'title_url': 'https://www.clien.net/service/board/jirum/14175815?od=T31&po=0&category=&groupCd=',\n",
       "  'title': '[스타벅스] 스타벅스 별 행사 합니다(골드회원 및 기간내 골드회원 진입한분)',\n",
       "  'user_id': 'zknight82',\n",
       "  'board_sn': '14175815',\n",
       "  'comment_count': 35,\n",
       "  'nickname': '자몽트리',\n",
       "  'hit_number': 10600.0,\n",
       "  'created_at': datetime.datetime(2019, 10, 18, 0, 12, 47)},\n",
       " {'title_url': 'https://www.clien.net/service/board/jirum/14175601?od=T31&po=0&category=&groupCd=',\n",
       "  'title': '[일렉트로마트 킨텍스] Freedy 60W USB PD, QC 3.0 충전기 19,800원',\n",
       "  'user_id': 'zonx',\n",
       "  'board_sn': '14175601',\n",
       "  'comment_count': 5,\n",
       "  'nickname': '따끈따끈',\n",
       "  'hit_number': 10200.0,\n",
       "  'created_at': datetime.datetime(2019, 10, 17, 23, 7, 54)},\n",
       " {'title_url': 'https://www.clien.net/service/board/jirum/14173772?od=T31&po=0&category=&groupCd=',\n",
       "  'title': '[떠리몰] PGA투어골프 남성 본딩기모 팬츠(14900원)',\n",
       "  'user_id': 'kkyyss',\n",
       "  'board_sn': '14173772',\n",
       "  'comment_count': 26,\n",
       "  'nickname': 'Lamiel',\n",
       "  'hit_number': 9955,\n",
       "  'created_at': datetime.datetime(2019, 10, 17, 15, 14, 29)},\n",
       " {'title_url': 'https://www.clien.net/service/board/jirum/14173710?od=T31&po=0&category=&groupCd=',\n",
       "  'title': \"[Amazon](Renewed)아이패드 프로 10.5' 64GB Wifi 스그 $356.85\",\n",
       "  'user_id': 'jyh470',\n",
       "  'board_sn': '14173710',\n",
       "  'comment_count': 12,\n",
       "  'nickname': '요트맨',\n",
       "  'hit_number': 11800.0,\n",
       "  'created_at': datetime.datetime(2019, 10, 17, 15, 5, 3)},\n",
       " {'title_url': 'https://www.clien.net/service/board/jirum/14173698?od=T31&po=0&category=&groupCd=',\n",
       "  'title': '[Amazon](Renewed)아이패드 프로 11인치 64GB 스그 와이파이 $599',\n",
       "  'user_id': 'jyh470',\n",
       "  'board_sn': '14173698',\n",
       "  'comment_count': 7,\n",
       "  'nickname': '요트맨',\n",
       "  'hit_number': 9711,\n",
       "  'created_at': datetime.datetime(2019, 10, 17, 15, 2, 53)},\n",
       " {'title_url': 'https://www.clien.net/service/board/jirum/14173677?od=T31&po=0&category=&groupCd=',\n",
       "  'title': '[네이버스마트스토어] 라바짜 캡슐커피머신 EP MINI (49,000원/무배)',\n",
       "  'user_id': 'bombubu',\n",
       "  'board_sn': '14173677',\n",
       "  'comment_count': 13,\n",
       "  'nickname': 'bdh360',\n",
       "  'hit_number': 7002,\n",
       "  'created_at': datetime.datetime(2019, 10, 17, 15, 0, 23)},\n",
       " {'title_url': 'https://www.clien.net/service/board/jirum/14173029?od=T31&po=0&category=&groupCd=',\n",
       "  'title': '[ebay] Bose Wave Music System IV, Factory Renewed ($199)',\n",
       "  'user_id': 'zjvlfksmd',\n",
       "  'board_sn': '14173029',\n",
       "  'comment_count': 37,\n",
       "  'nickname': '스타클립',\n",
       "  'hit_number': 9689,\n",
       "  'created_at': datetime.datetime(2019, 10, 17, 12, 36, 56)}]"
      ]
     },
     "execution_count": 17,
     "metadata": {},
     "output_type": "execute_result"
    }
   ],
   "source": [
    "item_list"
   ]
  },
  {
   "cell_type": "code",
   "execution_count": 18,
   "metadata": {},
   "outputs": [
    {
     "data": {
      "text/plain": [
       "<Response [200]>"
      ]
     },
     "execution_count": 18,
     "metadata": {},
     "output_type": "execute_result"
    }
   ],
   "source": [
    "# 개별 게시물의 댓글 크롤링\n",
    "post_url = \"https://www.clien.net/service/board/jirum/14182612?od=T31&po=0&category=&groupCd=\"\n",
    "res = requests.get(post_url)\n",
    "res"
   ]
  },
  {
   "cell_type": "code",
   "execution_count": 24,
   "metadata": {},
   "outputs": [],
   "source": [
    "html = res.text\n",
    "soup = BeautifulSoup(html, \"html.parser\")\n",
    "tag_list = soup.select_one('.comment')"
   ]
  },
  {
   "cell_type": "markdown",
   "metadata": {},
   "source": [
    "### 댓글"
   ]
  },
  {
   "cell_type": "code",
   "execution_count": 29,
   "metadata": {},
   "outputs": [
    {
     "data": {
      "text/plain": [
       "<Response [200]>"
      ]
     },
     "execution_count": 29,
     "metadata": {},
     "output_type": "execute_result"
    }
   ],
   "source": [
    "comment_list_url = \"https://www.clien.net/service/board/commentWriterList/\"\n",
    "user_id = 'jbk958'\n",
    "url = urljoin(comment_list_url, user_id)\n",
    "res = requests.get(url)\n",
    "res"
   ]
  },
  {
   "cell_type": "code",
   "execution_count": 31,
   "metadata": {},
   "outputs": [
    {
     "data": {
      "text/plain": [
       "8"
      ]
     },
     "execution_count": 31,
     "metadata": {},
     "output_type": "execute_result"
    }
   ],
   "source": [
    "html = res.text\n",
    "soup = BeautifulSoup(html, 'html.parser')\n",
    "tag_list = soup.select('.comment')\n",
    "len(tag_list)"
   ]
  },
  {
   "cell_type": "code",
   "execution_count": 36,
   "metadata": {},
   "outputs": [
    {
     "data": {
      "text/plain": [
       "'가시광선이 아니라 엑스선을 보는 외계인이 있다면...인간은 스켈레톤처럼 보이겠네요... 감마선을 보는 외계인이 있다면 인간은 투명인간일거고..'"
      ]
     },
     "execution_count": 36,
     "metadata": {},
     "output_type": "execute_result"
    }
   ],
   "source": [
    "tag = tag_list[0]\n",
    "short_name = tag.select_one('.shortname').text\n",
    "desc = tag.select('span')[1].text"
   ]
  },
  {
   "cell_type": "code",
   "execution_count": 37,
   "metadata": {},
   "outputs": [],
   "source": [
    "comment_list = []\n",
    "for tag in tag_list:\n",
    "    short_name = tag.select_one('.shortname').text\n",
    "    desc = tag.select('span')[1].text\n",
    "    comment_list.append(\n",
    "        {\n",
    "            \"short_name\": short_name,\n",
    "            \"desc\": desc\n",
    "        }\n",
    "    )"
   ]
  },
  {
   "cell_type": "code",
   "execution_count": 38,
   "metadata": {},
   "outputs": [
    {
     "data": {
      "text/plain": [
       "[{'short_name': '모공',\n",
       "  'desc': '가시광선이 아니라 엑스선을 보는 외계인이 있다면...인간은 스켈레톤처럼 보이겠네요... 감마선을 보는 외계인이 있다면 인간은 투명인간일거고..'},\n",
       " {'short_name': '아이폰', 'desc': '경험상은 프랑스가 좀 얇더라구요...왜 그런지는 모르겠습니다..'},\n",
       " {'short_name': '모공',\n",
       "  'desc': '조국장관 증증증증증증증증증증증증증증증증증증증증증증증증증증증증증증증증증증증증증증증증증증증증증증증증조부쯤 되는 분은 곰한테 마늘이랑 쑥만 먹이면 사람된다고 거짓말 했다던데요'},\n",
       " {'short_name': '모공', 'desc': '닙스면 무조건가야죠....'},\n",
       " {'short_name': '모공', 'desc': '저도 줄서봅니다!'},\n",
       " {'short_name': '모공',\n",
       "  'desc': '저는 다 읽어보지는 못했지만 나의한국근현대사, 역사의역사가 취향이고어떻게살것인가가 제일 제취향이 아니던데 저랑 딱 반대시네요 ㅎㅎ'},\n",
       " {'short_name': '모공',\n",
       "  'desc': '사회주의는 정치체제(반대: 자유주의) 공산주의는 경제체제(반대: 자본주의) 아닌가요...'},\n",
       " {'short_name': '모공', 'desc': '아이폰8은...ㅜ'}]"
      ]
     },
     "execution_count": 38,
     "metadata": {},
     "output_type": "execute_result"
    }
   ],
   "source": [
    "comment_list"
   ]
  },
  {
   "cell_type": "code",
   "execution_count": null,
   "metadata": {},
   "outputs": [],
   "source": []
  }
 ],
 "metadata": {
  "kernelspec": {
   "display_name": "Python 3",
   "language": "python",
   "name": "python3"
  },
  "language_info": {
   "codemirror_mode": {
    "name": "ipython",
    "version": 3
   },
   "file_extension": ".py",
   "mimetype": "text/x-python",
   "name": "python",
   "nbconvert_exporter": "python",
   "pygments_lexer": "ipython3",
   "version": "3.7.3"
  }
 },
 "nbformat": 4,
 "nbformat_minor": 2
}
