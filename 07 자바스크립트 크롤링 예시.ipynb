{
 "cells": [
  {
   "cell_type": "markdown",
   "metadata": {},
   "source": [
    "해당 웹페이지에서 Ajax(비동기 JavaScript and XML) 통신으로 컨텐츠를 받아오거나, JavaScript로 컨텐츠가 렌더링되는 경우\n",
    "* Selenium이나 Splinter를 활용할 수도 있으나,\n",
    "* 분석하기에 따라 requests로도 처리할 수 있다."
   ]
  },
  {
   "cell_type": "markdown",
   "metadata": {},
   "source": [
    "## Level 2: Ajax 렌더링\n",
    "응답이 JSON 포맷일 수도 있고, HTML 포맷일 수도 있다.\n",
    "\n",
    "### ask django lv2 (응답이 JSON 포맷)\n"
   ]
  },
  {
   "cell_type": "code",
   "execution_count": 1,
   "metadata": {},
   "outputs": [],
   "source": [
    "data_json_url = \"https://askdjango.github.io/lv2/data.json\""
   ]
  },
  {
   "cell_type": "code",
   "execution_count": 3,
   "metadata": {},
   "outputs": [],
   "source": [
    "import requests\n",
    "\n",
    "res = requests.get(data_json_url)\n",
    "result = res.json()"
   ]
  },
  {
   "cell_type": "code",
   "execution_count": 4,
   "metadata": {},
   "outputs": [
    {
     "data": {
      "text/plain": [
       "dict_keys(['s2', 's1'])"
      ]
     },
     "execution_count": 4,
     "metadata": {},
     "output_type": "execute_result"
    }
   ],
   "source": [
    "result.keys()"
   ]
  },
  {
   "cell_type": "code",
   "execution_count": 5,
   "metadata": {},
   "outputs": [
    {
     "data": {
      "text/plain": [
       "[{'name': '개발환경 구축하기', 'url': 'https://www.askcompany.kr/vod/setup/'},\n",
       " {'name': '파이썬 차근차근 시작하기', 'url': 'https://www.askcompany.kr/vod/python/'},\n",
       " {'name': '크롤링 차근차근 시작하기', 'url': 'https://www.askcompany.kr/vod/crawling/'},\n",
       " {'name': '파이썬으로 업무 자동화', 'url': 'https://www.askcompany.kr/vod/automation/'},\n",
       " {'name': '장고 - 기본편', 'url': 'https://www.askcompany.kr/vod/django/'},\n",
       " {'name': '장고걸스 튜토리얼', 'url': 'https://www.askcompany.kr/vod/djangogirls/'},\n",
       " {'name': '장고 - Form/ModelForm 잘 알고 쓰기',\n",
       "  'url': 'https://www.askcompany.kr/vod/form/'},\n",
       " {'name': '장고 - 클래스 기반 뷰. 잘 알고 쓰기',\n",
       "  'url': 'https://www.askcompany.kr/vod/cbv/'},\n",
       " {'name': '장고 - 결제 시스템 연동', 'url': 'https://www.askcompany.kr/vod/payment/'},\n",
       " {'name': '장고 - 웹 프론트엔드 시작편',\n",
       "  'url': 'https://www.askcompany.kr/vod/frontend/'},\n",
       " {'name': '장고 - 다양한 위젯 만들기', 'url': 'https://www.askcompany.kr/vod/widgets/'},\n",
       " {'name': '장고 - API 서버 만들기 및 초간단 안드로이드 앱 만들기',\n",
       "  'url': 'https://www.askcompany.kr/vod/apiserver/'},\n",
       " {'name': '장고 - 하이브리드 앱 만들기', 'url': 'https://www.askcompany.kr/vod/hybrid/'},\n",
       " {'name': '장고 - 서비스 배포하기', 'url': 'https://www.askcompany.kr/vod/deploy/'},\n",
       " {'name': '장고 - 실전편 (Feat. 배달의 민족 St. 만들기)',\n",
       "  'url': 'https://www.askcompany.kr/vod/django-baemin/'},\n",
       " {'name': '장고 - 실전편 (Feat. 인스타그램 St. 만들기)',\n",
       "  'url': 'https://www.askcompany.kr/vod/django-instagram/'}]"
      ]
     },
     "execution_count": 5,
     "metadata": {},
     "output_type": "execute_result"
    }
   ],
   "source": [
    "result['s1']"
   ]
  },
  {
   "cell_type": "markdown",
   "metadata": {},
   "source": [
    "### 국회의원 목록 (응답이 html 포맷)"
   ]
  },
  {
   "cell_type": "code",
   "execution_count": 39,
   "metadata": {},
   "outputs": [
    {
     "data": {
      "text/plain": [
       "<Response [200]>"
      ]
     },
     "execution_count": 39,
     "metadata": {},
     "output_type": "execute_result"
    }
   ],
   "source": [
    "url = \"http://www.assembly.go.kr/assm/memact/congressman/memCond/memCondListAjax.do\"\n",
    "params = {'currentPage': 1, 'rowPerPage': 300}\n",
    "res = requests.get(url, params=params)\n",
    "res"
   ]
  },
  {
   "cell_type": "code",
   "execution_count": 40,
   "metadata": {},
   "outputs": [],
   "source": [
    "from bs4 import BeautifulSoup\n",
    "html = res.text\n",
    "soup = BeautifulSoup(html, 'html.parser')"
   ]
  },
  {
   "cell_type": "code",
   "execution_count": 42,
   "metadata": {},
   "outputs": [
    {
     "name": "stdout",
     "output_type": "stream",
     "text": [
      "강길부 울산 울주군 4선 /photo/9770276.jpg\n",
      "강병원 서울 은평구을 초선 /photo/9770933.jpg\n",
      "강석진 경남 산청군함양군거창군합천군 초선 /photo/9771036.jpg\n",
      "강석호 경북 영양군영덕군봉화군울진군 3선 /photo/9770512.jpg\n",
      "강창일 제주 제주시갑 4선 /photo/9770279.jpg\n",
      "강효상 비례대표 초선 /photo/9771054.jpg\n",
      "강훈식 충남 아산시을 초선 /photo/9771007.jpg\n",
      "경대수 충북 증평군진천군음성군 재선 /photo/9770708.jpg\n",
      "고용진 서울 노원구갑 초선 /photo/9770931.jpg\n",
      "곽대훈 대구 달서구갑 초선 /photo/9770961.jpg\n",
      "곽상도 대구 중구남구 초선 /photo/9770956.jpg\n",
      "권미혁 비례대표 초선 /photo/9771066.jpg\n",
      "권성동 강원 강릉시 3선 /photo/9770679.jpg\n",
      "권은희 광주 광산구을 재선 /photo/9770977.jpg\n",
      "권칠승 경기 화성시병 초선 /photo/9770998.jpg\n",
      "금태섭 서울 강서구갑 초선 /photo/9770937.jpg\n",
      "기동민 서울 성북구을 초선 /photo/9770927.jpg\n",
      "김경진 광주 북구갑 초선 /photo/9770970.jpg\n",
      "김경협 경기 부천시원미구갑 재선 /photo/9770712.jpg\n",
      "김관영 전북 군산시 재선 /photo/9770713.jpg\n",
      "김광림 경북 안동시 3선 /photo/9770523.jpg\n",
      "김광수 전북 전주시갑 초선 /photo/9771011.jpg\n",
      "김규환 비례대표 초선 /photo/9771044.jpg\n",
      "김기선 강원 원주시갑 재선 /photo/9770716.jpg\n",
      "김도읍 부산 북구강서구을 재선 /photo/9770719.jpg\n",
      "김동철 광주 광산구갑 4선 /photo/9770295.jpg\n",
      "김두관 경기 김포시갑 초선 /photo/9770997.jpg\n",
      "김명연 경기 안산시단원구갑 재선 /photo/9770721.jpg\n",
      "김무성 부산 중구영도구 6선 /photo/9770895.jpg\n",
      "김민기 경기 용인시을 재선 /photo/9770723.jpg\n",
      "김병관 경기 성남시분당구갑 초선 /photo/9770983.jpg\n",
      "김병기 서울 동작구갑 초선 /photo/9770941.jpg\n",
      "김병욱 경기 성남시분당구을 초선 /photo/9770984.jpg\n",
      "김부겸 대구 수성구갑 4선 /photo/9770960.jpg\n",
      "김삼화 비례대표 초선 /photo/9771077.jpg\n",
      "김상훈 대구 서구 재선 /photo/9770725.jpg\n",
      "김상희 경기 부천시소사구 3선 /photo/9770527.jpg\n",
      "김석기 경북 경주시 초선 /photo/9771024.jpg\n",
      "김선동 서울 도봉구을 재선 /photo/9770930.jpg\n",
      "김성수 비례대표 초선 /photo/9771065.jpg\n",
      "김성식 서울 관악구갑 재선 /photo/9770942.jpg\n",
      "김성원 경기 동두천시연천군 초선 /photo/9770985.jpg\n",
      "김성찬 경남 창원시진해구 재선 /photo/9770727.jpg\n",
      "김성태 서울 강서구을 3선 /photo/9770974.jpg\n",
      "김성태 비례대표 초선 /photo/9771046.jpg\n",
      "김성환 서울 노원구병 초선 /photo/9771089.jpg\n",
      "김세연 부산 금정구 3선 /photo/9770534.jpg\n",
      "김수민 비례대표 초선 /photo/9771075.jpg\n",
      "김순례 비례대표 초선 /photo/9771053.jpg\n",
      "김승희 비례대표 초선 /photo/9771049.jpg\n",
      "김영우 경기 포천시가평군 3선 /photo/9770538.jpg\n",
      "김영주 서울 영등포구갑 3선 /photo/9770975.jpg\n",
      "김영진 경기 수원시병 초선 /photo/9770981.jpg\n",
      "김영춘 부산 부산진구갑 3선 /photo/9770949.jpg\n",
      "김영호 서울 서대문구을 초선 /photo/9770934.jpg\n",
      "김용태 서울 양천구을 3선 /photo/9770542.jpg\n",
      "김재경 경남 진주시을 4선 /photo/9770310.jpg\n",
      "김재원 경북 상주시군위군의성군청송군 3선 /photo/9771087.jpg\n",
      "김정우 경기 군포시갑 초선 /photo/9770993.jpg\n",
      "김정재 경북 포항시북구 초선 /photo/9771023.jpg\n",
      "김정호 경남 김해시을 초선 /photo/9771090.jpg\n",
      "김정훈 부산 남구갑 4선 /photo/9770316.jpg\n",
      "김종대 비례대표 초선 /photo/9771083.jpg\n",
      "김종민 충남 논산시계룡시금산군 초선 /photo/9771009.jpg\n",
      "김종석 비례대표 초선 /photo/9771048.jpg\n",
      "김종회 전북 김제시부안군 초선 /photo/9771016.jpg\n",
      "김종훈 울산 동구 초선 /photo/9770978.jpg\n",
      "김중로 비례대표 초선 /photo/9771078.jpg\n",
      "김진태 강원 춘천시 재선 /photo/9770740.jpg\n",
      "김진표 경기 수원시무 4선 /photo/9770982.jpg\n",
      "김철민 경기 안산시상록구을 초선 /photo/9770986.jpg\n",
      "김태년 경기 성남시수정구 3선 /photo/9770741.jpg\n",
      "김태흠 충남 보령시서천군 재선 /photo/9770742.jpg\n",
      "김학용 경기 안성시 3선 /photo/9770670.jpg\n",
      "김한정 경기 남양주시을 초선 /photo/9770991.jpg\n",
      "김한표 경남 거제시 재선 /photo/9770744.jpg\n",
      "김해영 부산 연제구 초선 /photo/9770953.jpg\n",
      "김현권 비례대표 초선 /photo/9771061.jpg\n",
      "김현미 경기 고양시정 3선 /photo/9770746.jpg\n",
      "김현아 비례대표 초선 /photo/9771055.jpg\n",
      "나경원 서울 동작구을 4선 /photo/9770903.jpg\n",
      "남인순 서울 송파구병 재선 /photo/9770752.jpg\n",
      "노웅래 서울 마포구갑 3선 /photo/9770753.jpg\n",
      "도종환 충북 청주시흥덕구 재선 /photo/9770755.jpg\n",
      "맹성규 인천 남동구갑 초선 /photo/9771091.jpg\n",
      "문진국 비례대표 초선 /photo/9771042.jpg\n",
      "문희상 경기 의정부시갑 6선 /photo/9770084.jpg\n",
      "민경욱 인천 연수구을 초선 /photo/9770964.jpg\n",
      "민병두 서울 동대문구을 3선 /photo/9770761.jpg\n",
      "민홍철 경남 김해시갑 재선 /photo/9770764.jpg\n",
      "박경미 비례대표 초선 /photo/9771056.jpg\n",
      "박광온 경기 수원시정 재선 /photo/9770911.jpg\n",
      "박대출 경남 진주시갑 재선 /photo/9770767.jpg\n",
      "박덕흠 충북 보은군옥천군영동군괴산군 재선 /photo/9770768.jpg\n",
      "박맹우 울산 남구을 재선 /photo/9770908.jpg\n",
      "박명재 경북 포항시남구울릉군 재선 /photo/9770899.jpg\n",
      "박범계 대전 서구을 재선 /photo/9770770.jpg\n",
      "박병석 대전 서구갑 5선 /photo/9770090.jpg\n",
      "박선숙 비례대표 재선 /photo/9771073.jpg\n",
      "박성중 서울 서초구을 초선 /photo/9770944.jpg\n",
      "박순자 경기 안산시단원구을 3선 /photo/9770987.jpg\n",
      "박영선 서울 구로구을 4선 /photo/9770347.jpg\n",
      "박완수 경남 창원시의창구 초선 /photo/9771030.jpg\n",
      "박완주 충남 천안시을 재선 /photo/9770774.jpg\n",
      "박용진 서울 강북구을 초선 /photo/9770929.jpg\n",
      "박인숙 서울 송파구갑 재선 /photo/9770776.jpg\n",
      "박재호 부산 남구을 초선 /photo/9770950.jpg\n",
      "박정 경기 파주시을 초선 /photo/9770995.jpg\n",
      "박주민 서울 은평구갑 초선 /photo/9770932.jpg\n",
      "박주선 광주 동구남구을 4선 /photo/9770566.jpg\n",
      "박주현 비례대표 초선 /photo/9771071.jpg\n",
      "박지원 전남 목포시 4선 /photo/9770568.jpg\n",
      "박찬대 인천 연수구갑 초선 /photo/9770963.jpg\n",
      "박홍근 서울 중랑구을 재선 /photo/9770779.jpg\n",
      "백승주 경북 구미시갑 초선 /photo/9771025.jpg\n",
      "백재현 경기 광명시갑 3선 /photo/9770573.jpg\n",
      "백혜련 경기 수원시을 초선 /photo/9770980.jpg\n",
      "변재일 충북 청주시청원구 4선 /photo/9770356.jpg\n",
      "서삼석 전남 영암군무안군신안군 초선 /photo/9771092.jpg\n",
      "서영교 서울 중랑구갑 재선 /photo/9770784.jpg\n",
      "서청원 경기 화성시갑 8선 /photo/9770898.jpg\n",
      "서형수 경남 양산시을 초선 /photo/9771035.jpg\n",
      "설훈 경기 부천시원미구을 4선 /photo/9770786.jpg\n",
      "성일종 충남 서산시태안군 초선 /photo/9771008.jpg\n",
      "소병훈 경기 광주시갑 초선 /photo/9770999.jpg\n",
      "손금주 전남 나주시화순군 초선 /photo/9771019.jpg\n",
      "손혜원 서울 마포구을 초선 /photo/9770935.jpg\n",
      "송갑석 광주 서구갑 초선 /photo/9771093.jpg\n",
      "송기헌 강원 원주시을 초선 /photo/9771001.jpg\n",
      "송석준 경기 이천시 초선 /photo/9770996.jpg\n",
      "송언석 경북 김천시 초선 /photo/9771094.jpg\n",
      "송영길 인천 계양구을 4선 /photo/9770967.jpg\n",
      "송옥주 비례대표 초선 /photo/9771058.jpg\n",
      "송희경 비례대표 초선 /photo/9771039.jpg\n",
      "신경민 서울 영등포구을 재선 /photo/9770792.jpg\n",
      "신동근 인천 서구을 초선 /photo/9770968.jpg\n",
      "신보라 비례대표 초선 /photo/9771045.jpg\n",
      "신상진 경기 성남시중원구 4선 /photo/9770921.jpg\n",
      "신용현 비례대표 초선 /photo/9771069.jpg\n",
      "신창현 경기 의왕시과천시 초선 /photo/9770989.jpg\n",
      "심기준 비례대표 초선 /photo/9771086.jpg\n",
      "심상정 경기 고양시갑 3선 /photo/9770869.jpg\n",
      "심재권 서울 강동구을 3선 /photo/9770798.jpg\n",
      "심재철 경기 안양시동안구을 5선 /photo/9770138.jpg\n",
      "안규백 서울 동대문구갑 3선 /photo/9770587.jpg\n",
      "안민석 경기 오산시 4선 /photo/9770372.jpg\n",
      "안상수 인천 중구동구강화군옹진군 3선 /photo/9770919.jpg\n",
      "안호영 전북 완주군진안군무주군장수군 초선 /photo/9771017.jpg\n",
      "어기구 충남 당진시 초선 /photo/9771010.jpg\n",
      "엄용수 경남 밀양시의령군함안군창녕군 초선 /photo/9771034.jpg\n",
      "여상규 경남 사천시남해군하동군 3선 /photo/9770591.jpg\n",
      "여영국 경남 창원시성산구 초선 /photo/9771102.jpg\n",
      "염동열 강원 태백시횡성군영월군평창군정선군 재선 /photo/9770802.jpg\n",
      "오신환 서울 관악구을 재선 /photo/9770918.jpg\n",
      "오영훈 제주 제주시을 초선 /photo/9771037.jpg\n",
      "오제세 충북 청주시서원구 4선 /photo/9770380.jpg\n",
      "우상호 서울 서대문구갑 3선 /photo/9770871.jpg\n",
      "우원식 서울 노원구을 3선 /photo/9770872.jpg\n",
      "원유철 경기 평택시갑 5선 /photo/9770592.jpg\n",
      "원혜영 경기 부천시오정구 5선 /photo/9770386.jpg\n",
      "위성곤 제주 서귀포시 초선 /photo/9771038.jpg\n",
      "유기준 부산 서구동구 4선 /photo/9770387.jpg\n",
      "유동수 인천 계양구갑 초선 /photo/9770966.jpg\n",
      "유민봉 비례대표 초선 /photo/9771050.jpg\n",
      "유성엽 전북 정읍시고창군 3선 /photo/9770594.jpg\n",
      "유승민 대구 동구을 4선 /photo/9770497.jpg\n",
      "유승희 서울 성북구갑 3선 /photo/9770874.jpg\n",
      "유은혜 경기 고양시병 재선 /photo/9770807.jpg\n",
      "유의동 경기 평택시을 재선 /photo/9770912.jpg\n",
      "유재중 부산 수영구 3선 /photo/9770596.jpg\n",
      "윤관석 인천 남동구을 재선 /photo/9770808.jpg\n",
      "윤상직 부산 기장군 초선 /photo/9770955.jpg\n",
      "윤상현 인천 미추홀구을 3선 /photo/9770598.jpg\n",
      "윤소하 비례대표 초선 /photo/9771085.jpg\n",
      "윤영석 경남 양산시갑 재선 /photo/9770811.jpg\n",
      "윤영일 전남 해남군완도군진도군 초선 /photo/9771021.jpg\n",
      "윤일규 충남 천안시병 초선 /photo/9771095.jpg\n",
      "윤재옥 대구 달서구을 재선 /photo/9770812.jpg\n",
      "윤종필 비례대표 초선 /photo/9771051.jpg\n",
      "윤준호 부산 해운대구을 초선 /photo/9771096.jpg\n",
      "윤한홍 경남 창원시마산회원구 초선 /photo/9771032.jpg\n",
      "윤호중 경기 구리시 3선 /photo/9770876.jpg\n",
      "윤후덕 경기 파주시갑 재선 /photo/9770813.jpg\n",
      "이개호 전남 담양군함평군영광군장성군 재선 /photo/9770905.jpg\n",
      "이규희 충남 천안시갑 초선 /photo/9771097.jpg\n",
      "이동섭 비례대표 초선 /photo/9771080.jpg\n",
      "이만희 경북 영천시청도군 초선 /photo/9771028.jpg\n",
      "이명수 충남 아산시갑 3선 /photo/9770602.jpg\n",
      "이상돈 비례대표 초선 /photo/9771072.jpg\n",
      "이상민 대전 유성구을 4선 /photo/9770414.jpg\n",
      "이상헌 울산 북구 초선 /photo/9771098.jpg\n",
      "이석현 경기 안양시동안구갑 6선 /photo/9770416.jpg\n",
      "이양수 강원 속초시고성군양양군 초선 /photo/9771003.jpg\n",
      "이언주 경기 광명시을 재선 /photo/9770822.jpg\n",
      "이용득 비례대표 초선 /photo/9771067.jpg\n",
      "이용주 전남 여수시갑 초선 /photo/9771018.jpg\n",
      "이용호 전북 남원시임실군순창군 초선 /photo/9771015.jpg\n",
      "이원욱 경기 화성시을 재선 /photo/9770826.jpg\n",
      "이은권 대전 중구 초선 /photo/9770972.jpg\n",
      "이은재 서울 강남구병 재선 /photo/9770947.jpg\n",
      "이인영 서울 구로구갑 3선 /photo/9770878.jpg\n",
      "이장우 대전 동구 재선 /photo/9770829.jpg\n",
      "이재정 비례대표 초선 /photo/9771060.jpg\n",
      "이정미 비례대표 초선 /photo/9771082.jpg\n",
      "이정현 전남 순천시 3선 /photo/9770916.jpg\n",
      "이종걸 경기 안양시만안구 5선 /photo/9770194.jpg\n",
      "이종구 서울 강남구갑 3선 /photo/9770945.jpg\n",
      "이종명 비례대표 초선 /photo/9771040.jpg\n",
      "이종배 충북 충주시 재선 /photo/9770914.jpg\n",
      "이주영 경남 창원시마산합포구 5선 /photo/9770499.jpg\n",
      "이진복 부산 동래구 3선 /photo/9770621.jpg\n",
      "이찬열 경기 수원시갑 3선 /photo/9770678.jpg\n",
      "이채익 울산 남구갑 재선 /photo/9770835.jpg\n",
      "이철규 강원 동해시삼척시 초선 /photo/9771002.jpg\n",
      "이철희 비례대표 초선 /photo/9771063.jpg\n",
      "이춘석 전북 익산시갑 3선 /photo/9770623.jpg\n",
      "이태규 비례대표 초선 /photo/9771076.jpg\n",
      "이학영 경기 군포시을 재선 /photo/9770836.jpg\n",
      "이학재 인천 서구갑 3선 /photo/9770625.jpg\n",
      "이해찬 세종특별자치시 7선 /photo/9770879.jpg\n",
      "이헌승 부산 부산진구을 재선 /photo/9770837.jpg\n",
      "이현재 경기 하남시 재선 /photo/9770838.jpg\n",
      "이혜훈 서울 서초구갑 3선 /photo/9770943.jpg\n",
      "이후삼 충북 제천시단양군 초선 /photo/9771099.jpg\n",
      "이훈 서울 금천구 초선 /photo/9770939.jpg\n",
      "인재근 서울 도봉구갑 재선 /photo/9770839.jpg\n",
      "임이자 비례대표 초선 /photo/9771041.jpg\n",
      "임재훈 비례대표 초선 /photo/9771101.jpg\n",
      "임종성 경기 광주시을 초선 /photo/9771000.jpg\n",
      "장병완 광주 동구남구갑 3선 /photo/9770688.jpg\n",
      "장석춘 경북 구미시을 초선 /photo/9771026.jpg\n",
      "장정숙 비례대표 초선 /photo/9771079.jpg\n",
      "장제원 부산 사상구 재선 /photo/9770954.jpg\n",
      "전재수 부산 북구강서구갑 초선 /photo/9770951.jpg\n",
      "전해철 경기 안산시상록구갑 재선 /photo/9770846.jpg\n",
      "전현희 서울 강남구을 재선 /photo/9770946.jpg\n",
      "전혜숙 서울 광진구갑 재선 /photo/9770926.jpg\n",
      "전희경 비례대표 초선 /photo/9771047.jpg\n",
      "정갑윤 울산 중구 5선 /photo/9770439.jpg\n",
      "정동영 전북 전주시병 4선 /photo/9771013.jpg\n",
      "정병국 경기 여주시양평군 5선 /photo/9770229.jpg\n",
      "정성호 경기 양주시 3선 /photo/9770881.jpg\n",
      "정세균 서울 종로구 6선 /photo/9770230.jpg\n",
      "정양석 서울 강북구갑 재선 /photo/9770928.jpg\n",
      "정용기 대전 대덕구 재선 /photo/9770907.jpg\n",
      "정우택 충북 청주시상당구 4선 /photo/9770847.jpg\n",
      "정운천 전북 전주시을 초선 /photo/9771012.jpg\n",
      "정유섭 인천 부평구갑 초선 /photo/9770965.jpg\n",
      "정은혜 비례대표 초선 /photo/9771104.jpg\n",
      "정인화 전남 광양시곡성군구례군 초선 /photo/9771020.jpg\n",
      "정재호 경기 고양시을 초선 /photo/9770988.jpg\n",
      "정점식 경남 통영시고성군 초선 /photo/9771103.jpg\n",
      "정종섭 대구 동구갑 초선 /photo/9770957.jpg\n",
      "정진석 충남 공주시부여군청양군 4선 /photo/9771006.jpg\n",
      "정춘숙 비례대표 초선 /photo/9771068.jpg\n",
      "정태옥 대구 북구갑 초선 /photo/9770958.jpg\n",
      "제윤경 비례대표 초선 /photo/9771064.jpg\n",
      "조경태 부산 사하구을 4선 /photo/9770450.jpg\n",
      "조배숙 전북 익산시을  4선 /photo/9771014.jpg\n",
      "조승래 대전 유성구갑 초선 /photo/9770973.jpg\n",
      "조원진 대구 달서구병 3선 /photo/9770648.jpg\n",
      "조응천 경기 남양주시갑 초선 /photo/9770990.jpg\n",
      "조정식 경기 시흥시을 4선 /photo/9770456.jpg\n",
      "조훈현 비례대표 초선 /photo/9771052.jpg\n",
      "주광덕 경기 남양주시병 재선 /photo/9770992.jpg\n",
      "주승용 전남 여수시을 4선 /photo/9770458.jpg\n",
      "주호영 대구 수성구을 4선 /photo/9770883.jpg\n",
      "지상욱 서울 중구성동구을 초선 /photo/9770925.jpg\n",
      "진선미 서울 강동구갑 재선 /photo/9770852.jpg\n",
      "진영 서울 용산구 4선 /photo/9770462.jpg\n",
      "채이배 비례대표 초선 /photo/9771074.jpg\n",
      "천정배 광주 서구을 6선 /photo/9770920.jpg\n",
      "최경환 광주 북구을 초선 /photo/9770976.jpg\n",
      "최교일 경북 영주시문경시예천군 초선 /photo/9771027.jpg\n",
      "최도자 비례대표 초선 /photo/9771081.jpg\n",
      "최연혜 비례대표 초선 /photo/9771043.jpg\n",
      "최운열 비례대표 초선 /photo/9771059.jpg\n",
      "최인호 부산 사하구갑 초선 /photo/9770952.jpg\n",
      "최재성 서울 송파구을 4선 /photo/9771100.jpg\n",
      "추경호 대구 달성군 초선 /photo/9770962.jpg\n",
      "추미애 서울 광진구을 5선 /photo/9770659.jpg\n",
      "추혜선 비례대표 초선 /photo/9771084.jpg\n",
      "표창원 경기 용인시정 초선 /photo/9770994.jpg\n",
      "하태경 부산 해운대구갑 재선 /photo/9770858.jpg\n",
      "한선교 경기 용인시병 4선 /photo/9770477.jpg\n",
      "한정애 서울 강서구병 재선 /photo/9770859.jpg\n",
      "함진규 경기 시흥시갑 재선 /photo/9770860.jpg\n",
      "홍문종 경기 의정부시을 4선 /photo/9770862.jpg\n",
      "홍문표 충남 홍성군예산군 3선 /photo/9770886.jpg\n",
      "홍영표 인천 부평구을 3선 /photo/9770676.jpg\n",
      "홍의락 대구 북구을 재선 /photo/9770959.jpg\n",
      "홍익표 서울 중구성동구갑 재선 /photo/9770864.jpg\n",
      "홍일표 인천 미추홀구갑 3선 /photo/9770665.jpg\n",
      "홍철호 경기 김포시을 재선 /photo/9770913.jpg\n",
      "황영철 강원 홍천군철원군화천군양구군인제군 3선 /photo/9770669.jpg\n",
      "황주홍 전남 고흥군보성군장흥군강진군 재선 /photo/9770867.jpg\n",
      "황희 서울 양천구갑 초선 /photo/9770936.jpg\n"
     ]
    }
   ],
   "source": [
    "for tag in soup.select('dl'):\n",
    "    name = tag.select_one('a').text\n",
    "    imgpath = tag.select_one('img')[\"src\"]\n",
    "    count = tag.select_one('.mt').text\n",
    "    location = tag.select_one('.ht').text\n",
    "    print(name, location, count, imgpath)"
   ]
  },
  {
   "cell_type": "code",
   "execution_count": 38,
   "metadata": {},
   "outputs": [
    {
     "data": {
      "text/plain": [
       "<dl>\n",
       "<dt>\n",
       "<strong><a href=\"javascript:jsMemPop('9770276')\" title=\"강길부의원정보 새창에서 열림\">강길부</a></strong><br/>\n",
       "<span class=\"chi\">\n",
       "\t\t\t\t\t\t\t\t\t\t\t(姜吉夫)\n",
       "\t\t\t\t\t\t\t\t\t</span><br/>\n",
       "    \t\t\tKANG GHILBOO \n",
       "    \t\t</dt>\n",
       "<dd class=\"img\">\n",
       "<a href=\"#\" onclick=\"jsMemPop('9770276')\" title=\"강길부의원정보 새창에서 열림\">\n",
       "<img alt=\"강길부 의원사진\" src=\"/photo/9770276.jpg\"/>\n",
       "</a>\n",
       "</dd>\n",
       "<dd class=\"mt\">4선</dd>\n",
       "<dd class=\"ht\">울산 울주군</dd>\n",
       "</dl>"
      ]
     },
     "execution_count": 38,
     "metadata": {},
     "output_type": "execute_result"
    }
   ],
   "source": [
    "tag[0]"
   ]
  },
  {
   "cell_type": "code",
   "execution_count": 33,
   "metadata": {},
   "outputs": [
    {
     "data": {
      "text/plain": [
       "('강길부', '/photo/9770276.jpg', '4선', '울산 울주군')"
      ]
     },
     "execution_count": 33,
     "metadata": {},
     "output_type": "execute_result"
    }
   ],
   "source": [
    "name, imgpath, count, location"
   ]
  },
  {
   "cell_type": "markdown",
   "metadata": {},
   "source": [
    "## 멜론 차트 좋아요 수"
   ]
  },
  {
   "cell_type": "code",
   "execution_count": 46,
   "metadata": {},
   "outputs": [
    {
     "data": {
      "text/plain": [
       "<Response [200]>"
      ]
     },
     "execution_count": 46,
     "metadata": {},
     "output_type": "execute_result"
    }
   ],
   "source": [
    "url = \"https://www.melon.com/commonlike/getSongLike.json\"\n",
    "query_string = \"contsIds=32061975%2C32091557%2C32003395%2C32061975%2C32091557%2C32003395\"\n",
    "query_string = \"contsIds=32061975,32091557,32003395,32061975,32091557,32003395\" # %2C-> ,\n",
    "song_id_list = ['32061975','32091557','32003395','32061975','32091557','32003395'] # 문자열이기 때문에 숫자로 저장하면 안됨\n",
    "params = {'contsIds': ','.join(song_id_list)}\n",
    "\n",
    "headers = {'User-Agent': 'Mozilla/5.0 (Macintosh; Intel Mac OS X 10_13_6) AppleWebKit/537.36 (KHTML, like Gecko) Chrome/77.0.3865.120 Safari/537.36', \n",
    "           'Referer': 'https://www.melon.com/chart/'}\n",
    "\n",
    "res = requests.get(url, params=params, headers=headers)\n",
    "res"
   ]
  },
  {
   "cell_type": "code",
   "execution_count": 43,
   "metadata": {},
   "outputs": [
    {
     "data": {
      "text/plain": [
       "','"
      ]
     },
     "execution_count": 43,
     "metadata": {},
     "output_type": "execute_result"
    }
   ],
   "source": [
    "# query_string의 %2c의 의미 찾기 ==> ,\n",
    "from urllib.parse import unquote\n",
    "unquote(\"%2C\")"
   ]
  },
  {
   "cell_type": "code",
   "execution_count": 44,
   "metadata": {},
   "outputs": [
    {
     "data": {
      "text/plain": [
       "'2C'"
      ]
     },
     "execution_count": 44,
     "metadata": {},
     "output_type": "execute_result"
    }
   ],
   "source": [
    "'%X' % ord(',') # 16진수로 바꾸기"
   ]
  },
  {
   "cell_type": "code",
   "execution_count": 49,
   "metadata": {},
   "outputs": [],
   "source": [
    "result = res.json() # json 포맷이므로..."
   ]
  },
  {
   "cell_type": "code",
   "execution_count": 50,
   "metadata": {},
   "outputs": [
    {
     "data": {
      "text/plain": [
       "dict_keys(['contsLike', 'httpDomain', 'httpsDomain', 'staticDomain'])"
      ]
     },
     "execution_count": 50,
     "metadata": {},
     "output_type": "execute_result"
    }
   ],
   "source": [
    "result.keys()"
   ]
  },
  {
   "cell_type": "code",
   "execution_count": 51,
   "metadata": {},
   "outputs": [
    {
     "data": {
      "text/plain": [
       "[{'CONTSID': 32061975, 'LIKEYN': 'N', 'SUMMCNT': 202612},\n",
       " {'CONTSID': 32091557, 'LIKEYN': 'N', 'SUMMCNT': 30872},\n",
       " {'CONTSID': 32003395, 'LIKEYN': 'N', 'SUMMCNT': 134450},\n",
       " {'CONTSID': 32061975, 'LIKEYN': 'N', 'SUMMCNT': 202612},\n",
       " {'CONTSID': 32091557, 'LIKEYN': 'N', 'SUMMCNT': 30872},\n",
       " {'CONTSID': 32003395, 'LIKEYN': 'N', 'SUMMCNT': 134450}]"
      ]
     },
     "execution_count": 51,
     "metadata": {},
     "output_type": "execute_result"
    }
   ],
   "source": [
    "result['contsLike']"
   ]
  },
  {
   "cell_type": "code",
   "execution_count": 53,
   "metadata": {},
   "outputs": [
    {
     "data": {
      "text/plain": [
       "{32061975: 202612, 32091557: 30872, 32003395: 134450}"
      ]
     },
     "execution_count": 53,
     "metadata": {},
     "output_type": "execute_result"
    }
   ],
   "source": [
    "{row['CONTSID']: row['SUMMCNT'] for row in result['contsLike']}  # id : 좋아요 수 dic"
   ]
  },
  {
   "cell_type": "markdown",
   "metadata": {},
   "source": [
    "## Level 3: 자바스크립트 객체를 통한 렌더링\n",
    "\n",
    "### ask django lv3\n",
    "자바스크립트 객체를 통해 컨텐츠가 추가되는 경우 : 컨텐츠가 자바스크립트 코드 내에 들어가 있는 경우\n",
    "\n",
    "이 경우 selinium을 이용해 자바스크립트 객체를 실행해야만 컨텐츠를 얻을 수 있으나, requests를 사용한다면 코드가 실행되지 않고 단순 문자열에 해당한다."
   ]
  },
  {
   "cell_type": "code",
   "execution_count": 55,
   "metadata": {},
   "outputs": [],
   "source": [
    "url = \"https://askdjango.github.io/lv3/\"\n",
    "res = requests.get(url)\n",
    "html = res.text"
   ]
  },
  {
   "cell_type": "code",
   "execution_count": 56,
   "metadata": {},
   "outputs": [],
   "source": [
    "# 컨텐츠는 var s2_courses로 시작해서 ;으로 끝난다. 이 특성을 활용하여 정규표현식을 써서 데이터를 추출한다."
   ]
  },
  {
   "cell_type": "code",
   "execution_count": 57,
   "metadata": {},
   "outputs": [],
   "source": [
    "import re"
   ]
  },
  {
   "cell_type": "code",
   "execution_count": 59,
   "metadata": {},
   "outputs": [
    {
     "data": {
      "text/plain": [
       "<re.Match object; span=(245, 5558), match='var s2_courses = [\\n        { \"name\": \"장고 2.0 주요 >"
      ]
     },
     "execution_count": 59,
     "metadata": {},
     "output_type": "execute_result"
    }
   ],
   "source": [
    "# 패턴 정하기\n",
    "re.search(r'var s2_courses = (.+);', html, re.DOTALL)  # 정규표현식에서 원래는 .(여러 문자 매칭 가능, ul 포함)자체는 인식하지 않는데 re.DOTALL을 설정하면 인식 가능"
   ]
  },
  {
   "cell_type": "code",
   "execution_count": 63,
   "metadata": {},
   "outputs": [
    {
     "name": "stdout",
     "output_type": "stream",
     "text": [
      "[\n",
      "        { \"name\": \"장고 2.0 주요 변경내역 살펴보기\", \"url\": \"https://www.askcompany.kr/r/sections/f04de5e/\" },\n",
      "        { \"name\": \"(기초편) 장고 차근차근 시작하기 2/E\", \"url\": \"https://www.askcompany.kr/r/sections/dfc55e7/\" },\n",
      "        { \"name\": \"(중급편) 장고 기본인증 뽀개기\", \"url\": \"https://www.askcompany.kr/r/sections/5bb1344/\" },\n",
      "        { \"name\": \"(중급편) 장고 Form/ModelForm 제대로 알고 쓰기\", \"url\": \"https://www.askcompany.kr/r/sections/72d2474/\" },\n",
      "        { \"name\": \"(중급편) 클래스 기반 뷰 잘 알고 쓰기\", \"url\": \"https://www.askcompany.kr/r/sections/387169d/\" },\n",
      "        { \"name\": \"(배포) 빠르게 살펴보는 Azure PaaS를 활용한 인프라 스트레스없는 웹서비스 배포\", \"url\": \"https://www.askcompany.kr/r/sections/7d64b4a/\" },\n",
      "        { \"name\": \"(초급) Pandas 워밍업\", \"url\": \"https://www.askcompany.kr/r/sections/f5bf323/\" },\n",
      "        { \"name\": \"(초급) 10 Minutes to Pandas 따라하기\", \"url\": \"https://www.askcompany.kr/r/sections/d8ccb08/\" },\n",
      "        { \"name\": \"Google Dialogflow와 파이썬/장고를 활용하여, 카카오톡 챗봇 만들기 (초급편)\", \"url\": \"https://www.askcompany.kr/r/sections/d47e585/\" }\n",
      "    ]\n"
     ]
    }
   ],
   "source": [
    "matched = re.search(r'var s2_courses = (.+?);', html, re.DOTALL)  # ?를 추가하면 최소매칭(최대한 타이트하게 매칭)이 됨\n",
    "print(matched.groups()[0])"
   ]
  },
  {
   "cell_type": "code",
   "execution_count": 64,
   "metadata": {},
   "outputs": [
    {
     "data": {
      "text/plain": [
       "[{'name': '장고 2.0 주요 변경내역 살펴보기',\n",
       "  'url': 'https://www.askcompany.kr/r/sections/f04de5e/'},\n",
       " {'name': '(기초편) 장고 차근차근 시작하기 2/E',\n",
       "  'url': 'https://www.askcompany.kr/r/sections/dfc55e7/'},\n",
       " {'name': '(중급편) 장고 기본인증 뽀개기',\n",
       "  'url': 'https://www.askcompany.kr/r/sections/5bb1344/'},\n",
       " {'name': '(중급편) 장고 Form/ModelForm 제대로 알고 쓰기',\n",
       "  'url': 'https://www.askcompany.kr/r/sections/72d2474/'},\n",
       " {'name': '(중급편) 클래스 기반 뷰 잘 알고 쓰기',\n",
       "  'url': 'https://www.askcompany.kr/r/sections/387169d/'},\n",
       " {'name': '(배포) 빠르게 살펴보는 Azure PaaS를 활용한 인프라 스트레스없는 웹서비스 배포',\n",
       "  'url': 'https://www.askcompany.kr/r/sections/7d64b4a/'},\n",
       " {'name': '(초급) Pandas 워밍업',\n",
       "  'url': 'https://www.askcompany.kr/r/sections/f5bf323/'},\n",
       " {'name': '(초급) 10 Minutes to Pandas 따라하기',\n",
       "  'url': 'https://www.askcompany.kr/r/sections/d8ccb08/'},\n",
       " {'name': 'Google Dialogflow와 파이썬/장고를 활용하여, 카카오톡 챗봇 만들기 (초급편)',\n",
       "  'url': 'https://www.askcompany.kr/r/sections/d47e585/'}]"
      ]
     },
     "execution_count": 64,
     "metadata": {},
     "output_type": "execute_result"
    }
   ],
   "source": [
    "json_string = matched.groups()[0]\n",
    "\n",
    "import json\n",
    "json.loads(json_string)"
   ]
  },
  {
   "cell_type": "code",
   "execution_count": 66,
   "metadata": {},
   "outputs": [
    {
     "data": {
      "text/plain": [
       "[{'name': '개발환경 구축하기', 'url': 'https://www.askcompany.kr/vod/setup/'},\n",
       " {'name': '파이썬 차근차근 시작하기', 'url': 'https://www.askcompany.kr/vod/python/'},\n",
       " {'name': '크롤링 차근차근 시작하기', 'url': 'https://www.askcompany.kr/vod/crawling/'},\n",
       " {'name': '파이썬으로 업무 자동화', 'url': 'https://www.askcompany.kr/vod/automation/'},\n",
       " {'name': '장고 - 기본편', 'url': 'https://www.askcompany.kr/vod/django/'},\n",
       " {'name': '장고걸스 튜토리얼', 'url': 'https://www.askcompany.kr/vod/djangogirls/'},\n",
       " {'name': '장고 - Form/ModelForm 잘 알고 쓰기',\n",
       "  'url': 'https://www.askcompany.kr/vod/form/'},\n",
       " {'name': '장고 - 클래스 기반 뷰. 잘 알고 쓰기',\n",
       "  'url': 'https://www.askcompany.kr/vod/cbv/'},\n",
       " {'name': '장고 - 결제 시스템 연동', 'url': 'https://www.askcompany.kr/vod/payment/'},\n",
       " {'name': '장고 - 웹 프론트엔드 시작편',\n",
       "  'url': 'https://www.askcompany.kr/vod/frontend/'},\n",
       " {'name': '장고 - 다양한 위젯 만들기', 'url': 'https://www.askcompany.kr/vod/widgets/'},\n",
       " {'name': '장고 - API 서버 만들기 및 초간단 안드로이드 앱 만들기',\n",
       "  'url': 'https://www.askcompany.kr/vod/apiserver/'},\n",
       " {'name': '장고 - 하이브리드 앱 만들기', 'url': 'https://www.askcompany.kr/vod/hybrid/'},\n",
       " {'name': '장고 - 서비스 배포하기', 'url': 'https://www.askcompany.kr/vod/deploy/'},\n",
       " {'name': '장고 - 실전편 (Feat. 배달의 민족 St. 만들기)',\n",
       "  'url': 'https://www.askcompany.kr/vod/django-baemin/'},\n",
       " {'name': '장고 - 실전편 (Feat. 인스타그램 St. 만들기)',\n",
       "  'url': 'https://www.askcompany.kr/vod/django-instagram/'}]"
      ]
     },
     "execution_count": 66,
     "metadata": {},
     "output_type": "execute_result"
    }
   ],
   "source": [
    "# s1 course의 경우\n",
    "matched = re.search(r'var\\s*s1_courses\\s*=\\s*(.+?);', html, re.DOTALL)  # \\s*를 추가하면 띄어쓰기가 있든 없든 다 추출 가능\n",
    "json_string = matched.groups()[0]\n",
    "json.loads(json_string)"
   ]
  },
  {
   "cell_type": "code",
   "execution_count": 68,
   "metadata": {},
   "outputs": [
    {
     "name": "stdout",
     "output_type": "stream",
     "text": [
      "개발환경 구축하기\n",
      "파이썬 차근차근 시작하기\n",
      "크롤링 차근차근 시작하기\n",
      "파이썬으로 업무 자동화\n",
      "장고 - 기본편\n",
      "장고걸스 튜토리얼\n",
      "장고 - Form/ModelForm 잘 알고 쓰기\n",
      "장고 - 클래스 기반 뷰. 잘 알고 쓰기\n",
      "장고 - 결제 시스템 연동\n",
      "장고 - 웹 프론트엔드 시작편\n",
      "장고 - 다양한 위젯 만들기\n",
      "장고 - API 서버 만들기 및 초간단 안드로이드 앱 만들기\n",
      "장고 - 하이브리드 앱 만들기\n",
      "장고 - 서비스 배포하기\n",
      "장고 - 실전편 (Feat. 배달의 민족 St. 만들기)\n",
      "장고 - 실전편 (Feat. 인스타그램 St. 만들기)\n"
     ]
    }
   ],
   "source": [
    "s1_course = json.loads(json_string)\n",
    "\n",
    "for course in s1_course:\n",
    "    print(course['name'])"
   ]
  },
  {
   "cell_type": "code",
   "execution_count": null,
   "metadata": {},
   "outputs": [],
   "source": []
  }
 ],
 "metadata": {
  "kernelspec": {
   "display_name": "Python 3",
   "language": "python",
   "name": "python3"
  },
  "language_info": {
   "codemirror_mode": {
    "name": "ipython",
    "version": 3
   },
   "file_extension": ".py",
   "mimetype": "text/x-python",
   "name": "python",
   "nbconvert_exporter": "python",
   "pygments_lexer": "ipython3",
   "version": "3.7.3"
  }
 },
 "nbformat": 4,
 "nbformat_minor": 2
}
