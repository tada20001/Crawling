{
 "cells": [
  {
   "cell_type": "markdown",
   "metadata": {},
   "source": [
    "## Level 1: 단순 HTML 예시"
   ]
  },
  {
   "cell_type": "code",
   "execution_count": 2,
   "metadata": {},
   "outputs": [],
   "source": [
    "import requests\n",
    "from bs4 import BeautifulSoup"
   ]
  },
  {
   "cell_type": "code",
   "execution_count": 9,
   "metadata": {},
   "outputs": [
    {
     "name": "stdout",
     "output_type": "stream",
     "text": [
      "시즌2\n",
      "장고 2.0 주요 변경내역 살펴보기 https://www.askcompany.kr/r/sections/f04de5e/\n",
      "(기초편) 장고 차근차근 시작하기 2/E https://www.askcompany.kr/r/sections/dfc55e7/\n",
      "(중급편) 장고 기본인증 뽀개기 https://www.askcompany.kr/r/sections/5bb1344/\n",
      "(중급편) 장고 Form/ModelForm 제대로 알고 쓰기 https://www.askcompany.kr/r/sections/72d2474/\n",
      "(중급편) 클래스 기반 뷰 잘 알고 쓰기 https://www.askcompany.kr/r/sections/387169d/\n",
      "(배포) 빠르게 살펴보는 Azure PaaS를 활용한 인프라 스트레스없는 웹서비스 배포 https://www.askcompany.kr/r/sections/7d64b4a/\n",
      "(초급) Pandas 워밍업 https://www.askcompany.kr/r/sections/f5bf323/\n",
      "(초급) 10 Minutes to Pandas 따라하기 https://www.askcompany.kr/r/sections/d8ccb08/\n",
      "Google Dialogflow와 파이썬/장고를 활용하여, 카카오톡 챗봇 만들기 (초급편) https://www.askcompany.kr/r/sections/d47e585/\n"
     ]
    }
   ],
   "source": [
    "html = requests.get(\"https://askdjango.github.io/lv1/\").text\n",
    "soup = BeautifulSoup(html, 'html.parser')\n",
    "\n",
    "print(\"시즌2\")\n",
    "\n",
    "for tag in soup.select(\"#s2_course_list > .course > a\"):\n",
    "    print(tag.text, tag[\"href\"])\n",
    "    #print(tag)"
   ]
  },
  {
   "cell_type": "code",
   "execution_count": 10,
   "metadata": {},
   "outputs": [
    {
     "name": "stdout",
     "output_type": "stream",
     "text": [
      "시즌1\n",
      "개발환경 구축하기 https://www.askcompany.kr/vod/setup/\n",
      "파이썬 차근차근 시작하기 https://www.askcompany.kr/vod/python/\n",
      "크롤링 차근차근 시작하기 https://www.askcompany.kr/vod/crawling/\n",
      "파이썬으로 업무 자동화 https://www.askcompany.kr/vod/automation/\n",
      "장고 - 기본편 https://www.askcompany.kr/vod/django/\n",
      "장고걸스 튜토리얼 https://www.askcompany.kr/vod/djangogirls/\n",
      "장고 - Form/ModelForm 잘 알고 쓰기 https://www.askcompany.kr/vod/form/\n",
      "장고 - 클래스 기반 뷰. 잘 알고 쓰기 https://www.askcompany.kr/vod/cbv/\n",
      "장고 - 결제 시스템 연동 https://www.askcompany.kr/vod/payment/\n",
      "장고 - 웹 프론트엔드 시작편 https://www.askcompany.kr/vod/frontend/\n",
      "장고 - 다양한 위젯 만들기 https://www.askcompany.kr/vod/widgets/\n",
      "장고 - API 서버 만들기 및 초간단 안드로이드 앱 만들기 https://www.askcompany.kr/vod/apiserver/\n",
      "장고 - 하이브리드 앱 만들기 https://www.askcompany.kr/vod/hybrid/\n",
      "장고 - 서비스 배포하기 https://www.askcompany.kr/vod/deploy/\n",
      "장고 - 실전편 (Feat. 배달의 민족 St. 만들기) https://www.askcompany.kr/vod/django-baemin/\n",
      "장고 - 실전편 (Feat. 인스타그램 St. 만들기) https://www.askcompany.kr/vod/django-instagram/\n"
     ]
    }
   ],
   "source": [
    "print(\"시즌1\")\n",
    "for tag in soup.select(\"#s1_course_list > .course > a\"):\n",
    "    print(tag.text, tag[\"href\"])"
   ]
  },
  {
   "cell_type": "code",
   "execution_count": null,
   "metadata": {},
   "outputs": [],
   "source": []
  }
 ],
 "metadata": {
  "kernelspec": {
   "display_name": "Python 3",
   "language": "python",
   "name": "python3"
  },
  "language_info": {
   "codemirror_mode": {
    "name": "ipython",
    "version": 3
   },
   "file_extension": ".py",
   "mimetype": "text/x-python",
   "name": "python",
   "nbconvert_exporter": "python",
   "pygments_lexer": "ipython3",
   "version": "3.7.3"
  }
 },
 "nbformat": 4,
 "nbformat_minor": 2
}
