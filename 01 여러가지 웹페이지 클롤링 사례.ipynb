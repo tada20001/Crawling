{
 "cells": [
  {
   "cell_type": "markdown",
   "metadata": {},
   "source": [
    "## Level 1: 단순 HTML 예시"
   ]
  },
  {
   "cell_type": "code",
   "execution_count": 1,
   "metadata": {},
   "outputs": [],
   "source": [
    "import requests\n",
    "from bs4 import BeautifulSoup"
   ]
  },
  {
   "cell_type": "code",
   "execution_count": 2,
   "metadata": {},
   "outputs": [
    {
     "name": "stdout",
     "output_type": "stream",
     "text": [
      "시즌2\n",
      "장고 2.0 주요 변경내역 살펴보기 https://www.askcompany.kr/r/sections/f04de5e/\n",
      "(기초편) 장고 차근차근 시작하기 2/E https://www.askcompany.kr/r/sections/dfc55e7/\n",
      "(중급편) 장고 기본인증 뽀개기 https://www.askcompany.kr/r/sections/5bb1344/\n",
      "(중급편) 장고 Form/ModelForm 제대로 알고 쓰기 https://www.askcompany.kr/r/sections/72d2474/\n",
      "(중급편) 클래스 기반 뷰 잘 알고 쓰기 https://www.askcompany.kr/r/sections/387169d/\n",
      "(배포) 빠르게 살펴보는 Azure PaaS를 활용한 인프라 스트레스없는 웹서비스 배포 https://www.askcompany.kr/r/sections/7d64b4a/\n",
      "(초급) Pandas 워밍업 https://www.askcompany.kr/r/sections/f5bf323/\n",
      "(초급) 10 Minutes to Pandas 따라하기 https://www.askcompany.kr/r/sections/d8ccb08/\n",
      "Google Dialogflow와 파이썬/장고를 활용하여, 카카오톡 챗봇 만들기 (초급편) https://www.askcompany.kr/r/sections/d47e585/\n"
     ]
    }
   ],
   "source": [
    "html = requests.get(\"https://askdjango.github.io/lv1/\").text\n",
    "soup = BeautifulSoup(html, 'html.parser')\n",
    "\n",
    "print(\"시즌2\")\n",
    "\n",
    "for tag in soup.select(\"#s2_course_list > .course > a\"):\n",
    "    print(tag.text, tag[\"href\"])\n",
    "    #print(tag)"
   ]
  },
  {
   "cell_type": "code",
   "execution_count": 3,
   "metadata": {},
   "outputs": [
    {
     "name": "stdout",
     "output_type": "stream",
     "text": [
      "시즌1\n",
      "개발환경 구축하기 https://www.askcompany.kr/vod/setup/\n",
      "파이썬 차근차근 시작하기 https://www.askcompany.kr/vod/python/\n",
      "크롤링 차근차근 시작하기 https://www.askcompany.kr/vod/crawling/\n",
      "파이썬으로 업무 자동화 https://www.askcompany.kr/vod/automation/\n",
      "장고 - 기본편 https://www.askcompany.kr/vod/django/\n",
      "장고걸스 튜토리얼 https://www.askcompany.kr/vod/djangogirls/\n",
      "장고 - Form/ModelForm 잘 알고 쓰기 https://www.askcompany.kr/vod/form/\n",
      "장고 - 클래스 기반 뷰. 잘 알고 쓰기 https://www.askcompany.kr/vod/cbv/\n",
      "장고 - 결제 시스템 연동 https://www.askcompany.kr/vod/payment/\n",
      "장고 - 웹 프론트엔드 시작편 https://www.askcompany.kr/vod/frontend/\n",
      "장고 - 다양한 위젯 만들기 https://www.askcompany.kr/vod/widgets/\n",
      "장고 - API 서버 만들기 및 초간단 안드로이드 앱 만들기 https://www.askcompany.kr/vod/apiserver/\n",
      "장고 - 하이브리드 앱 만들기 https://www.askcompany.kr/vod/hybrid/\n",
      "장고 - 서비스 배포하기 https://www.askcompany.kr/vod/deploy/\n",
      "장고 - 실전편 (Feat. 배달의 민족 St. 만들기) https://www.askcompany.kr/vod/django-baemin/\n",
      "장고 - 실전편 (Feat. 인스타그램 St. 만들기) https://www.askcompany.kr/vod/django-instagram/\n"
     ]
    }
   ],
   "source": [
    "print(\"시즌1\")\n",
    "for tag in soup.select(\"#s1_course_list > .course > a\"):\n",
    "    print(tag.text, tag[\"href\"])"
   ]
  },
  {
   "cell_type": "markdown",
   "metadata": {},
   "source": [
    "## Level 2: Ajax 렌더링 크롤링"
   ]
  },
  {
   "cell_type": "code",
   "execution_count": 5,
   "metadata": {},
   "outputs": [],
   "source": [
    "res = requests.get(\"https://askdjango.github.io/lv2/data.json\")  # /data.json 추가 필요\n",
    "course_dict = res.json()"
   ]
  },
  {
   "cell_type": "code",
   "execution_count": 6,
   "metadata": {},
   "outputs": [
    {
     "data": {
      "text/plain": [
       "{'s2': [{'name': '장고 2.0 주요 변경내역 살펴보기',\n",
       "   'url': 'https://www.askcompany.kr/r/sections/f04de5e/'},\n",
       "  {'name': '(기초편) 장고 차근차근 시작하기 2/E',\n",
       "   'url': 'https://www.askcompany.kr/r/sections/dfc55e7/'},\n",
       "  {'name': '(중급편) 장고 기본인증 뽀개기',\n",
       "   'url': 'https://www.askcompany.kr/r/sections/5bb1344/'},\n",
       "  {'name': '(중급편) 장고 Form/ModelForm 제대로 알고 쓰기',\n",
       "   'url': 'https://www.askcompany.kr/r/sections/72d2474/'},\n",
       "  {'name': '(중급편) 클래스 기반 뷰 잘 알고 쓰기',\n",
       "   'url': 'https://www.askcompany.kr/r/sections/387169d/'},\n",
       "  {'name': '(배포) 빠르게 살펴보는 Azure PaaS를 활용한 인프라 스트레스없는 웹서비스 배포',\n",
       "   'url': 'https://www.askcompany.kr/r/sections/7d64b4a/'},\n",
       "  {'name': '(초급) Pandas 워밍업',\n",
       "   'url': 'https://www.askcompany.kr/r/sections/f5bf323/'},\n",
       "  {'name': '(초급) 10 Minutes to Pandas 따라하기',\n",
       "   'url': 'https://www.askcompany.kr/r/sections/d8ccb08/'},\n",
       "  {'name': 'Google Dialogflow와 파이썬/장고를 활용하여, 카카오톡 챗봇 만들기 (초급편)',\n",
       "   'url': 'https://www.askcompany.kr/r/sections/d47e585/'}],\n",
       " 's1': [{'name': '개발환경 구축하기', 'url': 'https://www.askcompany.kr/vod/setup/'},\n",
       "  {'name': '파이썬 차근차근 시작하기', 'url': 'https://www.askcompany.kr/vod/python/'},\n",
       "  {'name': '크롤링 차근차근 시작하기', 'url': 'https://www.askcompany.kr/vod/crawling/'},\n",
       "  {'name': '파이썬으로 업무 자동화', 'url': 'https://www.askcompany.kr/vod/automation/'},\n",
       "  {'name': '장고 - 기본편', 'url': 'https://www.askcompany.kr/vod/django/'},\n",
       "  {'name': '장고걸스 튜토리얼', 'url': 'https://www.askcompany.kr/vod/djangogirls/'},\n",
       "  {'name': '장고 - Form/ModelForm 잘 알고 쓰기',\n",
       "   'url': 'https://www.askcompany.kr/vod/form/'},\n",
       "  {'name': '장고 - 클래스 기반 뷰. 잘 알고 쓰기',\n",
       "   'url': 'https://www.askcompany.kr/vod/cbv/'},\n",
       "  {'name': '장고 - 결제 시스템 연동', 'url': 'https://www.askcompany.kr/vod/payment/'},\n",
       "  {'name': '장고 - 웹 프론트엔드 시작편',\n",
       "   'url': 'https://www.askcompany.kr/vod/frontend/'},\n",
       "  {'name': '장고 - 다양한 위젯 만들기', 'url': 'https://www.askcompany.kr/vod/widgets/'},\n",
       "  {'name': '장고 - API 서버 만들기 및 초간단 안드로이드 앱 만들기',\n",
       "   'url': 'https://www.askcompany.kr/vod/apiserver/'},\n",
       "  {'name': '장고 - 하이브리드 앱 만들기', 'url': 'https://www.askcompany.kr/vod/hybrid/'},\n",
       "  {'name': '장고 - 서비스 배포하기', 'url': 'https://www.askcompany.kr/vod/deploy/'},\n",
       "  {'name': '장고 - 실전편 (Feat. 배달의 민족 St. 만들기)',\n",
       "   'url': 'https://www.askcompany.kr/vod/django-baemin/'},\n",
       "  {'name': '장고 - 실전편 (Feat. 인스타그램 St. 만들기)',\n",
       "   'url': 'https://www.askcompany.kr/vod/django-instagram/'}]}"
      ]
     },
     "execution_count": 6,
     "metadata": {},
     "output_type": "execute_result"
    }
   ],
   "source": [
    "course_dict"
   ]
  },
  {
   "cell_type": "code",
   "execution_count": 9,
   "metadata": {},
   "outputs": [
    {
     "name": "stdout",
     "output_type": "stream",
     "text": [
      "장고 2.0 주요 변경내역 살펴보기 https://www.askcompany.kr/r/sections/f04de5e/\n",
      "(기초편) 장고 차근차근 시작하기 2/E https://www.askcompany.kr/r/sections/dfc55e7/\n",
      "(중급편) 장고 기본인증 뽀개기 https://www.askcompany.kr/r/sections/5bb1344/\n",
      "(중급편) 장고 Form/ModelForm 제대로 알고 쓰기 https://www.askcompany.kr/r/sections/72d2474/\n",
      "(중급편) 클래스 기반 뷰 잘 알고 쓰기 https://www.askcompany.kr/r/sections/387169d/\n",
      "(배포) 빠르게 살펴보는 Azure PaaS를 활용한 인프라 스트레스없는 웹서비스 배포 https://www.askcompany.kr/r/sections/7d64b4a/\n",
      "(초급) Pandas 워밍업 https://www.askcompany.kr/r/sections/f5bf323/\n",
      "(초급) 10 Minutes to Pandas 따라하기 https://www.askcompany.kr/r/sections/d8ccb08/\n",
      "Google Dialogflow와 파이썬/장고를 활용하여, 카카오톡 챗봇 만들기 (초급편) https://www.askcompany.kr/r/sections/d47e585/\n"
     ]
    }
   ],
   "source": [
    "for course in course_dict['s2']:\n",
    "    print(course['name'], course['url'])"
   ]
  },
  {
   "cell_type": "code",
   "execution_count": 10,
   "metadata": {},
   "outputs": [
    {
     "name": "stdout",
     "output_type": "stream",
     "text": [
      "시즌1\n",
      "개발환경 구축하기 https://www.askcompany.kr/vod/setup/\n",
      "파이썬 차근차근 시작하기 https://www.askcompany.kr/vod/python/\n",
      "크롤링 차근차근 시작하기 https://www.askcompany.kr/vod/crawling/\n",
      "파이썬으로 업무 자동화 https://www.askcompany.kr/vod/automation/\n",
      "장고 - 기본편 https://www.askcompany.kr/vod/django/\n",
      "장고걸스 튜토리얼 https://www.askcompany.kr/vod/djangogirls/\n",
      "장고 - Form/ModelForm 잘 알고 쓰기 https://www.askcompany.kr/vod/form/\n",
      "장고 - 클래스 기반 뷰. 잘 알고 쓰기 https://www.askcompany.kr/vod/cbv/\n",
      "장고 - 결제 시스템 연동 https://www.askcompany.kr/vod/payment/\n",
      "장고 - 웹 프론트엔드 시작편 https://www.askcompany.kr/vod/frontend/\n",
      "장고 - 다양한 위젯 만들기 https://www.askcompany.kr/vod/widgets/\n",
      "장고 - API 서버 만들기 및 초간단 안드로이드 앱 만들기 https://www.askcompany.kr/vod/apiserver/\n",
      "장고 - 하이브리드 앱 만들기 https://www.askcompany.kr/vod/hybrid/\n",
      "장고 - 서비스 배포하기 https://www.askcompany.kr/vod/deploy/\n",
      "장고 - 실전편 (Feat. 배달의 민족 St. 만들기) https://www.askcompany.kr/vod/django-baemin/\n",
      "장고 - 실전편 (Feat. 인스타그램 St. 만들기) https://www.askcompany.kr/vod/django-instagram/\n"
     ]
    }
   ],
   "source": [
    "print('시즌1')\n",
    "for course in course_dict['s1']:\n",
    "    print(course['name'], course['url'])"
   ]
  },
  {
   "cell_type": "markdown",
   "metadata": {},
   "source": [
    "## Level 3: 자바스크립트 렌더링"
   ]
  },
  {
   "cell_type": "code",
   "execution_count": 11,
   "metadata": {},
   "outputs": [],
   "source": [
    "import json\n",
    "import re\n",
    "import requests"
   ]
  },
  {
   "cell_type": "code",
   "execution_count": 12,
   "metadata": {},
   "outputs": [
    {
     "name": "stdout",
     "output_type": "stream",
     "text": [
      "<!doctype html>\n",
      "<html lang=\"ko\">\n",
      "<head>\n",
      "<meta charset=\"utf-8\" />\n",
      "<title>[레벨3] 자바스크립트 렌더링 크롤링</title>\n",
      "<style>\n",
      "#logo {\n",
      "    max-width: 100%;\n",
      "}\n",
      "</style>\n",
      "<script src=\"https://code.jquery.com/jquery-2.2.4.min.js\"></script>\n",
      "<script>\n",
      "$(function() {\n",
      "    var s2_courses = [\n",
      "        { \"name\": \"장고 2.0 주요 변경내역 살펴보기\", \"url\": \"https://www.askcompany.kr/r/sections/f04de5e/\" },\n",
      "        { \"name\": \"(기초편) 장고 차근차근 시작하기 2/E\", \"url\": \"https://www.askcompany.kr/r/sections/dfc55e7/\" },\n",
      "        { \"name\": \"(중급편) 장고 기본인증 뽀개기\", \"url\": \"https://www.askcompany.kr/r/sections/5bb1344/\" },\n",
      "        { \"name\": \"(중급편) 장고 Form/ModelForm 제대로 알고 쓰기\", \"url\": \"https://www.askcompany.kr/r/sections/72d2474/\" },\n",
      "        { \"name\": \"(중급편) 클래스 기반 뷰 잘 알고 쓰기\", \"url\": \"https://www.askcompany.kr/r/sections/387169d/\" },\n",
      "        { \"name\": \"(배포) 빠르게 살펴보는 Azure PaaS를 활용한 인프라 스트레스없는 웹서비스 배포\", \"url\": \"https://www.askcompany.kr/r/sections/7d64b4a/\" },\n",
      "        { \"name\": \"(초급) Pandas 워밍업\", \"url\": \"https://www.askcompany.kr/r/sections/f5bf323/\" },\n",
      "        { \"name\": \"(초급) 10 Minutes to Pandas 따라하기\", \"url\": \"https://www.askcompany.kr/r/sections/d8ccb08/\" },\n",
      "        { \"name\": \"Google Dialogflow와 파이썬/장고를 활용하여, 카카오톡 챗봇 만들기 (초급편)\", \"url\": \"https://www.askcompany.kr/r/sections/d47e585/\" }\n",
      "    ];\n",
      "    $.each(s2_courses, function(idx, course) {\n",
      "        var html = '<li class=\"course\"><a href=\"' + course.url + '\">' + course.name + '</a></li>';\n",
      "        $('#s2_course_list').append($(html));\n",
      "    });\n",
      "\n",
      "    var s1_courses = [\n",
      "        {\"name\": \"개발환경 구축하기\", \"url\": \"https://www.askcompany.kr/vod/setup/\"},\n",
      "        {\"name\": \"파이썬 차근차근 시작하기\", \"url\": \"https://www.askcompany.kr/vod/python/\"},\n",
      "        {\"name\": \"크롤링 차근차근 시작하기\", \"url\": \"https://www.askcompany.kr/vod/crawling/\"},\n",
      "        {\"name\": \"파이썬으로 업무 자동화\", \"url\": \"https://www.askcompany.kr/vod/automation/\"},\n",
      "        {\"name\": \"장고 - 기본편\", \"url\": \"https://www.askcompany.kr/vod/django/\"},\n",
      "        {\"name\": \"장고걸스 튜토리얼\", \"url\": \"https://www.askcompany.kr/vod/djangogirls/\"},\n",
      "        {\"name\": \"장고 - Form/ModelForm 잘 알고 쓰기\", \"url\": \"https://www.askcompany.kr/vod/form/\"},\n",
      "        {\"name\": \"장고 - 클래스 기반 뷰. 잘 알고 쓰기\", \"url\": \"https://www.askcompany.kr/vod/cbv/\"},\n",
      "        {\"name\": \"장고 - 결제 시스템 연동\", \"url\": \"https://www.askcompany.kr/vod/payment/\"},\n",
      "        {\"name\": \"장고 - 웹 프론트엔드 시작편\", \"url\": \"https://www.askcompany.kr/vod/frontend/\"},\n",
      "        {\"name\": \"장고 - 다양한 위젯 만들기\", \"url\": \"https://www.askcompany.kr/vod/widgets/\"},\n",
      "        {\"name\": \"장고 - API 서버 만들기 및 초간단 안드로이드 앱 만들기\", \"url\": \"https://www.askcompany.kr/vod/apiserver/\"},\n",
      "        {\"name\": \"장고 - 하이브리드 앱 만들기\", \"url\": \"https://www.askcompany.kr/vod/hybrid/\"},\n",
      "        {\"name\": \"장고 - 서비스 배포하기\", \"url\": \"https://www.askcompany.kr/vod/deploy/\"},\n",
      "        {\"name\": \"장고 - 실전편 (Feat. 배달의 민족 St. 만들기)\", \"url\": \"https://www.askcompany.kr/vod/django-baemin/\"},\n",
      "        {\"name\": \"장고 - 실전편 (Feat. 인스타그램 St. 만들기)\", \"url\": \"https://www.askcompany.kr/vod/django-instagram/\"}\n",
      "    ];\n",
      "    $.each(s1_courses, function(idx, course) {\n",
      "        var html = '<li class=\"course\"><a href=\"' + course.url + '\">' + course.name + '</a></li>';\n",
      "        $('#s1_course_list').append($(html));\n",
      "    });\n",
      "});\n",
      "</script>\n",
      "</head>\n",
      "<body>\n",
      "<h1>Ask Company VOD</h1>\n",
      "\n",
      "<h2>[레벨3] 자바스크립트 렌더링 크롤링</h2>\n",
      "\n",
      "<p>본 페이지는 자바스크립트 객체를 통해 컨텐츠가 추가됩니다.</p>\n",
      "\n",
      "<h3>시즌2</h3>\n",
      "\n",
      "<ul id=\"s2_course_list\"></ul>\n",
      "\n",
      "<h3>시즌1</h3>\n",
      "\n",
      "<ul id=\"s1_course_list\"></ul>\n",
      "\n",
      "<img src=\"https://askcompanyjpe.blob.core.windows.net/static/askcompany-og.jpg\" id=\"logo\" />\n",
      "\n",
      "<hr/>\n",
      "\n",
      "<h3>미션</h3>\n",
      "\n",
      "<ul>\n",
      "    <li>위 VOD 코스의 코스명과 URL을 크롤링</li>\n",
      "    <li>제약사항 : requests 라이브러리만을 사용하세요.</li>\n",
      "</ul>\n",
      "\n",
      "실행 예시\n",
      "\n",
      "<pre>\n",
      "    장고 2.0 주요 변경내역 살펴보기 https://www.askcompany.kr/r/sections/f04de5e/\n",
      "    (기초편) 장고 차근차근 시작하기 2/E https://www.askcompany.kr/r/sections/dfc55e7/\n",
      "    (중급편) 장고 기본인증 뽀개기 https://www.askcompany.kr/r/sections/5bb1344/\n",
      "    (중급편) 장고 Form/ModelForm 제대로 알고 쓰기 https://www.askcompany.kr/r/sections/72d2474/\n",
      "    (중급편) 클래스 기반 뷰 잘 알고 쓰기 https://www.askcompany.kr/r/sections/387169d/\n",
      "    (배포) 빠르게 살펴보는 Azure PaaS를 활용한 인프라 스트레스없는 웹서비스 배포 https://www.askcompany.kr/r/sections/7d64b4a/\n",
      "    (초급) Pandas 워밍업 https://www.askcompany.kr/r/sections/f5bf323/\n",
      "    (초급) 10 Minutes to Pandas 따라하기 https://www.askcompany.kr/r/sections/d8ccb08/\n",
      "    Google Dialogflow와 파이썬/장고를 활용하여, 카카오톡 챗봇 만들기 (초급편) https://www.askcompany.kr/r/sections/d47e585/\n",
      "    개발환경 구축하기 https://www.askcompany.kr/vod/setup/\n",
      "    파이썬 차근차근 시작하기 https://www.askcompany.kr/vod/python/\n",
      "    크롤링 차근차근 시작하기 https://www.askcompany.kr/vod/crawling/\n",
      "    파이썬으로 업무 자동화 https://www.askcompany.kr/vod/automation/\n",
      "    장고 - 기본편 https://www.askcompany.kr/vod/django/\n",
      "    장고걸스 튜토리얼 https://www.askcompany.kr/vod/djangogirls/\n",
      "    장고 - Form/ModelForm 잘 알고 쓰기 https://www.askcompany.kr/vod/form/\n",
      "    장고 - 클래스 기반 뷰. 잘 알고 쓰기 https://www.askcompany.kr/vod/cbv/\n",
      "    장고 - 결제 시스템 연동 https://www.askcompany.kr/vod/payment/\n",
      "    장고 - 웹 프론트엔드 시작편 https://www.askcompany.kr/vod/frontend/\n",
      "    장고 - 다양한 위젯 만들기 https://www.askcompany.kr/vod/widgets/\n",
      "    장고 - API 서버 만들기 및 초간단 안드로이드 앱 만들기 https://www.askcompany.kr/vod/apiserver/\n",
      "    장고 - 하이브리드 앱 만들기 https://www.askcompany.kr/vod/hybrid/\n",
      "    장고 - 서비스 배포하기 https://www.askcompany.kr/vod/deploy/\n",
      "    장고 - 실전편 (Feat. 배달의 민족 St. 만들기) https://www.askcompany.kr/vod/django-baemin/\n",
      "    장고 - 실전편 (Feat. 인스타그램 St. 만들기) https://www.askcompany.kr/vod/django-instagram/\n",
      "</pre>\n",
      "\n",
      "<p>Ask Company 크롤링 VOD를 통해 크롤링의 기본을 배우고, 꾸준히 크롤링을 연습해보세요.</p>\n",
      "\n",
      "<hr/>\n",
      "    <p><a href=\"/\">home</a></p>\n",
      "    <p>\n",
      "    여러분의 파이썬/장고 페이스메이커가 되겠습니다. &dash; <a href=\"https://www.askcompany.kr/vod/\">Ask Company VOD</a>\n",
      "    </p>\n",
      "    <p>\n",
      "    &copy;\n",
      "    <script>document.write((new Date()).getYear() + 1900);</script>\n",
      "    Ask Company\n",
      "</p>\n",
      "</body>\n",
      "</html>\n",
      "\n"
     ]
    }
   ],
   "source": [
    "res = requests.get(\"https://askdjango.github.io/lv3/\")\n",
    "json = res.text\n",
    "print(json)"
   ]
  },
  {
   "cell_type": "code",
   "execution_count": null,
   "metadata": {},
   "outputs": [],
   "source": []
  }
 ],
 "metadata": {
  "kernelspec": {
   "display_name": "Python 3",
   "language": "python",
   "name": "python3"
  },
  "language_info": {
   "codemirror_mode": {
    "name": "ipython",
    "version": 3
   },
   "file_extension": ".py",
   "mimetype": "text/x-python",
   "name": "python",
   "nbconvert_exporter": "python",
   "pygments_lexer": "ipython3",
   "version": "3.7.3"
  }
 },
 "nbformat": 4,
 "nbformat_minor": 2
}
