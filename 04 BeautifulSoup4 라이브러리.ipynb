{
 "cells": [
  {
   "cell_type": "markdown",
   "metadata": {},
   "source": [
    "## HTTP 응답\n",
    "\n",
    "* 웹서버는 대개 HTML, CSS, JavaSrip, Image 형식으로 응답한다.\n",
    "* HTML 문서는 중첩된 태그로 구성된 계층구조로 이루어져 있다."
   ]
  },
  {
   "cell_type": "markdown",
   "metadata": {},
   "source": [
    "## DOM 문서\n",
    "* 브라우저는 HTML 문자열을 DOM Tree로 변환하여 문서를 표현한다.\n",
    "* 서버로부터 응답을 받는다면 이 부분에 집중해야 한다. 보통 브라우저의 \"페이지 소스보기\"를 통해 확인한다.\n",
    "* 그러나 이때 브라우저 나름의 해석에 들어간다. 이는 브라우저의 \"개발자 도구\"를 통해 확인한다."
   ]
  },
  {
   "cell_type": "markdown",
   "metadata": {},
   "source": [
    "## 복잡한 문자열에서 특정 문자열을 가져오려면?\n",
    "* 방법 1: 정규표현식 활용\n",
    "    * 가장 빠른 처리가 가능하나 정규표현식 Rule을 만드는 것이 많이 번거롭고 복잡하다.\n",
    "    * 때에 따라 필요할 수 있다.\n",
    "* 방법 2: HTML Parser 라이브러리 활용\n",
    "    * DOM Tree를 탐색하는 방식으로 적용이 쉽다.\n",
    "    \n",
    "    ex) BeautifulSoup4, lxml, pyquery 등"
   ]
  },
  {
   "cell_type": "markdown",
   "metadata": {},
   "source": [
    "## BeautifulSoup4\n",
    "HTML/XML 문자열에서 원하는 태크 정보를 뽑아낸다."
   ]
  },
  {
   "cell_type": "code",
   "execution_count": 1,
   "metadata": {},
   "outputs": [],
   "source": [
    "import requests\n",
    "from bs4 import BeautifulSoup"
   ]
  },
  {
   "cell_type": "markdown",
   "metadata": {},
   "source": [
    "## 다양한 BeautifulSoup4의 Parser\n",
    "\n",
    "### html.parser\n",
    "* BeautifulSoup4 내장 파서\n",
    "\n",
    "### lxml\n",
    "* lxml HTML 파서 사용(외부 C 라이브러리)\n",
    "* html.parser보다 유연하고 빠른 처리\n",
    "* 설치 : pip install lxml"
   ]
  },
  {
   "cell_type": "raw",
   "metadata": {},
   "source": [
    "soup = BeautifulSoup(파싱할 문자열, 'html.parser')"
   ]
  },
  {
   "cell_type": "markdown",
   "metadata": {},
   "source": [
    "## HTML 내에서 태그 찾기\n",
    "* 방법 1: find를 통해 하나씩 차근차근 찾아들어가기\n",
    "* 방법 2: 태크간의 관계를 지정하여 찾기 with CSS Selector"
   ]
  },
  {
   "cell_type": "markdown",
   "metadata": {},
   "source": [
    "## Melon Chart HTML 획득하기"
   ]
  },
  {
   "cell_type": "code",
   "execution_count": 21,
   "metadata": {},
   "outputs": [],
   "source": [
    "import requests\n",
    "from bs4 import BeautifulSoup"
   ]
  },
  {
   "cell_type": "code",
   "execution_count": 22,
   "metadata": {},
   "outputs": [],
   "source": [
    "request_headers = {\n",
    "    'User-Agent': 'Mozilla/5.0 (Macintosh; Intel Mac OS X 10_13_6) AppleWebKit/537.36 (KHTML, like Gecko) Chrome/77.0.3865.90 Safari/537.36',\n",
    "    'Referer': 'http://www.melon.com'\n",
    "}\n",
    "url = \"https://www.melon.com/chart/index.htm\"\n",
    "res = requests.get(url, headers=request_headers)\n",
    "html = res.text"
   ]
  },
  {
   "cell_type": "code",
   "execution_count": 23,
   "metadata": {},
   "outputs": [
    {
     "data": {
      "text/plain": [
       "200"
      ]
     },
     "execution_count": 23,
     "metadata": {},
     "output_type": "execute_result"
    }
   ],
   "source": [
    "res.status_code"
   ]
  },
  {
   "cell_type": "code",
   "execution_count": 24,
   "metadata": {},
   "outputs": [],
   "source": [
    "soup = BeautifulSoup(html, 'html.parser')"
   ]
  },
  {
   "cell_type": "code",
   "execution_count": 25,
   "metadata": {},
   "outputs": [
    {
     "data": {
      "text/plain": [
       "159"
      ]
     },
     "execution_count": 25,
     "metadata": {},
     "output_type": "execute_result"
    }
   ],
   "source": [
    "tag_list = soup.select('li')\n",
    "len(tag_list)"
   ]
  },
  {
   "cell_type": "markdown",
   "metadata": {},
   "source": [
    "### 방법 1: find를 통해 하나씩 차근차근 찾아들어가기"
   ]
  },
  {
   "cell_type": "code",
   "execution_count": 28,
   "metadata": {},
   "outputs": [
    {
     "name": "stdout",
     "output_type": "stream",
     "text": [
      "1 떨어지는 낙엽까지도\n",
      "2 어떻게 이별까지 사랑하겠어, 널 사랑하는 거지\n",
      "3 새 사랑\n",
      "4 흔들리는 꽃들 속에서 네 샴푸향이 느껴진거야\n",
      "5 있어줘요\n",
      "6 조금 취했어 (Prod. 2soo)\n",
      "7 허전해\n",
      "8 사랑이란 멜로는 없어\n",
      "9 워커홀릭\n",
      "10 안녕\n",
      "11 오늘도 빛나는 너에게 (To You My Light) (Feat.이라온)\n",
      "12 시든 꽃에 물을 주듯\n",
      "13 만추 (Feat. Crush)\n",
      "14 가을밤 떠난 너\n",
      "15 Feel Special\n",
      "16 니 소식\n",
      "17 우리 어떻게 할까요\n",
      "18 포장마차\n",
      "19 기억해줘요 내 모든 날과 그때를\n",
      "20 헤어지자 (Prod. 정키)\n",
      "21 호랑이소굴 (Feat. Jvcki Wai)\n",
      "22 가끔 이러다\n",
      "23 2002\n",
      "24 Señorita\n",
      "25 천둥벌거숭이 (Feat. Jvcki Wai, 염따)\n",
      "26 사랑에 연습이 있었다면 (Prod. 2soo)\n",
      "27 사랑이 식었다고 말해도 돼\n",
      "28 그대라는 시\n",
      "29 술이 문제야\n",
      "30 사람\n",
      "31 이별행동\n",
      "32 BAND\n",
      "33 작은 것들을 위한 시 (Boy With Luv) feat. Halsey\n",
      "34 다시 만날까 봐\n",
      "35 모든 날, 모든 순간 (Every day, Every Moment)\n",
      "36 bad guy\n",
      "37 우리 시작해도 괜찮을까요\n",
      "38 나의 어깨에 기대어요\n",
      "39 헤어져줘서 고마워\n",
      "40 벗\n",
      "41 헤어질 자신 있니 (Narr. SBS 박선영 아나운서)\n",
      "42 Done For Me\n",
      "43 내 목소리 들리니\n",
      "44 일기\n",
      "45 사월이 지나면 우리 헤어져요 (Beautiful goodbye)\n",
      "46 달\n",
      "47 너를 만나\n",
      "48 널 안지 않을 수 있어야지\n",
      "49 Speechless (Full)\n",
      "50 내 안부\n",
      "51 날라리 (LALALAY)\n",
      "52 사계 (Four Seasons)\n",
      "53 솔직하게 말해서 나\n",
      "54 복숭아\n",
      "55 가을속에서\n",
      "56 내 맘을 볼 수 있나요\n",
      "57 노래방에서\n",
      "58 가라사대\n",
      "59 FLASH\n",
      "60 꿈속에 너 (Feat. 전상근)\n",
      "61 DAUM (Feat. Colde)\n",
      "62 그때가 좋았어\n",
      "63 ICY\n",
      "64 전화를 할까봐\n",
      "65 담아 (Feat. 염따, pH-1) (Prod. BOYCOLD)\n",
      "66 DEAR LOVE\n",
      "67 너에게 못했던 내 마지막 말은\n",
      "68 Paris In The Rain\n",
      "69 괜찮아도 괜찮아 (That`s okay)\n",
      "70 나빠(NAPPA)\n",
      "71 FANCY\n",
      "72 FREEDOM\n",
      "73 아퍼 (Feat. Kid Milli, Lil tachi, 김승민, NO:EL, C JAMM)\n",
      "74 주저하는 연인들을 위해\n",
      "75 봄날\n",
      "76 그대에게\n",
      "77 Snapping\n",
      "78 인사\n",
      "79 Believer\n",
      "80 비\n",
      "81 고운 그대는 시들지 않으리\n",
      "82 물 만난 물고기\n",
      "83 Another Day\n",
      "84 사랑 둘\n",
      "85 그댄 모르죠\n",
      "86 밤 끝없는 밤\n",
      "87 IDOL\n",
      "88 음파음파 (Umpah Umpah)\n",
      "89 사계 (하루살이)\n",
      "90 달라달라\n",
      "91 We don`t talk together (Feat. 기리보이) (Prod. SUGA)\n",
      "92 잘 자요\n",
      "93 XX\n",
      "94 Goodbye\n",
      "95 나만 아픈 일\n",
      "96 Way Back Home\n",
      "97 뱃노래\n",
      "98 Love Shot\n",
      "99 독 : Fear\n",
      "100 웃을 때 제일 예뻐\n"
     ]
    }
   ],
   "source": [
    "tag_list = []\n",
    "for tr_tag in soup.find(id=\"tb_list\").find_all('tr'):\n",
    "    tag = tr_tag.find(class_='wrap_song_info')\n",
    "    if tag:\n",
    "        tag_sub_list = tag.find_all(href=lambda value: (value and \"playSong\" in value))\n",
    "        tag_list.extend(tag_sub_list)\n",
    "\n",
    "for idx, tag in enumerate(tag_list):\n",
    "    print(idx+1, tag.text)"
   ]
  },
  {
   "cell_type": "markdown",
   "metadata": {},
   "source": [
    "### 방법 2: CSS Selector 활용"
   ]
  },
  {
   "cell_type": "code",
   "execution_count": 30,
   "metadata": {},
   "outputs": [
    {
     "name": "stdout",
     "output_type": "stream",
     "text": [
      "1 떨어지는 낙엽까지도\n",
      "2 어떻게 이별까지 사랑하겠어, 널 사랑하는 거지\n",
      "3 새 사랑\n",
      "4 흔들리는 꽃들 속에서 네 샴푸향이 느껴진거야\n",
      "5 있어줘요\n",
      "6 조금 취했어 (Prod. 2soo)\n",
      "7 허전해\n",
      "8 사랑이란 멜로는 없어\n",
      "9 워커홀릭\n",
      "10 안녕\n",
      "11 오늘도 빛나는 너에게 (To You My Light) (Feat.이라온)\n",
      "12 시든 꽃에 물을 주듯\n",
      "13 만추 (Feat. Crush)\n",
      "14 가을밤 떠난 너\n",
      "15 Feel Special\n",
      "16 니 소식\n",
      "17 우리 어떻게 할까요\n",
      "18 포장마차\n",
      "19 기억해줘요 내 모든 날과 그때를\n",
      "20 헤어지자 (Prod. 정키)\n",
      "21 호랑이소굴 (Feat. Jvcki Wai)\n",
      "22 가끔 이러다\n",
      "23 2002\n",
      "24 Señorita\n",
      "25 천둥벌거숭이 (Feat. Jvcki Wai, 염따)\n",
      "26 사랑에 연습이 있었다면 (Prod. 2soo)\n",
      "27 사랑이 식었다고 말해도 돼\n",
      "28 그대라는 시\n",
      "29 술이 문제야\n",
      "30 사람\n",
      "31 이별행동\n",
      "32 BAND\n",
      "33 작은 것들을 위한 시 (Boy With Luv) feat. Halsey\n",
      "34 다시 만날까 봐\n",
      "35 모든 날, 모든 순간 (Every day, Every Moment)\n",
      "36 bad guy\n",
      "37 우리 시작해도 괜찮을까요\n",
      "38 나의 어깨에 기대어요\n",
      "39 헤어져줘서 고마워\n",
      "40 벗\n",
      "41 헤어질 자신 있니 (Narr. SBS 박선영 아나운서)\n",
      "42 Done For Me\n",
      "43 내 목소리 들리니\n",
      "44 일기\n",
      "45 사월이 지나면 우리 헤어져요 (Beautiful goodbye)\n",
      "46 달\n",
      "47 너를 만나\n",
      "48 널 안지 않을 수 있어야지\n",
      "49 Speechless (Full)\n",
      "50 내 안부\n",
      "51 날라리 (LALALAY)\n",
      "52 사계 (Four Seasons)\n",
      "53 솔직하게 말해서 나\n",
      "54 복숭아\n",
      "55 가을속에서\n",
      "56 내 맘을 볼 수 있나요\n",
      "57 노래방에서\n",
      "58 가라사대\n",
      "59 FLASH\n",
      "60 꿈속에 너 (Feat. 전상근)\n",
      "61 DAUM (Feat. Colde)\n",
      "62 그때가 좋았어\n",
      "63 ICY\n",
      "64 전화를 할까봐\n",
      "65 담아 (Feat. 염따, pH-1) (Prod. BOYCOLD)\n",
      "66 DEAR LOVE\n",
      "67 너에게 못했던 내 마지막 말은\n",
      "68 Paris In The Rain\n",
      "69 괜찮아도 괜찮아 (That`s okay)\n",
      "70 나빠(NAPPA)\n",
      "71 FANCY\n",
      "72 FREEDOM\n",
      "73 아퍼 (Feat. Kid Milli, Lil tachi, 김승민, NO:EL, C JAMM)\n",
      "74 주저하는 연인들을 위해\n",
      "75 봄날\n",
      "76 그대에게\n",
      "77 Snapping\n",
      "78 인사\n",
      "79 Believer\n",
      "80 비\n",
      "81 고운 그대는 시들지 않으리\n",
      "82 물 만난 물고기\n",
      "83 Another Day\n",
      "84 사랑 둘\n",
      "85 그댄 모르죠\n",
      "86 밤 끝없는 밤\n",
      "87 IDOL\n",
      "88 음파음파 (Umpah Umpah)\n",
      "89 사계 (하루살이)\n",
      "90 달라달라\n",
      "91 We don`t talk together (Feat. 기리보이) (Prod. SUGA)\n",
      "92 잘 자요\n",
      "93 XX\n",
      "94 Goodbye\n",
      "95 나만 아픈 일\n",
      "96 Way Back Home\n",
      "97 뱃노래\n",
      "98 Love Shot\n",
      "99 독 : Fear\n",
      "100 웃을 때 제일 예뻐\n"
     ]
    }
   ],
   "source": [
    "tag_list = soup.select(\"#tb_list tr .wrap_song_info a[href*=playSong]\") # a를 찾는 것인데 href가 playSong이 포함된 것만 찾음\n",
    "for idx, tag in enumerate(tag_list):\n",
    "    print(idx+1, tag.text)"
   ]
  },
  {
   "cell_type": "markdown",
   "metadata": {},
   "source": [
    "## CSS selector 문법\n",
    "\n",
    "* \"tag_name[attr]\"     : tag_name 태그 중에 attr 속성이 정의된 모든 태크\n",
    "* \"tag_name[attr=bar]\" : tag_name 태그 중에 attr 속성 값이 bar인 모든 태크\n",
    "* \"tag_name[attr*=bar]\" : tag_name 태그 중에 attr 속성 값에 bar 문자열이 포함된 모든 태그\n",
    "* \"tag_name[attr^=bar]\" : tag_name 태그 중에 attr 속성 값이 bar 문자열로 시작하는 모든 태그\n",
    "* \"tag_name[attr$=bar]\" : tag_name 태그 중에 attr 속성 값에 bar 문자열로 끝나는 모든 태그"
   ]
  },
  {
   "cell_type": "markdown",
   "metadata": {},
   "source": [
    "## Tip. CSS Selector 지정할 때\n",
    "패턴을 너무 타이트하게 지정하면 HTML 마크업이 조금만 변경되어도 태그를 찾을수 없게 된다. 적절하게 최소한의 패턴을 지정하는 게 좋다."
   ]
  },
  {
   "cell_type": "markdown",
   "metadata": {},
   "source": [
    "### Practice : 멜론 TOP 100 사이트에서 100곡에 대해 아래 정보 수립하기\n",
    "* 곡명\n",
    "* 앨범명\n",
    "* 가수명\n",
    "* 랭킹"
   ]
  },
  {
   "cell_type": "code",
   "execution_count": 70,
   "metadata": {},
   "outputs": [],
   "source": [
    "title_list = soup.select(\"#tb_list tr .wrap_song_info a[href*=playSong]\") # a를 찾는 것인데 href가 playSong이 포함된 것만 찾음\n",
    "album_list = soup.select(\"#tb_list tr .wrap_song_info a[href*=goAlbumDetail]\")\n",
    "singer_list = soup.select(\".wrap_song_info > div a[href*=goArtistDetail]\")\n",
    "rank_list = soup.select(\"td > div > .rank\")"
   ]
  },
  {
   "cell_type": "code",
   "execution_count": 87,
   "metadata": {},
   "outputs": [],
   "source": [
    "import pandas as pd\n",
    "\n",
    "song_list = []\n",
    "for rank, title, singer, album in zip(rank_list, title_list, singer_list, album_list):\n",
    "    song = {\n",
    "        \"rank\": rank.text,\n",
    "        \"title\": title.text,\n",
    "        \"singer\": singer.text,\n",
    "        \"album\": album.text\n",
    "    }\n",
    "    song_list.append(song)"
   ]
  },
  {
   "cell_type": "code",
   "execution_count": 89,
   "metadata": {},
   "outputs": [
    {
     "data": {
      "text/html": [
       "<div>\n",
       "<style scoped>\n",
       "    .dataframe tbody tr th:only-of-type {\n",
       "        vertical-align: middle;\n",
       "    }\n",
       "\n",
       "    .dataframe tbody tr th {\n",
       "        vertical-align: top;\n",
       "    }\n",
       "\n",
       "    .dataframe thead th {\n",
       "        text-align: right;\n",
       "    }\n",
       "</style>\n",
       "<table border=\"1\" class=\"dataframe\">\n",
       "  <thead>\n",
       "    <tr style=\"text-align: right;\">\n",
       "      <th></th>\n",
       "      <th>rank</th>\n",
       "      <th>title</th>\n",
       "      <th>singer</th>\n",
       "      <th>album</th>\n",
       "    </tr>\n",
       "  </thead>\n",
       "  <tbody>\n",
       "    <tr>\n",
       "      <td>95</td>\n",
       "      <td>96</td>\n",
       "      <td>Way Back Home</td>\n",
       "      <td>권진아</td>\n",
       "      <td>Take</td>\n",
       "    </tr>\n",
       "    <tr>\n",
       "      <td>96</td>\n",
       "      <td>97</td>\n",
       "      <td>뱃노래</td>\n",
       "      <td>10cm</td>\n",
       "      <td>항해</td>\n",
       "    </tr>\n",
       "    <tr>\n",
       "      <td>97</td>\n",
       "      <td>98</td>\n",
       "      <td>Love Shot</td>\n",
       "      <td>10cm</td>\n",
       "      <td>LOVE SHOT - The 5th Album Repackage</td>\n",
       "    </tr>\n",
       "    <tr>\n",
       "      <td>98</td>\n",
       "      <td>99</td>\n",
       "      <td>독 : Fear</td>\n",
       "      <td>벤</td>\n",
       "      <td>SEVENTEEN 3RD ALBUM ‘An Ode’</td>\n",
       "    </tr>\n",
       "    <tr>\n",
       "      <td>99</td>\n",
       "      <td>100</td>\n",
       "      <td>웃을 때 제일 예뻐</td>\n",
       "      <td>벤</td>\n",
       "      <td>비상 : QUANTUM LEAP</td>\n",
       "    </tr>\n",
       "  </tbody>\n",
       "</table>\n",
       "</div>"
      ],
      "text/plain": [
       "   rank          title singer                                album\n",
       "95   96  Way Back Home    권진아                                 Take\n",
       "96   97            뱃노래   10cm                                   항해\n",
       "97   98      Love Shot   10cm  LOVE SHOT - The 5th Album Repackage\n",
       "98   99       독 : Fear      벤         SEVENTEEN 3RD ALBUM ‘An Ode’\n",
       "99  100     웃을 때 제일 예뻐      벤                    비상 : QUANTUM LEAP"
      ]
     },
     "execution_count": 89,
     "metadata": {},
     "output_type": "execute_result"
    }
   ],
   "source": [
    "df = pd.DataFrame(song_list)\n",
    "df.tail()"
   ]
  },
  {
   "cell_type": "code",
   "execution_count": 90,
   "metadata": {},
   "outputs": [],
   "source": [
    "df.to_csv('song_list.csv')"
   ]
  },
  {
   "cell_type": "code",
   "execution_count": null,
   "metadata": {},
   "outputs": [],
   "source": []
  }
 ],
 "metadata": {
  "kernelspec": {
   "display_name": "Python 3",
   "language": "python",
   "name": "python3"
  },
  "language_info": {
   "codemirror_mode": {
    "name": "ipython",
    "version": 3
   },
   "file_extension": ".py",
   "mimetype": "text/x-python",
   "name": "python",
   "nbconvert_exporter": "python",
   "pygments_lexer": "ipython3",
   "version": "3.7.3"
  }
 },
 "nbformat": 4,
 "nbformat_minor": 2
}
