{
 "cells": [
  {
   "cell_type": "markdown",
   "metadata": {},
   "source": [
    "네이버 통합 검색 페이지에서는 하나의 페이지 안에서 “연관검색어”, “쇼핑”, “뉴스”, “블로그”, “지식인” 등의 검색결과가 보여진다. 이 중에 연관검색어와 뉴스에 대해서 집중적으로 살펴본다. 뉴스의 경우 태그에서 class가 없이 id가 다양하게 사용되고 있는데, 이를 정규표현식을 통해 손쉽게 태그를 찾아본다."
   ]
  },
  {
   "cell_type": "code",
   "execution_count": 1,
   "metadata": {},
   "outputs": [],
   "source": [
    "import requests\n",
    "from bs4 import BeautifulSoup"
   ]
  },
  {
   "cell_type": "code",
   "execution_count": 2,
   "metadata": {},
   "outputs": [
    {
     "data": {
      "text/plain": [
       "<Response [200]>"
      ]
     },
     "execution_count": 2,
     "metadata": {},
     "output_type": "execute_result"
    }
   ],
   "source": [
    "# 통합 페이지\n",
    "page_url = \"https://search.naver.com/search.naver\"\n",
    "query = '에어팟'\n",
    "oquery = '에어팟'\n",
    "params = {\n",
    "    'sm': 'tab_hty.top',\n",
    "    'where': 'nexearch',\n",
    "    'query': query,\n",
    "    'tqi': 'UjEhClprvxZssKf0%2FmNssssssG0-074872',\n",
    "}\n",
    "\n",
    "\n",
    "res = requests.get(page_url, params=params)\n",
    "res"
   ]
  },
  {
   "cell_type": "markdown",
   "metadata": {},
   "source": [
    "## 연관검색어"
   ]
  },
  {
   "cell_type": "code",
   "execution_count": 15,
   "metadata": {},
   "outputs": [
    {
     "name": "stdout",
     "output_type": "stream",
     "text": [
      "아이폰이어폰\n",
      "https://search.naver.com/search.naver?where=nexearch&query=%EC%95%84%EC%9D%B4%ED%8F%B0%EC%9D%B4%EC%96%B4%ED%8F%B0&ie=utf8&sm=tab_she&qdt=0\n",
      "\n",
      "아이폰xs\n",
      "https://search.naver.com/search.naver?where=nexearch&query=%EC%95%84%EC%9D%B4%ED%8F%B0xs&ie=utf8&sm=tab_she&qdt=0\n",
      "\n",
      "에어팟기능\n",
      "https://search.naver.com/search.naver?where=nexearch&query=%EC%97%90%EC%96%B4%ED%8C%9F%EA%B8%B0%EB%8A%A5&ie=utf8&sm=tab_she&qdt=0\n",
      "\n",
      "애플이어팟\n",
      "https://search.naver.com/search.naver?where=nexearch&query=%EC%95%A0%ED%94%8C%EC%9D%B4%EC%96%B4%ED%8C%9F&ie=utf8&sm=tab_she&qdt=0\n",
      "\n",
      "에어팟2세대\n",
      "https://search.naver.com/search.naver?where=nexearch&query=%EC%97%90%EC%96%B4%ED%8C%9F2%EC%84%B8%EB%8C%80&ie=utf8&sm=tab_she&qdt=0\n",
      "\n",
      "아이팟\n",
      "https://search.naver.com/search.naver?where=nexearch&query=%EC%95%84%EC%9D%B4%ED%8C%9F&ie=utf8&sm=tab_she&qdt=0\n",
      "\n",
      "에어팟직구\n",
      "https://search.naver.com/search.naver?where=nexearch&query=%EC%97%90%EC%96%B4%ED%8C%9F%EC%A7%81%EA%B5%AC&ie=utf8&sm=tab_she&qdt=0\n",
      "\n",
      "에어팟2\n",
      "https://search.naver.com/search.naver?where=nexearch&query=%EC%97%90%EC%96%B4%ED%8C%9F2&ie=utf8&sm=tab_she&qdt=0\n",
      "\n",
      "에어팟2세대출시일\n",
      "https://search.naver.com/search.naver?where=nexearch&query=%EC%97%90%EC%96%B4%ED%8C%9F2%EC%84%B8%EB%8C%80%EC%B6%9C%EC%8B%9C%EC%9D%BC&ie=utf8&sm=tab_she&qdt=0\n",
      "\n",
      "애플에어팟\n",
      "https://search.naver.com/search.naver?where=nexearch&query=%EC%95%A0%ED%94%8C%EC%97%90%EC%96%B4%ED%8C%9F&ie=utf8&sm=tab_she&qdt=0\n",
      "\n"
     ]
    }
   ],
   "source": [
    "from urllib.parse import urljoin\n",
    "html = res.text\n",
    "soup = BeautifulSoup(html, 'html.parser')\n",
    "# 연관검색어 크롤링\n",
    "tag_list = soup.select('._related_keyword_list a')\n",
    "for tag in tag_list:\n",
    "    url = urljoin(page_url, tag[\"href\"]) # page_url + url도 가능하나 좀더 안전한 방법으로 urlib.parse의 urljoin 사용\n",
    "    print(tag.text)\n",
    "    print(url)\n",
    "    print()"
   ]
  },
  {
   "cell_type": "markdown",
   "metadata": {},
   "source": [
    "## 뉴스 타이틀"
   ]
  },
  {
   "cell_type": "code",
   "execution_count": 16,
   "metadata": {},
   "outputs": [
    {
     "data": {
      "text/plain": [
       "<Response [200]>"
      ]
     },
     "execution_count": 16,
     "metadata": {},
     "output_type": "execute_result"
    }
   ],
   "source": [
    "page_url = \"https://search.naver.com/search.naver\"\n",
    "query = '에어팟'\n",
    "params = {\n",
    "    'where': \"news\",\n",
    "    'sm': 'tab_pge',\n",
    "    'query': query,\n",
    "}\n",
    "\n",
    "\n",
    "res = requests.get(page_url, params=params)\n",
    "res"
   ]
  },
  {
   "cell_type": "code",
   "execution_count": 32,
   "metadata": {},
   "outputs": [
    {
     "data": {
      "text/plain": [
       "20"
      ]
     },
     "execution_count": 32,
     "metadata": {},
     "output_type": "execute_result"
    }
   ],
   "source": [
    "html = res.text\n",
    "soup = BeautifulSoup(html, 'html.parser')\n",
    "tag_list = soup.select('[id^=sp_nws]')  #^= sp_nws로 시작하는 id 찾기\n",
    "len(tag_list)  # 뉴스가 10개인데 20개가 출력됨"
   ]
  },
  {
   "cell_type": "code",
   "execution_count": 51,
   "metadata": {},
   "outputs": [
    {
     "name": "stdout",
     "output_type": "stream",
     "text": [
      "쌍용차, ‘오감만족’ 전시장 방문 이벤트…트롬건조기·에어팟 경품\n",
      "영버스폰, 아이폰11 사전예약 에어팟2 증정…아이폰Xs, 아이폰Xr 80% 할인\n",
      "한국 상륙 ‘아이폰11’ 18일부터 예판, 통신3사 혜택은?\n",
      "\"에어팟 산 지 1년도 안됐는데 배터리가 엄청 빨리 닳는 것 같습니다\"\n",
      "애플 아이폰11 사전예약 돌입 백화점상품권부터 에어팟2, 애플케어플러스까지...\n",
      "쌍용차, '오감만족' 전시장 방문 이벤트\n",
      "통신 3사, 5G는 잠시 내려놓고 LTE 고객 유치 경쟁…“아이폰11 효과”\n",
      "아이폰11 시리즈 빠른 사전예약 사은품 에어팟 2세대, 아이패드 '올댓폰' 증정...\n",
      "구글, 에어팟 대항마 '픽셀 버즈2' 공개\n",
      "이통3사, '아이폰 11' 시리즈 예약판매 개시\n"
     ]
    }
   ],
   "source": [
    "for i in range(0, len(tag_list), 2):\n",
    "    for tag in tag_list[i].select('._sp_each_title'):\n",
    "        print(tag.text)"
   ]
  },
  {
   "cell_type": "markdown",
   "metadata": {},
   "source": [
    "### 정규표현식 방법"
   ]
  },
  {
   "cell_type": "code",
   "execution_count": 52,
   "metadata": {},
   "outputs": [],
   "source": [
    "import re"
   ]
  },
  {
   "cell_type": "code",
   "execution_count": 53,
   "metadata": {},
   "outputs": [
    {
     "data": {
      "text/plain": [
       "10"
      ]
     },
     "execution_count": 53,
     "metadata": {},
     "output_type": "execute_result"
    }
   ],
   "source": [
    "tag_list = soup.find_all(id=re.compile(r'^sp_nws\\d+$'))\n",
    "\n",
    "len(tag_list)"
   ]
  },
  {
   "cell_type": "code",
   "execution_count": 66,
   "metadata": {},
   "outputs": [
    {
     "name": "stdout",
     "output_type": "stream",
     "text": [
      "쌍용차, ‘오감만족’ 전시장 방문 이벤트…트롬건조기·에어팟 경품 \n",
      " http://www.dailian.co.kr/news/view/835005/?sc=naver \n",
      " 여행상품권과 건조기, 최신 에어팟 등 다양한 감각을 만족시킬 수 있는 선물들이 마련된 ‘오감만족’... 애플 에어팟2(10명) ▲’즐거움’ 백화점상품권(1만원, 50명) ▲’여유’ 스타벅스 커피교환권(100명) 등 푸짐한...\n",
      "\n",
      "영버스폰, 아이폰11 사전예약 에어팟2 증정…아이폰Xs, 아이폰Xr 80% 할인 \n",
      " http://www.cctvnews.co.kr/news/articleView.html?idxno=143569 \n",
      " 대상으로 에어팟2를 사은품으로 제공한다. 이동통신사의 혜택과 중복으로 제공되는 특별 프로모션에 해당하기 때문에 이번 아이폰11 사전예약에 참여할 소비자들의 높은 관심을 받는 이유다. 에어팟2는 국내 공식...\n",
      "\n",
      "한국 상륙 ‘아이폰11’ 18일부터 예판, 통신3사 혜택은? \n",
      " http://www.ddaily.co.kr/news/article.html?no=186997 \n",
      " 케이스 ▲에어팟 3만원 할인쿠폰 ▲스타벅스 2020년 다이어리 ▲제이버드 블루투스 이어폰 ▲캐로타... KT샵 사전예약 고객 1100명에게는 최신형 맥북에어, 에어팟2, 액세서리 할인쿠폰 등을 증정한다. 아이폰11...\n",
      "\n",
      "\"에어팟 산 지 1년도 안됐는데 배터리가 엄청 빨리 닳는 것 같습니다\" \n",
      " https://www.insight.co.kr/news/251216 \n",
      " = 애플의 무선 이어폰 제품 '에어팟'의 배터리 성능 문제가 제기됐다.지난 9일(현지 시간) 워싱턴포스트는 구매한 지 2년도 안 된 에어팟의 배터리 문제에 대해 보도했다.보도에 따르면 한 사용자의 에어팟이 완충 15분 만에...\n",
      "\n",
      "애플 아이폰11 사전예약 돌입 백화점상품권부터 에어팟2, 애플케어플러스까지... \n",
      " http://www.dailypop.kr/news/articleView.html?idxno=41578 \n",
      " 엘파크몰에서는 아이폰11 사전예약 전원에게 전용 케이스, 전용액정보호필름, 에어팟2 케이스를 100% 지급하고, 번호이동, 기기변경 등 가입유형, 요금제에 따라 최대 30만원 백화점 상품권, 애플 정품 에어팟2세대...\n",
      "\n",
      "쌍용차, '오감만족' 전시장 방문 이벤트 \n",
      " http://www.businesskorea.co.kr/news/articleView.html?idxno=37143 \n",
      " 여행상품권과 건조기, 최신 에어팟 등 다양한 감각을 만족시킬 수 있는 선물들이 마련된 '오감만족... 애플 에어팟2(10명) ▲'즐거움' 백화점상품권(1만원, 50명) ▲'여유' 스타벅스 커피교환권(100명) 등 푸짐한 경품을...\n",
      "\n",
      "통신 3사, 5G는 잠시 내려놓고 LTE 고객 유치 경쟁…“아이폰11 효과” \n",
      " https://biz.chosun.com/site/data/html_dir/2019/10/17/2019101701541.html \n",
      " LG유플러스는 아이폰11을 구매하는 고객에게 2세대 에어팟을 25% 할인가에 구매할 수 있는 쿠폰을 제공한다. 또 공식 온라인몰에서 예약하는 고객에게 카카오 에어팟2 실리콘 케이스 등을 증정한다. [ ]\n",
      "\n",
      "아이폰11 시리즈 빠른 사전예약 사은품 에어팟 2세대, 아이패드 '올댓폰' 증정... \n",
      " http://www.it-b.co.kr/news/articleView.html?idxno=34473 \n",
      " 현재 가장 좋은 반응을 얻고 있는 아이폰11 시리즈 사전예약 사은품은 에어팟 2세대이며, 아이폰7 모델부터 이어폰 단자가 사라져 나온 만큼 애플 유저들 사이에선 에어팟 구매가 필수로 여겨져 에어팟 사은품이 좋은...\n",
      "\n",
      "구글, 에어팟 대항마 '픽셀 버즈2' 공개 \n",
      " http://www.inews24.com/view/1215255 \n",
      " 구글이 새로운 에어팟 대항마 픽셀 버즈2를 내놨다. 구글은 15일 뉴욕에서 열린 신제품 발표행사에 2세대... 이 시장은 애플의 에어팟이 큰 성공을 거두며 주목을 받기 시작했으며 최근 가장 빠르게 성장하는 분야중...\n",
      "\n",
      "이통3사, '아이폰 11' 시리즈 예약판매 개시 \n",
      " http://www.m-i.kr/news/articleView.html?idxno=646523 \n",
      " 2세대 에어팟을 25% 할인가에 구매할 수 있는 쿠폰을 제공한다. 또한 공식 온라인몰인 U+샵을 통해 예약가입 후 구매하면 △모토로라 Verve buds 무선 블루투스 이어폰 △카카오 에어팟2 실리콘 케이스, 동시충전...\n",
      "\n"
     ]
    }
   ],
   "source": [
    "# 나머지는 동일\n",
    "for tag in tag_list:\n",
    "    title = tag.select_one('._sp_each_title').text\n",
    "    url = tag.select_one('._sp_each_title')['href']\n",
    "    desc = tag.select('dd')[1].text\n",
    "    print(title, \"\\n\", url, \"\\n\", desc)\n",
    "    print()"
   ]
  },
  {
   "cell_type": "markdown",
   "metadata": {},
   "source": [
    "## 블로그 검색"
   ]
  },
  {
   "cell_type": "code",
   "execution_count": 67,
   "metadata": {},
   "outputs": [
    {
     "data": {
      "text/plain": [
       "<Response [200]>"
      ]
     },
     "execution_count": 67,
     "metadata": {},
     "output_type": "execute_result"
    }
   ],
   "source": [
    "page_url = \"https://search.naver.com/search.naver\"\n",
    "query = \"에어팟\"\n",
    "params = {\n",
    "    'where': \"post\",\n",
    "    \"sm\": \"tab_jum\",\n",
    "    \"query\": query,\n",
    "    'nso': 'so%3Ar%2Cp%3Aall%2Ca%3Aall'\n",
    "}\n",
    "\n",
    "res = requests.get(page_url, params=params)\n",
    "res"
   ]
  },
  {
   "cell_type": "code",
   "execution_count": 79,
   "metadata": {},
   "outputs": [
    {
     "name": "stdout",
     "output_type": "stream",
     "text": [
      "소라윙즈의 소소한 ... >>> 에어팟 갤럭시 연결 방법, 안드로이드에서 배터리 확인까지 호환! https://blog.naver.com/soary81?Redirect=Log&logNo=221680096316\n",
      "에어팟 1세대, 2세대가 큰 인기를 끌면서 갤노트10, 갤S10 5G 등 안드로이드 폰을 쓰고... 잘 아는 분들이야 이미 에어팟 갤럭시 연결 방법이나 호환 된다는 것을 잘 알고...\n",
      "\n",
      "워터포르의 디지털 ... >>> 에어팟 무선충전 2세대 특징, 그리고 가격 내리는 방법? http://wapotv.com/221664265961\n",
      "더군다나 H1 칩셋으로 기능성을 향상시킨 에어팟 무선충전 2세대가 출시됨에 따라... 나의 아이폰 찾기, 연결된 에어팟 클릭, 사운드 재생을 통해 멀리 있어서도 띠링...\n",
      "\n",
      "전자랜드 공식블로그 >>> 세상 핫한 블루투스 이어폰 브랜드 3종 비교(에어팟 2세대... https://blog.naver.com/etlandking?Redirect=Log&logNo=221678136230\n",
      "에어팟 1세대 유선 이어폰이 대세이던 시절에도 무선 이어폰들은 존재했지만... 애플 에어팟 1세대의 등장이었죠. 출시 당시만 해도 콩나물(?)이라고 놀림을 받았지만...\n",
      "\n",
      "Luric >>> 애플 에어팟 2세대의 소리 http://luric.co.kr/221629622376\n",
      "운좋게도 일찍 구입했던 에어팟 1세대는 오픈형 이어폰을 자주 쓰지 않는다는 이유로 중고 판매를 했으나, 역시 아이폰과 아이패드를 쓰는 상황에서는 에어팟이 무척...\n",
      "\n",
      "Talic's stage >>> 오픈형 무선이어폰 저가형 에어팟 오투팟 리뷰 https://blog.naver.com/mjm7028?Redirect=Log&logNo=221662108765\n",
      "에어팟과 비슷한 디자인의 흔히 말하는 차이팟같은 개념의 제품이라고 보면 될 것... (에어팟도 검은색좀...) 전면부는 앞에서 언급했듯이 원래 에어팟은 아무것도...\n",
      "\n",
      "네세스의 IT STORY >>> 아이폰11 사전예약 에어팟2까지 기대되는 이유 https://neces2.blog.me/221662196847\n",
      "아이폰11 사전예약 에어팟2까지 기대되는 이유 현재 아이폰11 그린을 직접... 특별히 아이폰11 사전예약을 통해 에어팟2까지 증정이 된다고 하니 아이폰11을 기다리시는...\n",
      "\n",
      "김군의 생각하는노리... >>> 실시간 뒷담화 관리 가능한 아이폰 듣기 지원, 에어팟 없어도 됨 https://blue2310.tistory.com/4226\n",
      "애플의 MFI 인증을 받은 이어폰이나 에어팟이 아니라도 몇 개 블루투스 이어폰을 연결해서 테스트해보니 잘 되더라고요. 하지만 아무래도 에어팟의 성능이 좋아서...\n",
      "\n",
      "Cwon's Life >>> 아이폰11 사전예약하고 에어팟2 사은품 챙겨볼까? http://thecwon.com/221679914975\n",
      "특히 가격적인 부분을 확인하면서도 에어팟2같은 매력적인 사은품이 있는지... 먼저 사전예약에서 가장 매력적인 아이템이라고 할 수 있는 에어팟 2세대가 사은품으로...\n",
      "\n",
      "싱글싱글life >>> 에어팟 업데이트 및 이름 변경하는 방법 알아보기 https://blog.naver.com/gkrwja88?Redirect=Log&logNo=221672896999\n",
      "바로 에어팟입니다. 현재 1.2세대가 나오면서 그 인기를 여전한데요. 전 세계에서... 오디오 공유 지원 및 메시지 읽어주기 에어팟 업데이트가 나왔다고 하는데 과연...\n",
      "\n",
      "MACGUYVER >>> [증정] 에어팟 뺨치는 무선 이어폰, 에이투윙 오픈형 무선... https://blog.naver.com/joyobo7?Redirect=Log&logNo=221678665681\n",
      "애플 에어팟을 꼭 닮은 듯한 디자인인데요. 유선 오픈형 이어폰들이 이어팟의... 에어팟과 달리 기본 방수가 가능한 점은 정말 칭찬해주고 싶네요. 또 자석이 꽤...\n",
      "\n"
     ]
    }
   ],
   "source": [
    "html = res.text\n",
    "soup = BeautifulSoup(html, 'html.parser')\n",
    "tag_list = soup.find_all(id=re.compile(r'^sp_blog_\\d+$'))\n",
    "len(tag_list)\n",
    "\n",
    "for tag in tag_list:\n",
    "    title = tag.select_one('._sp_each_title').text\n",
    "    url = tag.select_one('._sp_each_title')['href']\n",
    "    desc = tag.select_one('.sh_blog_passage').text\n",
    "    blog_title = tag.select_one('.txt_block a').text\n",
    "    print(blog_title, \">>>\", title, url)\n",
    "    print(desc)\n",
    "    print()"
   ]
  },
  {
   "cell_type": "code",
   "execution_count": null,
   "metadata": {},
   "outputs": [],
   "source": []
  }
 ],
 "metadata": {
  "kernelspec": {
   "display_name": "Python 3",
   "language": "python",
   "name": "python3"
  },
  "language_info": {
   "codemirror_mode": {
    "name": "ipython",
    "version": 3
   },
   "file_extension": ".py",
   "mimetype": "text/x-python",
   "name": "python",
   "nbconvert_exporter": "python",
   "pygments_lexer": "ipython3",
   "version": "3.7.3"
  }
 },
 "nbformat": 4,
 "nbformat_minor": 2
}
