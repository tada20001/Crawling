{
 "cells": [
  {
   "cell_type": "code",
   "execution_count": 1,
   "metadata": {},
   "outputs": [],
   "source": [
    "import os\n",
    "import requests"
   ]
  },
  {
   "cell_type": "code",
   "execution_count": 2,
   "metadata": {},
   "outputs": [
    {
     "name": "stdout",
     "output_type": "stream",
     "text": [
      "writing to 20190304165422_16ead90819a164bac058e845343ee514_IMAG01_1.jpg (3342bytes)\n"
     ]
    }
   ],
   "source": [
    "image_url = ('https://image-comic.pstatic.net/webtoon/20853/1164/2019030416' '5422_16ead90819a164bac058e845343ee514_IMAG01_1.jpg')\n",
    "\n",
    "response = requests.get(image_url)\n",
    "image_data = response.content  # 응답 원본데이터 (bytes 타입)\n",
    "filename = os.path.basename(image_url)\n",
    "\n",
    "with open(filename, \"wb\") as f:\n",
    "    print('writing to {} ({}bytes)'.format(filename, len(image_data)))\n",
    "    f.write(image_data)"
   ]
  },
  {
   "cell_type": "code",
   "execution_count": 3,
   "metadata": {},
   "outputs": [
    {
     "name": "stdout",
     "output_type": "stream",
     "text": [
      "01 여러가지 웹페이지 클롤링 사례.ipynb\r\n",
      "02 requests 활용 실전코드.ipynb\r\n",
      "20190304165422_16ead90819a164bac058e845343ee514_IMAG01_1.jpg\r\n",
      "README.md\r\n"
     ]
    }
   ],
   "source": [
    "%ls"
   ]
  },
  {
   "cell_type": "markdown",
   "metadata": {},
   "source": [
    "응답의 정체는 ...\n",
    "Image가 아니라, HTML 문자열이다.\n",
    "\n",
    "요청을 한다고 해서 무조건 응답을 하는 것은 아니다. 서버측 대응은 언제라도 변경될 수 있다."
   ]
  },
  {
   "cell_type": "code",
   "execution_count": 4,
   "metadata": {},
   "outputs": [
    {
     "name": "stdout",
     "output_type": "stream",
     "text": [
      "writing to 20190304165422_16ead90819a164bac058e845343ee514_IMAG01_1.jpg (150285 bytes)\n"
     ]
    }
   ],
   "source": [
    "episode_url = 'https://comic.naver.com/webtoon/detail.nhn?titleId=20853&no=1164&weekday=tue'\n",
    "headers = {'Referer': episode_url}\n",
    "\n",
    "response = requests.get(image_url, headers=headers)\n",
    "image_data = response.content\n",
    "filename = os.path.basename(image_url)\n",
    "\n",
    "with open(filename, 'wb') as f:\n",
    "    print('writing to {} ({} bytes)'.format(filename, len(image_data)))\n",
    "    f.write(image_data)"
   ]
  },
  {
   "cell_type": "code",
   "execution_count": 6,
   "metadata": {},
   "outputs": [
    {
     "name": "stdout",
     "output_type": "stream",
     "text": [
      "01 여러가지 웹페이지 클롤링 사례.ipynb\r\n",
      "02 requests 활용 실전코드.ipynb\r\n",
      "20190304165422_16ead90819a164bac058e845343ee514_IMAG01_1.jpg\r\n",
      "README.md\r\n"
     ]
    }
   ],
   "source": [
    "%ls"
   ]
  },
  {
   "cell_type": "markdown",
   "metadata": {},
   "source": [
    "## 요약\n",
    "* 크롤링할 컨텐츠를 다양한 방법(requests, selenium등)으로 요청하여, 그 컨텐츠가 포함된 문자열 뭉치를 획득\n",
    "\n",
    "* 그 문자열 뭉치가 ...\n",
    "    * HTML 안에 포함이 되어있다면, HTML Parser (BeautifulSoup4 등) 로 쉽게 처리 가능 \n",
    "    * HTML 이외 영역에 있다면, 정규표현식 등의 방법으로 추출 가능"
   ]
  },
  {
   "cell_type": "code",
   "execution_count": null,
   "metadata": {},
   "outputs": [],
   "source": []
  }
 ],
 "metadata": {
  "kernelspec": {
   "display_name": "Python 3",
   "language": "python",
   "name": "python3"
  },
  "language_info": {
   "codemirror_mode": {
    "name": "ipython",
    "version": 3
   },
   "file_extension": ".py",
   "mimetype": "text/x-python",
   "name": "python",
   "nbconvert_exporter": "python",
   "pygments_lexer": "ipython3",
   "version": "3.7.3"
  }
 },
 "nbformat": 4,
 "nbformat_minor": 2
}
