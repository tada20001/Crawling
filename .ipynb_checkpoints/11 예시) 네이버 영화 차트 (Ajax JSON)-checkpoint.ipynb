{
 "cells": [
  {
   "cell_type": "markdown",
   "metadata": {},
   "source": [
    "네이버 영화 차트에서 예매순/현재상영작/개봉예정작/평점순/박스오피스/다운로드순 차트를 크롤링하는 방법과 함께 개별 영화에 대한 평점까지 같이 살펴본다.\n",
    "\n",
    "* 특징 : 영화 랭킹 부분은 페이지 소스에서는 보여지지 않는다. 별도로 자바스크립 소스로 해당 데이터를 얻어 온다.\n",
    "\n",
    "### 예매순"
   ]
  },
  {
   "cell_type": "code",
   "execution_count": 7,
   "metadata": {},
   "outputs": [],
   "source": [
    "import requests\n",
    "\n",
    "url = \"https://movie.naver.com/movieChartJson.nhn\"\n",
    "params = {'type': 'RESERVE'}\n",
    "\n",
    "headers = {\n",
    "    \"User-Agent\":'Mozilla/5.0 (Macintosh; Intel Mac OS X 10_13_6) AppleWebKit/537.36 (KHTML, like Gecko) Chrome/77.0.3865.120 Safari/537.386',\n",
    "    'Referer': \"https://movie.naver.com/\",\n",
    "}\n",
    "res = requests.get(url, params=params, headers=headers)"
   ]
  },
  {
   "cell_type": "code",
   "execution_count": 9,
   "metadata": {},
   "outputs": [
    {
     "data": {
      "text/plain": [
       "dict_keys(['movieChartList'])"
      ]
     },
     "execution_count": 9,
     "metadata": {},
     "output_type": "execute_result"
    }
   ],
   "source": [
    "json_string = res.json()\n",
    "json_string.keys()"
   ]
  },
  {
   "cell_type": "code",
   "execution_count": 12,
   "metadata": {},
   "outputs": [
    {
     "data": {
      "text/plain": [
       "10"
      ]
     },
     "execution_count": 12,
     "metadata": {},
     "output_type": "execute_result"
    }
   ],
   "source": [
    "json_string = json_string[\"movieChartList\"][\"RESERVE\"]\n",
    "len(json_string)"
   ]
  },
  {
   "cell_type": "code",
   "execution_count": 13,
   "metadata": {},
   "outputs": [
    {
     "data": {
      "text/plain": [
       "{'movieCode': 167635,\n",
       " 'movieTitle': '말레피센트 2',\n",
       " 'posterImageUrl': '/20191004_160/1570150829240zmLfa_JPEG/movie_image.jpg',\n",
       " 'weekendAudience': 0,\n",
       " 'openDate': None,\n",
       " 'pointSum': 0,\n",
       " 'joinNumber': 0,\n",
       " 'reserveRatio': 35.77,\n",
       " 'saleRate': None,\n",
       " 'salePossibleYn': False,\n",
       " 'lendingPossibleYn': False,\n",
       " 'adult': False,\n",
       " 'korGradeList': [{'code': '1001002', 'name': '12세 관람가'}],\n",
       " 'lastKoreanGrade': {'code': '1001002', 'name': '12세 관람가'},\n",
       " 'usGradeList': [],\n",
       " 'lastUsGrade': None,\n",
       " 'theater': 0,\n",
       " 'formattedWeekendAudience': '0',\n",
       " 'point': '0.00',\n",
       " 'formattedReserveRatio': '35.77',\n",
       " 'formattedSaleRate': '0.00'}"
      ]
     },
     "execution_count": 13,
     "metadata": {},
     "output_type": "execute_result"
    }
   ],
   "source": [
    "json_string[0]"
   ]
  },
  {
   "cell_type": "code",
   "execution_count": 34,
   "metadata": {},
   "outputs": [
    {
     "name": "stdout",
     "output_type": "stream",
     "text": [
      "1 말레피센트 2 35.77%\n",
      "2 조커 23.61%\n",
      "3 가장 보통의 연애 22.72%\n",
      "4 두번할까요 5.13%\n",
      "5 퍼펙트맨 4.29%\n",
      "6 제미니 맨 1.93%\n",
      "7 너를 만난 여름 0.83%\n",
      "8 82년생 김지영 0.72%\n",
      "9 벌새 0.59%\n",
      "10 버티고 0.54%\n"
     ]
    }
   ],
   "source": [
    "from urllib.parse import urljoin\n",
    "\n",
    "chart_type = \"RESERVE\"\n",
    "for rank, movie in enumerate(res.json()[\"movieChartList\"][chart_type], 1):\n",
    "    print('{} {movieTitle} {reserveRatio}%'.format(rank, **movie))"
   ]
  },
  {
   "cell_type": "markdown",
   "metadata": {},
   "source": [
    "### 현재상영작"
   ]
  },
  {
   "cell_type": "code",
   "execution_count": 40,
   "metadata": {},
   "outputs": [
    {
     "data": {
      "text/plain": [
       "<Response [200]>"
      ]
     },
     "execution_count": 40,
     "metadata": {},
     "output_type": "execute_result"
    }
   ],
   "source": [
    "url = \"https://movie.naver.com/movieChartJson.nhn\"\n",
    "params = {\"type\": \"CURRENT\"}\n",
    "\n",
    "headers = {\n",
    "    \"User-Agent\":'Mozilla/5.0 (Macintosh; Intel Mac OS X 10_13_6) AppleWebKit/537.36 (KHTML, like Gecko) Chrome/77.0.3865.120 Safari/537.386',\n",
    "    'Referer': \"https://movie.naver.com/\",\n",
    "}\n",
    "res = requests.get(url, params=params, headers=headers)\n",
    "res"
   ]
  },
  {
   "cell_type": "code",
   "execution_count": 45,
   "metadata": {},
   "outputs": [
    {
     "name": "stdout",
     "output_type": "stream",
     "text": [
      "1 말레피센트 2 6323점\n",
      "2 두번할까요 2171점\n",
      "3 꼬마 자전거 스피디 80점\n",
      "4 신문기자 272점\n",
      "5 북간도의 십자가 85점\n",
      "6 와일드 로즈 259점\n",
      "7 토막살인범의 고백 300점\n",
      "8 오늘도 위위 800점\n",
      "9 재혼의 기술 90점\n",
      "10 블러드 심플 56점\n"
     ]
    }
   ],
   "source": [
    "chart_type = \"CURRENT\"\n",
    "for rank, movie in enumerate(res.json()[\"movieChartList\"][chart_type], 1):\n",
    "    print(\"{} {movieTitle} {pointSum}점\".format(rank, **movie))\n"
   ]
  },
  {
   "cell_type": "markdown",
   "metadata": {},
   "source": [
    "### 네이버 영화차트 가져오는 함수 만들기"
   ]
  },
  {
   "cell_type": "code",
   "execution_count": 74,
   "metadata": {},
   "outputs": [],
   "source": [
    "def get_naver_movie_chart(chart_type):\n",
    "    url = \"https://movie.naver.com/movieChartJson.nhn\"\n",
    "    params = {\"type\": chart_type}\n",
    "\n",
    "    headers = {\n",
    "    \"User-Agent\":'Mozilla/5.0 (Macintosh; Intel Mac OS X 10_13_6) AppleWebKit/537.36 (KHTML, like Gecko) Chrome/77.0.3865.120 Safari/537.386',\n",
    "    'Referer': \"https://movie.naver.com/\"}\n",
    "    res = requests.get(url, params=params, headers=headers)\n",
    "    \n",
    "    for rank, movie in enumerate(res.json()[\"movieChartList\"][chart_type], 1):\n",
    "        if chart_type == \"RESERVE\":\n",
    "            print('{} {movieTitle} {movieCode} {reserveRatio}%'.format(rank, **movie))\n",
    "        elif chart_type == \"CURRENT\":\n",
    "            print(\"{} {movieTitle}\".format(rank, **movie))\n",
    "        elif chart_type == \"DOWNLOAD\":\n",
    "            print(\"{} {movieTitle} {saleRate}%\".format(rank, **movie))\n",
    "        elif chart_type == \"POINT\":\n",
    "            print(\"{} {movieTitle} {point}점\".format(rank, **movie))\n",
    "        elif chart_type == \"COMMING\":\n",
    "            print(\"{} {movieTitle}\".format(rank, **movie))\n",
    "        else:  # BOXOFFICE\n",
    "            print(\"{} {movieTitle} {formattedWeekendAudience}명\".format(rank, **movie))"
   ]
  },
  {
   "cell_type": "code",
   "execution_count": 75,
   "metadata": {},
   "outputs": [
    {
     "name": "stdout",
     "output_type": "stream",
     "text": [
      "1 말레피센트 2 167635 35.73%\n",
      "2 조커 167613 23.55%\n",
      "3 가장 보통의 연애 182205 22.9%\n",
      "4 두번할까요 175404 5.07%\n",
      "5 퍼펙트맨 180390 4.29%\n",
      "6 제미니 맨 172764 1.92%\n",
      "7 너를 만난 여름 187787 0.84%\n",
      "8 82년생 김지영 179482 0.71%\n",
      "9 벌새 179307 0.58%\n",
      "10 버티고 180402 0.54%\n"
     ]
    }
   ],
   "source": [
    "# 예매순\n",
    "get_naver_movie_chart(\"RESERVE\")"
   ]
  },
  {
   "cell_type": "code",
   "execution_count": 68,
   "metadata": {},
   "outputs": [
    {
     "name": "stdout",
     "output_type": "stream",
     "text": [
      "1 말레피센트 2\n",
      "2 두번할까요\n",
      "3 꼬마 자전거 스피디\n",
      "4 신문기자\n",
      "5 북간도의 십자가\n",
      "6 와일드 로즈\n",
      "7 토막살인범의 고백\n",
      "8 오늘도 위위\n",
      "9 재혼의 기술\n",
      "10 블러드 심플\n"
     ]
    }
   ],
   "source": [
    "# 현재상영작\n",
    "get_naver_movie_chart(\"CURRENT\")"
   ]
  },
  {
   "cell_type": "code",
   "execution_count": 69,
   "metadata": {},
   "outputs": [
    {
     "name": "stdout",
     "output_type": "stream",
     "text": [
      "1 82년생 김지영\n",
      "2 더 킹: 헨리 5세\n",
      "3 람보 : 라스트 워\n",
      "4 경계선\n",
      "5 날씨의 아이\n",
      "6 터미네이터: 다크 페이트\n",
      "7 시크릿 슈퍼스타\n",
      "8 스노우 화이트\n",
      "9 퍼펙트 스트레인저\n",
      "10 하이 라이프\n"
     ]
    }
   ],
   "source": [
    "# 개봉예정작\n",
    "get_naver_movie_chart(\"COMMING\")"
   ]
  },
  {
   "cell_type": "code",
   "execution_count": 70,
   "metadata": {},
   "outputs": [
    {
     "name": "stdout",
     "output_type": "stream",
     "text": [
      "1 꼬마 자전거 스피디 10.00점\n",
      "2 나의 노래는 멀리멀리 9.79점\n",
      "3 오늘도 위위 9.52점\n",
      "4 주전장 9.50점\n",
      "5 별의 정원 9.49점\n",
      "6 마담 B 9.47점\n",
      "7 안녕 베일리 9.40점\n",
      "8 아이언 자이언트 9.33점\n",
      "9 폴란드로 간 아이들 9.32점\n",
      "10 불빛 아래서 9.30점\n"
     ]
    }
   ],
   "source": [
    "# 평점\n",
    "get_naver_movie_chart(\"POINT\")"
   ]
  },
  {
   "cell_type": "code",
   "execution_count": 71,
   "metadata": {},
   "outputs": [
    {
     "name": "stdout",
     "output_type": "stream",
     "text": [
      "1 조커 767,850명\n",
      "2 가장 보통의 연애 468,423명\n",
      "3 퍼펙트맨 167,687명\n",
      "4 제미니 맨 164,655명\n",
      "5 장사리 : 잊혀진 영웅들 25,192명\n",
      "6 잃어버린 세계를 찾아서 9,390명\n",
      "7 소피와 드래곤: 마법책의 비밀 8,731명\n",
      "8 몬스터 하우스 8,526명\n",
      "9 판소리 복서 8,233명\n",
      "10 원스 어폰 어 타임... 인 할리우드 4,393명\n"
     ]
    }
   ],
   "source": [
    "# 박스오피스\n",
    "get_naver_movie_chart(\"BOXOFFICE\")"
   ]
  },
  {
   "cell_type": "markdown",
   "metadata": {},
   "source": [
    "### 개별 영화 평점 가져오기"
   ]
  },
  {
   "cell_type": "code",
   "execution_count": 83,
   "metadata": {},
   "outputs": [
    {
     "data": {
      "text/plain": [
       "<Response [200]>"
      ]
     },
     "execution_count": 83,
     "metadata": {},
     "output_type": "execute_result"
    }
   ],
   "source": [
    "page_url = \"https://movie.naver.com/movie/bi/mi/basic.nhn\"\n",
    "params = dict(code=\"179482\")\n",
    "res = requests.get(page_url, params=params)\n",
    "res"
   ]
  },
  {
   "cell_type": "code",
   "execution_count": 84,
   "metadata": {},
   "outputs": [
    {
     "data": {
      "text/plain": [
       "{'평점-관람객': '3.69', '평점-평론가': '0.00', '평점-네티즌': 0}"
      ]
     },
     "execution_count": 84,
     "metadata": {},
     "output_type": "execute_result"
    }
   ],
   "source": [
    "from bs4 import BeautifulSoup\n",
    "import re\n",
    "from itertools import zip_longest\n",
    "\n",
    "html = res.text\n",
    "soup = BeautifulSoup(html, \"html.parser\")\n",
    "\n",
    "tag_list = soup.select('.st_on')[:3]\n",
    "\n",
    "label_list = [\"평점-관람객\", \"평점-평론가\", \"평점-네티즌\"]\n",
    "percent_list = []\n",
    "\n",
    "for tag in tag_list:\n",
    "    matched = re.match(r'width:([\\d\\.]+)%', tag['style'])\n",
    "    percent = '%.2f' % (float(matched.group(1)) / 10)\n",
    "    percent_list.append(percent)\n",
    "    \n",
    "dict(zip_longest(label_list, percent_list, fillvalue=0))"
   ]
  },
  {
   "cell_type": "code",
   "execution_count": 88,
   "metadata": {},
   "outputs": [],
   "source": [
    "def get_movie_detail(movie_code):\n",
    "    page_url = \"https://movie.naver.com/movie/bi/mi/basic.nhn\"\n",
    "    params = dict(code=str(movie_code))\n",
    "    res = requests.get(page_url, params=params)\n",
    "    \n",
    "    html = res.text\n",
    "    soup = BeautifulSoup(html, \"html.parser\")\n",
    "\n",
    "    tag_list = soup.select('.st_on')[:3]\n",
    "\n",
    "    label_list = [\"평점-관람객\", \"평점-평론가\", \"평점-네티즌\"]\n",
    "    percent_list = []\n",
    "\n",
    "    for tag in tag_list:\n",
    "        matched = re.match(r'width:([\\d\\.]+)%', tag['style'])\n",
    "        percent = '%.2f' % (float(matched.group(1)) / 10)\n",
    "        percent_list.append(percent)\n",
    "    \n",
    "    detail = {}\n",
    "    detail.update(dict(zip_longest(label_list, percent_list, fillvalue=0)))\n",
    "    \n",
    "    return detail"
   ]
  },
  {
   "cell_type": "code",
   "execution_count": 89,
   "metadata": {},
   "outputs": [
    {
     "data": {
      "text/plain": [
       "{'평점-관람객': '3.69', '평점-평론가': '0.00', '평점-네티즌': 0}"
      ]
     },
     "execution_count": 89,
     "metadata": {},
     "output_type": "execute_result"
    }
   ],
   "source": [
    "get_movie_detail(179482)"
   ]
  },
  {
   "cell_type": "code",
   "execution_count": 90,
   "metadata": {},
   "outputs": [
    {
     "data": {
      "text/plain": [
       "{'평점-관람객': '0.00', '평점-평론가': '0.00', '평점-네티즌': 0}"
      ]
     },
     "execution_count": 90,
     "metadata": {},
     "output_type": "execute_result"
    }
   ],
   "source": [
    "get_movie_detail(187526)"
   ]
  },
  {
   "cell_type": "code",
   "execution_count": 105,
   "metadata": {},
   "outputs": [],
   "source": [
    "import time\n",
    "\n",
    "def get_naver_movie_chart(chart_type):\n",
    "    url = \"https://movie.naver.com/movieChartJson.nhn\"\n",
    "    params = {\"type\": chart_type}\n",
    "\n",
    "    headers = {\n",
    "    \"User-Agent\":'Mozilla/5.0 (Macintosh; Intel Mac OS X 10_13_6) AppleWebKit/537.36 (KHTML, like Gecko) Chrome/77.0.3865.120 Safari/537.386',\n",
    "    'Referer': \"https://movie.naver.com/\"}\n",
    "    res = requests.get(url, params=params, headers=headers)\n",
    "    \n",
    "    for rank, movie in enumerate(res.json()[\"movieChartList\"][chart_type], 1):\n",
    "        if chart_type == \"RESERVE\":\n",
    "            print('{} {movieTitle} {reserveRatio}%'.format(rank, **movie))\n",
    "            detail = get_movie_detail(movie[\"movieCode\"])  # 평점 추가\n",
    "            movie.update(detail)\n",
    "            yield movie  # generator 생성\n",
    "            time.sleep(0.1)"
   ]
  },
  {
   "cell_type": "code",
   "execution_count": null,
   "metadata": {},
   "outputs": [],
   "source": []
  },
  {
   "cell_type": "code",
   "execution_count": 99,
   "metadata": {},
   "outputs": [
    {
     "name": "stdout",
     "output_type": "stream",
     "text": [
      "1 말레피센트 2 35.73%\n",
      "2 조커 23.55%\n",
      "3 가장 보통의 연애 22.9%\n",
      "4 두번할까요 5.07%\n",
      "5 퍼펙트맨 4.29%\n",
      "6 제미니 맨 1.92%\n",
      "7 너를 만난 여름 0.84%\n",
      "8 82년생 김지영 0.71%\n",
      "9 벌새 0.58%\n",
      "10 버티고 0.54%\n"
     ]
    },
    {
     "data": {
      "text/plain": [
       "[{'movieCode': 167635,\n",
       "  'movieTitle': '말레피센트 2',\n",
       "  'posterImageUrl': '/20191004_160/1570150829240zmLfa_JPEG/movie_image.jpg',\n",
       "  'weekendAudience': 0,\n",
       "  'openDate': None,\n",
       "  'pointSum': 0,\n",
       "  'joinNumber': 0,\n",
       "  'reserveRatio': 35.73,\n",
       "  'saleRate': None,\n",
       "  'salePossibleYn': False,\n",
       "  'lendingPossibleYn': False,\n",
       "  'adult': False,\n",
       "  'korGradeList': [{'code': '1001002', 'name': '12세 관람가'}],\n",
       "  'lastKoreanGrade': {'code': '1001002', 'name': '12세 관람가'},\n",
       "  'usGradeList': [],\n",
       "  'lastUsGrade': None,\n",
       "  'theater': 0,\n",
       "  'formattedWeekendAudience': '0',\n",
       "  'point': '0.00',\n",
       "  'formattedReserveRatio': '35.73',\n",
       "  'formattedSaleRate': '0.00',\n",
       "  '평점-관람객': '9.56',\n",
       "  '평점-평론가': '5.67',\n",
       "  '평점-네티즌': '8.19'},\n",
       " {'movieCode': 167613,\n",
       "  'movieTitle': '조커',\n",
       "  'posterImageUrl': '/20190906_128/1567761736426S6Fje_JPEG/movie_image.jpg',\n",
       "  'weekendAudience': 0,\n",
       "  'openDate': None,\n",
       "  'pointSum': 0,\n",
       "  'joinNumber': 0,\n",
       "  'reserveRatio': 23.55,\n",
       "  'saleRate': None,\n",
       "  'salePossibleYn': False,\n",
       "  'lendingPossibleYn': False,\n",
       "  'adult': False,\n",
       "  'korGradeList': [{'code': '1001003', 'name': '15세 관람가'}],\n",
       "  'lastKoreanGrade': {'code': '1001003', 'name': '15세 관람가'},\n",
       "  'usGradeList': [],\n",
       "  'lastUsGrade': None,\n",
       "  'theater': 0,\n",
       "  'formattedWeekendAudience': '0',\n",
       "  'point': '0.00',\n",
       "  'formattedReserveRatio': '23.55',\n",
       "  'formattedSaleRate': '0.00',\n",
       "  '평점-관람객': '9.05',\n",
       "  '평점-평론가': '7.50',\n",
       "  '평점-네티즌': '8.73'},\n",
       " {'movieCode': 182205,\n",
       "  'movieTitle': '가장 보통의 연애',\n",
       "  'posterImageUrl': '/20190911_29/1568167420523xeKY5_JPEG/movie_image.jpg',\n",
       "  'weekendAudience': 0,\n",
       "  'openDate': None,\n",
       "  'pointSum': 0,\n",
       "  'joinNumber': 0,\n",
       "  'reserveRatio': 22.9,\n",
       "  'saleRate': None,\n",
       "  'salePossibleYn': False,\n",
       "  'lendingPossibleYn': False,\n",
       "  'adult': False,\n",
       "  'korGradeList': [{'code': '1001003', 'name': '15세 관람가'}],\n",
       "  'lastKoreanGrade': {'code': '1001003', 'name': '15세 관람가'},\n",
       "  'usGradeList': [],\n",
       "  'lastUsGrade': None,\n",
       "  'theater': 0,\n",
       "  'formattedWeekendAudience': '0',\n",
       "  'point': '0.00',\n",
       "  'formattedReserveRatio': '22.90',\n",
       "  'formattedSaleRate': '0.00',\n",
       "  '평점-관람객': '8.75',\n",
       "  '평점-평론가': '6.33',\n",
       "  '평점-네티즌': '7.94'},\n",
       " {'movieCode': 175404,\n",
       "  'movieTitle': '두번할까요',\n",
       "  'posterImageUrl': '/20190911_48/1568178486148N8Ajf_JPEG/movie_image.jpg',\n",
       "  'weekendAudience': 0,\n",
       "  'openDate': None,\n",
       "  'pointSum': 0,\n",
       "  'joinNumber': 0,\n",
       "  'reserveRatio': 5.07,\n",
       "  'saleRate': None,\n",
       "  'salePossibleYn': False,\n",
       "  'lendingPossibleYn': False,\n",
       "  'adult': False,\n",
       "  'korGradeList': [{'code': '1001003', 'name': '15세 관람가'}],\n",
       "  'lastKoreanGrade': {'code': '1001003', 'name': '15세 관람가'},\n",
       "  'usGradeList': [],\n",
       "  'lastUsGrade': None,\n",
       "  'theater': 0,\n",
       "  'formattedWeekendAudience': '0',\n",
       "  'point': '0.00',\n",
       "  'formattedReserveRatio': '5.07',\n",
       "  'formattedSaleRate': '0.00',\n",
       "  '평점-관람객': '9.14',\n",
       "  '평점-평론가': '3.50',\n",
       "  '평점-네티즌': '6.14'},\n",
       " {'movieCode': 180390,\n",
       "  'movieTitle': '퍼펙트맨',\n",
       "  'posterImageUrl': '/20190918_70/1568789034699xL82H_JPEG/movie_image.jpg',\n",
       "  'weekendAudience': 0,\n",
       "  'openDate': None,\n",
       "  'pointSum': 0,\n",
       "  'joinNumber': 0,\n",
       "  'reserveRatio': 4.29,\n",
       "  'saleRate': None,\n",
       "  'salePossibleYn': False,\n",
       "  'lendingPossibleYn': False,\n",
       "  'adult': False,\n",
       "  'korGradeList': [{'code': '1001003', 'name': '15세 관람가'}],\n",
       "  'lastKoreanGrade': {'code': '1001003', 'name': '15세 관람가'},\n",
       "  'usGradeList': [],\n",
       "  'lastUsGrade': None,\n",
       "  'theater': 0,\n",
       "  'formattedWeekendAudience': '0',\n",
       "  'point': '0.00',\n",
       "  'formattedReserveRatio': '4.29',\n",
       "  'formattedSaleRate': '0.00',\n",
       "  '평점-관람객': '8.59',\n",
       "  '평점-평론가': '5.00',\n",
       "  '평점-네티즌': '8.02'},\n",
       " {'movieCode': 172764,\n",
       "  'movieTitle': '제미니 맨',\n",
       "  'posterImageUrl': '/20190905_247/1567649984099gy6L7_JPEG/movie_image.jpg',\n",
       "  'weekendAudience': 0,\n",
       "  'openDate': None,\n",
       "  'pointSum': 0,\n",
       "  'joinNumber': 0,\n",
       "  'reserveRatio': 1.92,\n",
       "  'saleRate': None,\n",
       "  'salePossibleYn': False,\n",
       "  'lendingPossibleYn': False,\n",
       "  'adult': False,\n",
       "  'korGradeList': [{'code': '1001002', 'name': '12세 관람가'}],\n",
       "  'lastKoreanGrade': {'code': '1001002', 'name': '12세 관람가'},\n",
       "  'usGradeList': [],\n",
       "  'lastUsGrade': None,\n",
       "  'theater': 0,\n",
       "  'formattedWeekendAudience': '0',\n",
       "  'point': '0.00',\n",
       "  'formattedReserveRatio': '1.92',\n",
       "  'formattedSaleRate': '0.00',\n",
       "  '평점-관람객': '8.86',\n",
       "  '평점-평론가': '5.00',\n",
       "  '평점-네티즌': '6.78'},\n",
       " {'movieCode': 187787,\n",
       "  'movieTitle': '너를 만난 여름',\n",
       "  'posterImageUrl': '/20191016_285/1571192929545vzti3_JPEG/movie_image.jpg',\n",
       "  'weekendAudience': 0,\n",
       "  'openDate': None,\n",
       "  'pointSum': 0,\n",
       "  'joinNumber': 0,\n",
       "  'reserveRatio': 0.84,\n",
       "  'saleRate': None,\n",
       "  'salePossibleYn': False,\n",
       "  'lendingPossibleYn': False,\n",
       "  'adult': False,\n",
       "  'korGradeList': [{'code': '1001002', 'name': '12세 관람가'}],\n",
       "  'lastKoreanGrade': {'code': '1001002', 'name': '12세 관람가'},\n",
       "  'usGradeList': [],\n",
       "  'lastUsGrade': None,\n",
       "  'theater': 0,\n",
       "  'formattedWeekendAudience': '0',\n",
       "  'point': '0.00',\n",
       "  'formattedReserveRatio': '0.84',\n",
       "  'formattedSaleRate': '0.00',\n",
       "  '평점-관람객': '9.00',\n",
       "  '평점-평론가': '5.50',\n",
       "  '평점-네티즌': '8.40'},\n",
       " {'movieCode': 179482,\n",
       "  'movieTitle': '82년생 김지영',\n",
       "  'posterImageUrl': '/20191014_229/1571018164315ByuP7_JPEG/movie_image.jpg',\n",
       "  'weekendAudience': 0,\n",
       "  'openDate': None,\n",
       "  'pointSum': 0,\n",
       "  'joinNumber': 0,\n",
       "  'reserveRatio': 0.71,\n",
       "  'saleRate': None,\n",
       "  'salePossibleYn': False,\n",
       "  'lendingPossibleYn': False,\n",
       "  'adult': False,\n",
       "  'korGradeList': [{'code': '1001002', 'name': '12세 관람가'}],\n",
       "  'lastKoreanGrade': {'code': '1001002', 'name': '12세 관람가'},\n",
       "  'usGradeList': [],\n",
       "  'lastUsGrade': None,\n",
       "  'theater': 0,\n",
       "  'formattedWeekendAudience': '0',\n",
       "  'point': '0.00',\n",
       "  'formattedReserveRatio': '0.71',\n",
       "  'formattedSaleRate': '0.00',\n",
       "  '평점-관람객': '3.69',\n",
       "  '평점-평론가': '0.00',\n",
       "  '평점-네티즌': 0},\n",
       " {'movieCode': 179307,\n",
       "  'movieTitle': '벌새',\n",
       "  'posterImageUrl': '/20190805_121/1564969695835Iq9Qc_JPEG/movie_image.jpg',\n",
       "  'weekendAudience': 0,\n",
       "  'openDate': None,\n",
       "  'pointSum': 0,\n",
       "  'joinNumber': 0,\n",
       "  'reserveRatio': 0.58,\n",
       "  'saleRate': None,\n",
       "  'salePossibleYn': False,\n",
       "  'lendingPossibleYn': False,\n",
       "  'adult': False,\n",
       "  'korGradeList': [{'code': '1001003', 'name': '15세 관람가'}],\n",
       "  'lastKoreanGrade': {'code': '1001003', 'name': '15세 관람가'},\n",
       "  'usGradeList': [],\n",
       "  'lastUsGrade': None,\n",
       "  'theater': 0,\n",
       "  'formattedWeekendAudience': '0',\n",
       "  'point': '0.00',\n",
       "  'formattedReserveRatio': '0.58',\n",
       "  'formattedSaleRate': '0.00',\n",
       "  '평점-관람객': '9.00',\n",
       "  '평점-평론가': '8.38',\n",
       "  '평점-네티즌': '8.92'},\n",
       " {'movieCode': 180402,\n",
       "  'movieTitle': '버티고',\n",
       "  'posterImageUrl': '/20190924_275/1569292986272H5Cbe_JPEG/movie_image.jpg',\n",
       "  'weekendAudience': 0,\n",
       "  'openDate': None,\n",
       "  'pointSum': 0,\n",
       "  'joinNumber': 0,\n",
       "  'reserveRatio': 0.54,\n",
       "  'saleRate': None,\n",
       "  'salePossibleYn': False,\n",
       "  'lendingPossibleYn': False,\n",
       "  'adult': False,\n",
       "  'korGradeList': [{'code': '1001003', 'name': '15세 관람가'}],\n",
       "  'lastKoreanGrade': {'code': '1001003', 'name': '15세 관람가'},\n",
       "  'usGradeList': [],\n",
       "  'lastUsGrade': None,\n",
       "  'theater': 0,\n",
       "  'formattedWeekendAudience': '0',\n",
       "  'point': '0.00',\n",
       "  'formattedReserveRatio': '0.54',\n",
       "  'formattedSaleRate': '0.00',\n",
       "  '평점-관람객': '6.00',\n",
       "  '평점-평론가': '5.33',\n",
       "  '평점-네티즌': '7.55'}]"
      ]
     },
     "execution_count": 99,
     "metadata": {},
     "output_type": "execute_result"
    }
   ],
   "source": [
    "list(get_naver_movie_chart(\"RESERVE\"))"
   ]
  },
  {
   "cell_type": "code",
   "execution_count": 106,
   "metadata": {},
   "outputs": [
    {
     "name": "stdout",
     "output_type": "stream",
     "text": [
      "1 말레피센트 2 35.73%\n",
      "167635 말레피센트 2 35.73% - 9.56점\n",
      "2 조커 23.55%\n",
      "167613 조커 23.55% - 9.05점\n",
      "3 가장 보통의 연애 22.9%\n",
      "182205 가장 보통의 연애 22.9% - 8.75점\n",
      "4 두번할까요 5.07%\n",
      "175404 두번할까요 5.07% - 9.14점\n",
      "5 퍼펙트맨 4.29%\n",
      "180390 퍼펙트맨 4.29% - 8.59점\n",
      "6 제미니 맨 1.92%\n",
      "172764 제미니 맨 1.92% - 8.86점\n",
      "7 너를 만난 여름 0.84%\n",
      "187787 너를 만난 여름 0.84% - 9.00점\n",
      "8 82년생 김지영 0.71%\n",
      "179482 82년생 김지영 0.71% - 3.69점\n",
      "9 벌새 0.58%\n",
      "179307 벌새 0.58% - 9.00점\n",
      "10 버티고 0.54%\n",
      "180402 버티고 0.54% - 6.00점\n"
     ]
    }
   ],
   "source": [
    "for rank, movie in enumerate(get_naver_movie_chart(\"RESERVE\"), 1):\n",
    "    template = '{movieCode} {movieTitle} {reserveRatio}% - {평점-관람객}점'\n",
    "    print(template.format(rank, **movie))"
   ]
  },
  {
   "cell_type": "code",
   "execution_count": null,
   "metadata": {},
   "outputs": [],
   "source": []
  }
 ],
 "metadata": {
  "kernelspec": {
   "display_name": "Python 3",
   "language": "python",
   "name": "python3"
  },
  "language_info": {
   "codemirror_mode": {
    "name": "ipython",
    "version": 3
   },
   "file_extension": ".py",
   "mimetype": "text/x-python",
   "name": "python",
   "nbconvert_exporter": "python",
   "pygments_lexer": "ipython3",
   "version": "3.7.3"
  }
 },
 "nbformat": 4,
 "nbformat_minor": 2
}
