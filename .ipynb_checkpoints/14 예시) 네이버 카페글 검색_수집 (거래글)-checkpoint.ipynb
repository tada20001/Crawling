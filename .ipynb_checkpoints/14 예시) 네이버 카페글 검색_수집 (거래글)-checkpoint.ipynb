{
 "cells": [
  {
   "cell_type": "code",
   "execution_count": 1,
   "metadata": {},
   "outputs": [
    {
     "data": {
      "text/plain": [
       "<Response [200]>"
      ]
     },
     "execution_count": 1,
     "metadata": {},
     "output_type": "execute_result"
    }
   ],
   "source": [
    "import requests\n",
    "from bs4 import BeautifulSoup\n",
    "\n",
    "page = 1\n",
    "# 거래글\n",
    "page_url = \"https://search.naver.com/search.naver\"\n",
    "params = {\n",
    "    'where': \"articlec\",\n",
    "    \"query\": \"에어팟\",\n",
    "    \"strat\": (page - 1) * 10 + 1,\n",
    "}\n",
    "res = requests.get(page_url, params=params)\n",
    "res"
   ]
  },
  {
   "cell_type": "code",
   "execution_count": 2,
   "metadata": {},
   "outputs": [],
   "source": [
    "html = res.text\n",
    "soup = BeautifulSoup(html, \"html.parser\")"
   ]
  },
  {
   "cell_type": "code",
   "execution_count": 3,
   "metadata": {},
   "outputs": [
    {
     "data": {
      "text/plain": [
       "10"
      ]
     },
     "execution_count": 3,
     "metadata": {},
     "output_type": "execute_result"
    }
   ],
   "source": [
    "tag_list = soup.select('.sh_cafe_top')\n",
    "len(tag_list)"
   ]
  },
  {
   "cell_type": "code",
   "execution_count": 4,
   "metadata": {},
   "outputs": [],
   "source": [
    "tag = tag_list[0]"
   ]
  },
  {
   "cell_type": "code",
   "execution_count": 5,
   "metadata": {},
   "outputs": [
    {
     "name": "stdout",
     "output_type": "stream",
     "text": [
      "에어팟 2세대 유선충전 모델 풀박스 https://cafe.naver.com/appleiphone/5306327\n",
      "개인거래(판매), 판매완료, 가격 140,000원, 직접거래, 에어팟 2세대 유선충전 모델 풀박스, 애플 에어팟 2세대 유선 충전 모델입니다 구성품은 풀박스 케이...\n",
      "140,000\n"
     ]
    }
   ],
   "source": [
    "title_tag = tag.select_one('.sh_cafe_title')\n",
    "post_url = title_tag[\"href\"]\n",
    "post_title = title_tag.text\n",
    "post_desc = tag.select_one('.sh_cafe_passage').text\n",
    "\n",
    "price = tag.select_one(\".cafe_item_price .num\").text\n",
    "\n",
    "print(post_title, post_url)\n",
    "print(post_desc)\n",
    "print(price)"
   ]
  },
  {
   "cell_type": "code",
   "execution_count": 6,
   "metadata": {},
   "outputs": [],
   "source": [
    "if tag.select_one(\".cafe_item_price del\"):\n",
    "    price = \"판매 완료\"\n",
    "else:\n",
    "    price = tag.select_one(\".cafe_item_price .num\").text"
   ]
  },
  {
   "cell_type": "code",
   "execution_count": 7,
   "metadata": {},
   "outputs": [],
   "source": [
    "#is_sell = tag.select_one(\".cafe_item_price del\") is None\n",
    "#is_sell # 판매 완료 여부"
   ]
  },
  {
   "cell_type": "code",
   "execution_count": 8,
   "metadata": {},
   "outputs": [
    {
     "data": {
      "text/plain": [
       "True"
      ]
     },
     "execution_count": 8,
     "metadata": {},
     "output_type": "execute_result"
    }
   ],
   "source": [
    "# 또는 다음과 같이 판매완료 여부 확인 가능\n",
    "is_sell = \"done\" in tag.select_one('.cafe_item_status')['class']\n",
    "is_sell"
   ]
  },
  {
   "cell_type": "code",
   "execution_count": 17,
   "metadata": {},
   "outputs": [
    {
     "name": "stdout",
     "output_type": "stream",
     "text": [
      "아사모 -[아이폰, 아이폰 Xr, Xs... https://cafe.naver.com/appleiphone\n"
     ]
    }
   ],
   "source": [
    "# 카페명, url, date, img\n",
    "cafe_tag = tag.select_one('.txt_block a')\n",
    "cafe_title = cafe_tag.text\n",
    "cafe_url = cafe_tag['href']\n",
    "print(cafe_title, cafe_url)"
   ]
  },
  {
   "cell_type": "code",
   "execution_count": 19,
   "metadata": {},
   "outputs": [],
   "source": [
    "post_date = tag.select_one('.txt_inline').text"
   ]
  },
  {
   "cell_type": "code",
   "execution_count": 25,
   "metadata": {},
   "outputs": [
    {
     "data": {
      "text/plain": [
       "'https://search.pstatic.net/common/?src=http%3A%2F%2Fcafefiles.naver.net%2FMjAxOTEwMDVfMTA4%2FMDAxNTcwMjEzMjg5NzEx.KjRPwa4ANjSWjGJZGICLYVlpILK27kx3NCC0CpYyba0g.fKPj7jUCp8ZFappf8YW7hrUwrITmlCjRQT7Xhx4-IIwg.JPEG%2FexternalFile.jpg&type=m80_80#960x720'"
      ]
     },
     "execution_count": 25,
     "metadata": {},
     "output_type": "execute_result"
    }
   ],
   "source": [
    "img_url = tag.select_one(\".thumb-rollover img\")[\"src\"]\n",
    "img_url"
   ]
  },
  {
   "cell_type": "code",
   "execution_count": 33,
   "metadata": {},
   "outputs": [],
   "source": [
    "# 항목 합치기\n",
    "\n",
    "post_list = []\n",
    "\n",
    "for tag in tag_list: \n",
    "    title_tag = tag.select_one('.sh_cafe_title')\n",
    "    cafe_tag = tag.select_one('.txt_block a')\n",
    "    \n",
    "    post_list.append(dict(\n",
    "        post_url = title_tag[\"href\"],\n",
    "        post_title = title_tag.text,\n",
    "        post_desc = tag.select_one('.sh_cafe_passage').text,\n",
    "        price = tag.select_one(\".cafe_item_price .num\").text,\n",
    "        is_sell = 'sell' in tag.select_one('.cafe_item_status')['class'],\n",
    "        cafe_title = cafe_tag.text,\n",
    "        cafe_url = cafe_tag['href'],\n",
    "        post_date = tag.select_one('.txt_inline').text,\n",
    "        img_url = tag.select_one(\".thumb img\")[\"src\"],\n",
    "    ))"
   ]
  },
  {
   "cell_type": "code",
   "execution_count": 34,
   "metadata": {},
   "outputs": [
    {
     "data": {
      "text/plain": [
       "[{'post_url': 'https://cafe.naver.com/appleiphone/5306327',\n",
       "  'post_title': '에어팟 2세대 유선충전 모델 풀박스',\n",
       "  'post_desc': '개인거래(판매), 판매완료, 가격 140,000원, 직접거래, 에어팟 2세대 유선충전 모델 풀박스, 애플 에어팟 2세대 유선 충전 모델입니다 구성품은 풀박스 케이...',\n",
       "  'price': '140,000',\n",
       "  'is_sell': False,\n",
       "  'cafe_title': '아사모 -[아이폰, 아이폰 Xr, Xs...',\n",
       "  'cafe_url': 'https://cafe.naver.com/appleiphone',\n",
       "  'post_date': '2019.10.05. ',\n",
       "  'img_url': 'https://search.pstatic.net/common/?src=http%3A%2F%2Fcafefiles.naver.net%2FMjAxOTEwMDVfMTA4%2FMDAxNTcwMjEzMjg5NzEx.KjRPwa4ANjSWjGJZGICLYVlpILK27kx3NCC0CpYyba0g.fKPj7jUCp8ZFappf8YW7hrUwrITmlCjRQT7Xhx4-IIwg.JPEG%2FexternalFile.jpg&type=m80_80#960x720'},\n",
       " {'post_url': 'https://cafe.naver.com/fx8300/527442',\n",
       "  'post_title': '미개봉 에어팟 2 유선충전모델',\n",
       "  'post_desc': '개인거래(판매), 판매완료, 가격 145,000원, 직접거래, 미개봉 에어팟 2 유선충전모델, 미개봉 에어팟 2세대 유선충전 모델 애플 정품입니다 초기불량 발생시...',\n",
       "  'price': '145,000',\n",
       "  'is_sell': False,\n",
       "  'cafe_title': 'AMD 비쉐라 라이젠 컴퓨터 사용자...',\n",
       "  'cafe_url': 'https://cafe.naver.com/fx8300',\n",
       "  'post_date': '19시간 전 ',\n",
       "  'img_url': 'https://search.pstatic.net/common/?src=http%3A%2F%2Fcafefiles.naver.net%2FMjAxOTEwMTdfMjQw%2FMDAxNTcxMzAxMzUyODg2.yTHmvbY245eptoxfr9fOF0iOXQYMQ-PnJl0VGhoz_VUg.3-V_qhyNiMT81JEh_uXx1Ibe-AG9W9Lb3W3K17NGITYg.JPEG%2FexternalFile.jpg&type=m80_80#960x720'},\n",
       " {'post_url': 'https://cafe.naver.com/appleiphone/5327116',\n",
       "  'post_title': '에어팟2세대 무선충전버전 팝니다',\n",
       "  'post_desc': '개인거래(판매), 판매완료, 가격 180,000원, 직접거래(네이버페이 송금), 에어팟2세대 무선충전버전 팝니다, 에어팟2 무선충전 버전 풀박스 팝니다 9월24일...',\n",
       "  'price': '180,000',\n",
       "  'is_sell': False,\n",
       "  'cafe_title': '아사모 -[아이폰, 아이폰 Xr, Xs...',\n",
       "  'cafe_url': 'https://cafe.naver.com/appleiphone',\n",
       "  'post_date': '4일 전 ',\n",
       "  'img_url': 'https://search.pstatic.net/common/?src=http%3A%2F%2Fcafefiles.naver.net%2FMjAxOTEwMTVfMTgg%2FMDAxNTcxMTQ0MzY0MTcy.NgwG49qy_IKBEVGAXDkls3vFvz5ROL99BsVT-MMSyZgg.9N5F4hFMNFPRbVRmWYJXva4JPqqAeBDYVklBtM7MOR0g.JPEG%2F20191015_215823.jpg&type=m80_80#3024x4032'},\n",
       " {'post_url': 'https://cafe.naver.com/appleiphone/5329969',\n",
       "  'post_title': '애플 에어팟 1세대 급처합니다! (리퍼기간 남음)',\n",
       "  'post_desc': '개인거래(판매), 판매완료, 가격 2,222원, 직접거래, 애플 에어팟 1세대 급처합니다! (리퍼기간 남음), 애플 에어팟 1세대 급처합니다! 스티커, 케이스 사...',\n",
       "  'price': '2,222',\n",
       "  'is_sell': False,\n",
       "  'cafe_title': '아사모 -[아이폰, 아이폰 Xr, Xs...',\n",
       "  'cafe_url': 'https://cafe.naver.com/appleiphone',\n",
       "  'post_date': '2일 전 ',\n",
       "  'img_url': 'https://search.pstatic.net/common/?src=http%3A%2F%2Fcafefiles.naver.net%2FMjAxOTEwMTZfMjQx%2FMDAxNTcxMTU2MjM4NTA2.Qj26zBPnwknytaF24nuta0sdcM_NvREB4Jsv7pqoVlAg.zKmBs32Ps4wZcZcsjI9l_pTFyLwXzyEsZZuCohzl96cg.JPEG%2F1.jpg&type=m80_80#740x738'},\n",
       " {'post_url': 'https://cafe.naver.com/appleiphone/5324289',\n",
       "  'post_title': '에어팟1세대 판매 (중랑구 봉화산역 근처)',\n",
       "  'post_desc': '개인거래(판매), 판매완료, 가격 85,000원, 직접거래(네이버페이 송금), 에어팟1세대 판매 (중랑구 봉화산역 근처), 애플 에어팟 1세대 17년에 구입해서 ...',\n",
       "  'price': '85,000',\n",
       "  'is_sell': False,\n",
       "  'cafe_title': '아사모 -[아이폰, 아이폰 Xr, Xs...',\n",
       "  'cafe_url': 'https://cafe.naver.com/appleiphone',\n",
       "  'post_date': '5일 전 ',\n",
       "  'img_url': 'https://search.pstatic.net/common/?src=http%3A%2F%2Fcafefiles.naver.net%2FMjAxOTEwMTRfMjU0%2FMDAxNTcxMDM0MTkwMzIz.-zh5M0PJhwmTqDHzT8SAbUL-SajFUMpz59fZm2F85fMg.oxBiJfbXiFnpvYKj7r2WJ6WnrQhws13cef4btxjWK9Ug.JPEG%2FexternalFile.jpg&type=m80_80#960x1280'},\n",
       " {'post_url': 'https://cafe.naver.com/glove/5877687',\n",
       "  'post_title': '에어팟2세대 무선충전',\n",
       "  'post_desc': '개인거래(판매), 판매중, 가격 135,000원, 직접거래, 에어팟2세대 무선충전, 에어팟2세대 무선충전 모델입니다. 파워비츠 구매후 사용안해서 보관중입니다. 철...',\n",
       "  'price': '135,000',\n",
       "  'is_sell': True,\n",
       "  'cafe_title': '[거사모] 거제도 대표 여행,펜션...',\n",
       "  'cafe_url': 'https://cafe.naver.com/glove',\n",
       "  'post_date': '2일 전 ',\n",
       "  'img_url': 'https://search.pstatic.net/common/?src=http%3A%2F%2Fcafefiles.naver.net%2FMjAxOTEwMTdfOTcg%2FMDAxNTcxMzEyMzE0NzQ4.QTSjDTBXKRsxm_E7WoakMgfRq-QcQJh_o9mCwVSHQ2Ug.zTVvPSTFNe--jcV6vqpayFAScxSmu8C99FmxqH9eGD0g.JPEG%2FexternalFile.jpg&type=m80_80#960x1280'},\n",
       " {'post_url': 'https://cafe.naver.com/appleiphone/5282036',\n",
       "  'post_title': '에어팟 1세대 팝니다',\n",
       "  'post_desc': '개인거래(판매), 판매완료, 가격 80,000원, 직접거래, 에어팟 1세대 팝니다, 에어팟 1세대 팝니다. 18.11.13 구매했습니다. 영수증 있으면 as 된다...',\n",
       "  'price': '80,000',\n",
       "  'is_sell': False,\n",
       "  'cafe_title': '아사모 -[아이폰, 아이폰 Xr, Xs...',\n",
       "  'cafe_url': 'https://cafe.naver.com/appleiphone',\n",
       "  'post_date': '2019.09.24. ',\n",
       "  'img_url': 'https://search.pstatic.net/common/?src=http%3A%2F%2Fcafefiles.naver.net%2FMjAxOTA5MjRfMzkg%2FMDAxNTY5MzIwNTE5OTEw.zqmRbYRNk1xoRuAFzTmgazogT3MzB5iZeP5LyacanZkg.OFZHhsP8u66t8yFN5FeXopb_u6HJ1ZbLw2WbSq6NyX4g.JPEG%2F050F28F4-2E9B-4EB8-9ED4-7E57A5690539.jpeg&type=m80_80#4032x3024'},\n",
       " {'post_url': 'https://cafe.naver.com/appleiphone/5312872',\n",
       "  'post_title': '에어팟2세대 유선모델미개봉팝니다.',\n",
       "  'post_desc': '개인거래(판매), 판매완료, 가격 153,500원, 직접거래, 에어팟2세대 유선모델미개봉팝니다., 에어팟2세대 유선모델 미개봉 2대팝니다 택비포함 153500 직...',\n",
       "  'price': '153,500',\n",
       "  'is_sell': False,\n",
       "  'cafe_title': '아사모 -[아이폰, 아이폰 Xr, Xs...',\n",
       "  'cafe_url': 'https://cafe.naver.com/appleiphone',\n",
       "  'post_date': '2019.10.08. ',\n",
       "  'img_url': 'https://search.pstatic.net/common/?src=http%3A%2F%2Fcafefiles.naver.net%2FMjAxOTEwMDhfMTkw%2FMDAxNTcwNTE4MTIwNTgx.x6j0bNVMrx55VgZ9tpyJySq09xpxKewvPA02RxTV_2wg.2TlhlPVghQH6A5uedCQ5CovasyTh-caRmYQVM_LCry0g.JPEG%2F20191008_154854.jpg&type=m80_80#740x1564'},\n",
       " {'post_url': 'https://cafe.naver.com/inmacbook/2138764',\n",
       "  'post_title': '에어팟 1세대 팜',\n",
       "  'post_desc': '개인거래(판매), 판매중, 가격 100,000원, 직접거래(네이버페이 송금), 에어팟 1세대 팜, 에어팟 1세대 박풀 케이블 포함 헤드폰으로 넘어가 판매함 케이스...',\n",
       "  'price': '100,000',\n",
       "  'is_sell': True,\n",
       "  'cafe_title': '맥 쓰는 사람들 [구 맥북을 쓰는...',\n",
       "  'cafe_url': 'https://cafe.naver.com/inmacbook',\n",
       "  'post_date': '2019.09.24. ',\n",
       "  'img_url': 'https://search.pstatic.net/common/?src=http%3A%2F%2Fcafefiles.naver.net%2FMjAxOTA5MjRfMjMw%2FMDAxNTY5MzM0NjcxOTA5.OlWaxMKN9uN4SXl824Cv6mVAa8UsAxY9PeH3iI7TYwkg.JzwsW8KNSGJ3spxLNNKbFAa1jbyZ23Q4OnEWFXVng5Eg.JPEG%2FexternalFile.jpg&type=m80_80#960x1280'},\n",
       " {'post_url': 'https://cafe.naver.com/appleiphone/5323737',\n",
       "  'post_title': '애플 에어팟 2세대 유선충전,무선충전 대리구매로 판매합니다.',\n",
       "  'post_desc': '개인거래(판매), 판매완료, 가격 175,000원, 직접거래(네이버페이 송금), 애플 에어팟 2세대 유선충전,무선충전 대리구매로 판매합니다., 애플 에어팟 2세대...',\n",
       "  'price': '175,000',\n",
       "  'is_sell': False,\n",
       "  'cafe_title': '아사모 -[아이폰, 아이폰 Xr, Xs...',\n",
       "  'cafe_url': 'https://cafe.naver.com/appleiphone',\n",
       "  'post_date': '5일 전 ',\n",
       "  'img_url': 'https://search.pstatic.net/common/?src=http%3A%2F%2Fcafefiles.naver.net%2FMjAxOTEwMTNfMjAx%2FMDAxNTcwOTM3Mjg4MTM4.0EyLr6mKQfwp1Rotmt5OFB9cioh83RXTnUSIWlNsCIAg.S4oM54e2nw_W7JKff4AhjbLn3uD_d8YdfRp7zySesFAg.JPEG%2FexternalFile.jpg&type=m80_80#960x1281'}]"
      ]
     },
     "execution_count": 34,
     "metadata": {},
     "output_type": "execute_result"
    }
   ],
   "source": [
    "post_list"
   ]
  },
  {
   "cell_type": "code",
   "execution_count": 39,
   "metadata": {},
   "outputs": [
    {
     "name": "stdout",
     "output_type": "stream",
     "text": [
      "2일 전  에어팟2세대 무선충전 135,000원 at [거사모] 거제도 대표 여행,펜션...\n",
      "2019.09.24.  에어팟 1세대 팜 100,000원 at 맥 쓰는 사람들 [구 맥북을 쓰는...\n"
     ]
    }
   ],
   "source": [
    "for post in filter(lambda post: post['is_sell'], post_list):  # is_sell 중인 것만 추출\n",
    "    print('{post_date} {post_title} {price}원 at {cafe_title}'.format(**post))"
   ]
  },
  {
   "cell_type": "code",
   "execution_count": 45,
   "metadata": {},
   "outputs": [
    {
     "data": {
      "text/plain": [
       "<Response [200]>"
      ]
     },
     "execution_count": 45,
     "metadata": {},
     "output_type": "execute_result"
    }
   ],
   "source": [
    "mobile_page_url = \"https://m.cafe.naver.com/inmacbook/2138764\"\n",
    "res = requests.get(mobile_page_url)\n",
    "res"
   ]
  },
  {
   "cell_type": "code",
   "execution_count": 46,
   "metadata": {},
   "outputs": [
    {
     "data": {
      "text/plain": [
       "True"
      ]
     },
     "execution_count": 46,
     "metadata": {},
     "output_type": "execute_result"
    }
   ],
   "source": [
    "\"카페 멤버만\" in res.text"
   ]
  },
  {
   "cell_type": "code",
   "execution_count": 47,
   "metadata": {},
   "outputs": [
    {
     "data": {
      "text/plain": [
       "'%EC%97%90%EC%96%B4%ED%8C%9F'"
      ]
     },
     "execution_count": 47,
     "metadata": {},
     "output_type": "execute_result"
    }
   ],
   "source": [
    "# 검색페이지를 거쳐서 가게 되면 보여주게 되어 있음\n",
    "\n",
    "from urllib.parse import quote\n",
    "\n",
    "검색어 = \"에어팟\"\n",
    "quote(검색어)"
   ]
  },
  {
   "cell_type": "code",
   "execution_count": 48,
   "metadata": {},
   "outputs": [
    {
     "data": {
      "text/plain": [
       "<Response [200]>"
      ]
     },
     "execution_count": 48,
     "metadata": {},
     "output_type": "execute_result"
    }
   ],
   "source": [
    "# post page 접근하기\n",
    "mobile_page_url = \"https://m.cafe.naver.com/inmacbook/2138764\"\n",
    "\n",
    "headers = {\n",
    "    'Referer': \"https://m.cafe.naver.com/SectionMarketArticleSearch.nhn?query=\"+quote(검색어)\n",
    "}\n",
    "\n",
    "res = requests.get(mobile_page_url, headers=headers)\n",
    "res"
   ]
  },
  {
   "cell_type": "code",
   "execution_count": 49,
   "metadata": {},
   "outputs": [
    {
     "data": {
      "text/plain": [
       "False"
      ]
     },
     "execution_count": 49,
     "metadata": {},
     "output_type": "execute_result"
    }
   ],
   "source": [
    "\"카페 회원만\" in res.text"
   ]
  },
  {
   "cell_type": "code",
   "execution_count": null,
   "metadata": {},
   "outputs": [],
   "source": []
  }
 ],
 "metadata": {
  "kernelspec": {
   "display_name": "Python 3",
   "language": "python",
   "name": "python3"
  },
  "language_info": {
   "codemirror_mode": {
    "name": "ipython",
    "version": 3
   },
   "file_extension": ".py",
   "mimetype": "text/x-python",
   "name": "python",
   "nbconvert_exporter": "python",
   "pygments_lexer": "ipython3",
   "version": "3.7.3"
  }
 },
 "nbformat": 4,
 "nbformat_minor": 2
}
