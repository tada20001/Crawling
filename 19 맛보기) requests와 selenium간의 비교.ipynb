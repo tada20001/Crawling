{
 "cells": [
  {
   "cell_type": "markdown",
   "metadata": {},
   "source": [
    "#### requests/Selenium 처리 상의 차이점 소개"
   ]
  },
  {
   "cell_type": "markdown",
   "metadata": {},
   "source": [
    "## 최신 버전명 찾기\n",
    "\n",
    "* 크롤링 대상\n",
    "\"https://chromedriver.storage.googleapis.com/index.html\"\n",
    "\n",
    "여기에는 크롬드라이버 버전별로 들어가 있다. 이 중에 가장 최신 버전명을 알아내고자 한다."
   ]
  },
  {
   "cell_type": "markdown",
   "metadata": {},
   "source": [
    "## 방법 1: requests"
   ]
  },
  {
   "cell_type": "code",
   "execution_count": 2,
   "metadata": {},
   "outputs": [],
   "source": [
    "import requests\n",
    "from bs4 import BeautifulSoup"
   ]
  },
  {
   "cell_type": "markdown",
   "metadata": {},
   "source": [
    "### 시도 1"
   ]
  },
  {
   "cell_type": "code",
   "execution_count": 3,
   "metadata": {},
   "outputs": [
    {
     "data": {
      "text/plain": [
       "[]"
      ]
     },
     "execution_count": 3,
     "metadata": {},
     "output_type": "execute_result"
    }
   ],
   "source": [
    "url = \"https://chromedriver.storage.googleapis.com/index.html\"\n",
    "res = requests.get(url)\n",
    "html = res.text\n",
    "soup = BeautifulSoup(html, \"html.parser\")\n",
    "soup.select('a')"
   ]
  },
  {
   "cell_type": "markdown",
   "metadata": {},
   "source": [
    "### JavaScript에 의한 컨텐츠 처리\n",
    "이 사이트는 자바스크립코드로 이루어져 있어, 소스코드를 보면 데이터가 보이지 않는다. 이 경우 개발자 도구의 network 상에서 header를 검토한다.\n",
    "그 결과, GET 방식을 사용하고 있는 XML 형식임을 알 수 있다.\n",
    "\n",
    "즉, 별도 주소에서 XML 포맷 데이터를 로딩하여 JavaScript를 통해 처리하고 있다.\n",
    "\n",
    "\n",
    "### 시도 2 : XML 주소로 직접 요청을 보내어 처리"
   ]
  },
  {
   "cell_type": "code",
   "execution_count": 4,
   "metadata": {},
   "outputs": [],
   "source": [
    "import re\n",
    "\n",
    "another_url = \"https://chromedriver.storage.googleapis.com/?delimiter=/&prefix=\"\n",
    "res = requests.get(another_url)\n",
    "xml = res.text\n",
    "soup = BeautifulSoup(xml, \"html.parser\")"
   ]
  },
  {
   "cell_type": "code",
   "execution_count": 6,
   "metadata": {},
   "outputs": [
    {
     "data": {
      "text/plain": [
       "<Response [200]>"
      ]
     },
     "execution_count": 6,
     "metadata": {},
     "output_type": "execute_result"
    }
   ],
   "source": [
    "res"
   ]
  },
  {
   "cell_type": "code",
   "execution_count": 15,
   "metadata": {},
   "outputs": [
    {
     "data": {
      "text/plain": [
       "'s><Prefix>2.24/</Prefix></CommonPrefixes><CommonPrefixes><Prefix>2.25/</Prefix></CommonPrefixes><CommonPrefixes><Prefix>2.26/</Prefix></CommonPrefixes><CommonPrefixes><Prefix>2.27/</Prefix></CommonPrefixes><CommonPrefixes><Prefix>2.28/</Prefix></CommonPrefixes><CommonPrefixes><Prefix>2.29/</Prefix></CommonPrefixes><CommonPrefixes><Prefix>2.3/</Prefix></CommonPrefixes><CommonPrefixes><Prefix>2.30/</Prefix></CommonPrefixes><CommonPrefixes><Prefix>2.31/</Prefix></CommonPrefixes><CommonPrefixes><Prefix>2.32/</Prefix></CommonPrefixes><CommonPrefixes><Prefix>2.33/</Prefix></CommonPrefixes><CommonPrefixes><Prefix>2.34/</Prefix></CommonPrefixes><CommonPrefixes><Prefix>2.35/</Prefix></CommonPrefixes><CommonPrefixes><Prefix>2.36/</Prefix></CommonPrefixes><CommonPrefixes><Prefix>2.37/</Prefix></CommonPrefixes><CommonPrefixes><Prefix>2.38/</Prefix></CommonPrefixes><CommonPrefixes><Prefix>2.39/</Prefix></CommonPrefixes><CommonPrefixes><Prefix>2.4/</Prefix></CommonPrefixes><CommonPrefixes><Prefix>2.40/</Prefix></CommonPrefixes><CommonPrefixes><Prefix>2.41/</Prefix></CommonPrefixes><CommonPrefixes><Prefix>2.42/</Prefix></CommonPrefixes><CommonPrefixes><Prefix>2.43/</Prefix></CommonPrefixes><CommonPrefixes><Prefix>2.44/</Prefix></CommonPrefixes><CommonPrefixes><Prefix>2.45/</Prefix></CommonPrefixes><CommonPrefixes><Prefix>2.46/</Prefix></CommonPrefixes><CommonPrefixes><Prefix>2.5/</Prefix></CommonPrefixes><CommonPrefixes><Prefix>2.6/</Prefix></CommonPrefixes><CommonPrefixes><Prefix>2.7/</Prefix></CommonPrefixes><CommonPrefixes><Prefix>2.8/</Prefix></CommonPrefixes><CommonPrefixes><Prefix>2.9/</Prefix></CommonPrefixes><CommonPrefixes><Prefix>70.0.3538.16/</Prefix></CommonPrefixes><CommonPrefixes><Prefix>70.0.3538.67/</Prefix></CommonPrefixes><CommonPrefixes><Prefix>70.0.3538.97/</Prefix></CommonPrefixes><CommonPrefixes><Prefix>71.0.3578.137/</Prefix></CommonPrefixes><CommonPrefixes><Prefix>71.0.3578.30/</Prefix></CommonPrefixes><CommonPrefixes><Prefix>71.0.3578.33/</Prefix></CommonPrefixes><CommonPrefixes><Prefix>71.0.3578.80/</Prefix></CommonPrefixes><CommonPrefixes><Prefix>72.0.3626.69/</Prefix></CommonPrefixes><CommonPrefixes><Prefix>72.0.3626.7/</Prefix></CommonPrefixes><CommonPrefixes><Prefix>73.0.3683.20/</Prefix></CommonPrefixes><CommonPrefixes><Prefix>73.0.3683.68/</Prefix></CommonPrefixes><CommonPrefixes><Prefix>74.0.3729.6/</Prefix></CommonPrefixes><CommonPrefixes><Prefix>75.0.3770.140/</Prefix></CommonPrefixes><CommonPrefixes><Prefix>75.0.3770.8/</Prefix></CommonPrefixes><CommonPrefixes><Prefix>75.0.3770.90/</Prefix></CommonPrefixes><CommonPrefixes><Prefix>76.0.3809.12/</Prefix></CommonPrefixes><CommonPrefixes><Prefix>76.0.3809.126/</Prefix></CommonPrefixes><CommonPrefixes><Prefix>76.0.3809.25/</Prefix></CommonPrefixes><CommonPrefixes><Prefix>76.0.3809.68/</Prefix></CommonPrefixes><CommonPrefixes><Prefix>77.0.3865.10/</Prefix></CommonPrefixes><CommonPrefixes><Prefix>77.0.3865.40/</Prefix></CommonPrefixes><CommonPrefixes><Prefix>78.0.3904.11/</Prefix></CommonPrefixes><CommonPrefixes><Prefix>icons/</Prefix></CommonPrefixes></ListBucketResult>'"
      ]
     },
     "execution_count": 15,
     "metadata": {},
     "output_type": "execute_result"
    }
   ],
   "source": [
    "xml[6000:]"
   ]
  },
  {
   "cell_type": "code",
   "execution_count": 19,
   "metadata": {},
   "outputs": [],
   "source": [
    "version_list = []\n",
    "for tag in soup.select('prefix'):\n",
    "    if re.match(r'^\\d', tag.text): # 숫자로 시작하는 것인지 확인\n",
    "        version = tag.text.rstrip('/')\n",
    "        version_list.append(version)\n",
    "        \n",
    "version_list.sort(key=lambda version: tuple(map(int, version.split('.'))))  # 오름 차순 정렬"
   ]
  },
  {
   "cell_type": "code",
   "execution_count": 21,
   "metadata": {},
   "outputs": [],
   "source": [
    "recent_version = version_list[-1]"
   ]
  },
  {
   "cell_type": "code",
   "execution_count": 22,
   "metadata": {},
   "outputs": [
    {
     "name": "stdout",
     "output_type": "stream",
     "text": [
      "recent_verson: 78.0.3904.11\n"
     ]
    }
   ],
   "source": [
    "print(\"recent_verson:\", recent_version)"
   ]
  },
  {
   "cell_type": "markdown",
   "metadata": {},
   "source": [
    "## Selenium 시도 \n",
    "웹브라우저 자동화를 수행하는 라이브러리로 웹페이지의 현재 DOM 내역을 읽어서 처리한다."
   ]
  },
  {
   "cell_type": "code",
   "execution_count": 23,
   "metadata": {},
   "outputs": [],
   "source": [
    "import re\n",
    "from selenium import webdriver\n",
    "from selenium.webdriver.support import expected_conditions as EC\n",
    "from selenium.webdriver.common.by import By\n",
    "from selenium.webdriver.support.ui import WebDriverWait"
   ]
  },
  {
   "cell_type": "code",
   "execution_count": 27,
   "metadata": {},
   "outputs": [],
   "source": [
    "chrome_driver_path = \"drivers/chromedriver\"  \n",
    "\n",
    "with webdriver.Chrome(executable_path=chrome_driver_path) as driver:  \n",
    "    # selenium은 직접 요청을 수행하지 않기 때문에 웹드라이버를 크롬을 활용하여 requests를 요청\n",
    "    url = \"https://chromedriver.storage.googleapis.com/index.html\"  # 해당 웹페이지 주소를 입력 (xml은 신경 안씀)\n",
    "    driver.get(url)\n",
    "    element_list = WebDriverWait(driver, 10).until(                 # 기다리는 시간 10, until은 함수 전달\n",
    "        EC.presence_of_all_elements_located((By.TAG_NAME, 'a')))  # 주기적으로 체크할 함수 지정, a 태그가 나올때까지 최대 10초까지 기다리겠다는 의미\n",
    "    version_list = [element.text for element in element_list if re.match(r'^\\d', element.text)]"
   ]
  },
  {
   "cell_type": "code",
   "execution_count": 28,
   "metadata": {},
   "outputs": [],
   "source": [
    "version_list.sort(key=lambda version: tuple(map(int, version.split('.'))))  # 위와 동일"
   ]
  },
  {
   "cell_type": "code",
   "execution_count": 29,
   "metadata": {},
   "outputs": [
    {
     "data": {
      "text/plain": [
       "['2.0',\n",
       " '2.1',\n",
       " '2.2',\n",
       " '2.3',\n",
       " '2.4',\n",
       " '2.5',\n",
       " '2.6',\n",
       " '2.7',\n",
       " '2.8',\n",
       " '2.9',\n",
       " '2.10',\n",
       " '2.11',\n",
       " '2.12',\n",
       " '2.13',\n",
       " '2.14',\n",
       " '2.15',\n",
       " '2.16',\n",
       " '2.17',\n",
       " '2.18',\n",
       " '2.19',\n",
       " '2.20',\n",
       " '2.21',\n",
       " '2.22',\n",
       " '2.23',\n",
       " '2.24',\n",
       " '2.25',\n",
       " '2.26',\n",
       " '2.27',\n",
       " '2.28',\n",
       " '2.29',\n",
       " '2.30',\n",
       " '2.31',\n",
       " '2.32',\n",
       " '2.33',\n",
       " '2.34',\n",
       " '2.35',\n",
       " '2.36',\n",
       " '2.37',\n",
       " '2.38',\n",
       " '2.39',\n",
       " '2.40',\n",
       " '2.41',\n",
       " '2.42',\n",
       " '2.43',\n",
       " '2.44',\n",
       " '2.45',\n",
       " '2.46',\n",
       " '70.0.3538.16',\n",
       " '70.0.3538.67',\n",
       " '70.0.3538.97',\n",
       " '71.0.3578.30',\n",
       " '71.0.3578.33',\n",
       " '71.0.3578.80',\n",
       " '71.0.3578.137',\n",
       " '72.0.3626.7',\n",
       " '72.0.3626.69',\n",
       " '73.0.3683.20',\n",
       " '73.0.3683.68',\n",
       " '74.0.3729.6',\n",
       " '75.0.3770.8',\n",
       " '75.0.3770.90',\n",
       " '75.0.3770.140',\n",
       " '76.0.3809.12',\n",
       " '76.0.3809.25',\n",
       " '76.0.3809.68',\n",
       " '76.0.3809.126',\n",
       " '77.0.3865.10',\n",
       " '77.0.3865.40',\n",
       " '78.0.3904.11']"
      ]
     },
     "execution_count": 29,
     "metadata": {},
     "output_type": "execute_result"
    }
   ],
   "source": [
    "version_list"
   ]
  },
  {
   "cell_type": "code",
   "execution_count": null,
   "metadata": {},
   "outputs": [],
   "source": []
  }
 ],
 "metadata": {
  "kernelspec": {
   "display_name": "Python 3",
   "language": "python",
   "name": "python3"
  },
  "language_info": {
   "codemirror_mode": {
    "name": "ipython",
    "version": 3
   },
   "file_extension": ".py",
   "mimetype": "text/x-python",
   "name": "python",
   "nbconvert_exporter": "python",
   "pygments_lexer": "ipython3",
   "version": "3.7.3"
  }
 },
 "nbformat": 4,
 "nbformat_minor": 2
}
